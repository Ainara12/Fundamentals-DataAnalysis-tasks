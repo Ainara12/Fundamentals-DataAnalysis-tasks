{
 "cells": [
  {
   "cell_type": "markdown",
   "metadata": {},
   "source": [
    "\n",
    "\n",
    "## Fundamentals of Data Analysis  MODULE TASKS 2020\n",
    "\n",
    "In this notebook I am listing the 4 tasks to complete for this Fundamentals of Data Analysis module.\n",
    "\n",
    "\n"
   ]
  },
  {
   "cell_type": "markdown",
   "metadata": {},
   "source": [
    "### Task 1. 'Counts':\n",
    "\n",
    "\n",
    "*For this module's first task I am playing around with Jupyter Notebooks by creating a function called 'Counts' \n",
    "which takes a list as input and returns a dictionary of unique items in the list as keys and the number of times each item appears as values.We are not allowed to use built in modules.*\n",
    "\n",
    "***\n",
    "References\n",
    "\n",
    "- [Count methods for strings](https://www.programiz.com/python-programming/methods/string/count#:~:text=In%20simple%20words%2C%20count(),string.)\n",
    "\n",
    "- [Declare an empty list in Python](https://www.geeksforgeeks.org/declare-an-empty-list-in-python/)\n",
    "\n",
    "- [Real Python-sorting algorithms documentation](https://realpython.com/sorting-algorithms-python/)\n",
    "\n",
    "- [Python Inner Functions](https://www.geeksforgeeks.org/python-inner-functions/)\n",
    "\n",
    "- [Python list sorting methods](https://www.programiz.com/python-programming/methods/built-in/sorted)"
   ]
  },
  {
   "cell_type": "code",
   "execution_count": 1,
   "metadata": {},
   "outputs": [],
   "source": [
    "#Checking some questions in: https://stackoverflow.com/questions/28966495/python-counting-letters-in-string-without-count-function\n",
    "# I found part of this code that I modified to try to sort out the problem we have\n",
    "\n",
    "\n"
   ]
  },
  {
   "cell_type": "code",
   "execution_count": 2,
   "metadata": {},
   "outputs": [
    {
     "name": "stdout",
     "output_type": "stream",
     "text": [
      "['A', 'B', 'D', 'D']\n"
     ]
    }
   ],
   "source": [
    "\n",
    "#After consulting different sources and documentation I have come up with this formula printing the sorted list \n",
    "\n",
    "\n",
    "def sorted_list(mylist):\n",
    "    sortedresult=(sorted(mylist))#I set up the result of this function to be the list entered ordeder with sorted method\n",
    "    for letter in mylist:\n",
    "        length=0\n",
    "        if letter == mylist:\n",
    "            count = count + 1 \n",
    "            \n",
    "\n",
    "        else:\n",
    "            continue\n",
    "\n",
    "    return sortedresult\n",
    "\n",
    "print(sorted_list(['D','A','D','B']))\n",
    "\n",
    "#print(sorted_list(['F','G','A','B','B']))\n",
    "\n",
    "#Now for my dictionary which I need to print with values and keys as number of times\n",
    "#values repeat\n",
    "\n"
   ]
  },
  {
   "cell_type": "code",
   "execution_count": 3,
   "metadata": {},
   "outputs": [
    {
     "name": "stdout",
     "output_type": "stream",
     "text": [
      "{'D': 2, 'A': 1, 'B': 1}\n"
     ]
    }
   ],
   "source": [
    "#Using method listed here I am converting My list into a dictionary:\n",
    "\n",
    "'''https://www.geeksforgeeks.org/counting-the-frequencies-in-a-list-using-dictionary-in-python/'''\n",
    "\n",
    "# Python program to count the frequency of \n",
    "# elements in a list using a dictionary \n",
    "  \n",
    "def listtodict(mylist):     \n",
    "   # Creating an empty dictionary  \n",
    "    count = {} \n",
    "    for i in mylist: \n",
    "        count[i] = count.get(i, 0) + 1\n",
    "    return count \n",
    "  \n",
    "# Driver function \n",
    "if __name__ == \"__main__\":  \n",
    "    mylist =['D','A','D','B']\n",
    "    print(listtodict(mylist)) \n",
    "\n",
    "\n",
    "\n"
   ]
  },
  {
   "cell_type": "code",
   "execution_count": 4,
   "metadata": {},
   "outputs": [
    {
     "ename": "NameError",
     "evalue": "name 'user_input' is not defined",
     "output_type": "error",
     "traceback": [
      "\u001b[1;31m---------------------------------------------------------------------------\u001b[0m",
      "\u001b[1;31mNameError\u001b[0m                                 Traceback (most recent call last)",
      "\u001b[1;32m<ipython-input-4-ec9d960682d7>\u001b[0m in \u001b[0;36m<module>\u001b[1;34m\u001b[0m\n\u001b[0;32m     28\u001b[0m \u001b[1;33m\u001b[0m\u001b[0m\n\u001b[0;32m     29\u001b[0m \u001b[1;33m\u001b[0m\u001b[0m\n\u001b[1;32m---> 30\u001b[1;33m \u001b[0mprint\u001b[0m\u001b[1;33m(\u001b[0m\u001b[0mcounts\u001b[0m\u001b[1;33m(\u001b[0m\u001b[0muser_input\u001b[0m\u001b[1;33m)\u001b[0m\u001b[1;33m)\u001b[0m\u001b[1;33m\u001b[0m\u001b[1;33m\u001b[0m\u001b[0m\n\u001b[0m\u001b[0;32m     31\u001b[0m \u001b[1;33m\u001b[0m\u001b[0m\n\u001b[0;32m     32\u001b[0m \u001b[1;33m\u001b[0m\u001b[0m\n",
      "\u001b[1;31mNameError\u001b[0m: name 'user_input' is not defined"
     ]
    }
   ],
   "source": [
    "#Now I need to nest both functions here to get a sorted list which converts into a dictionary counting the frequencies of every value\n",
    "#we enter\n",
    "\n",
    "\n",
    "\n",
    "def counts(user_input):\n",
    "     #Code to run this function   \n",
    "    user_input= input('Please enter a list of elements:' )\n",
    "       \n",
    "    def sorted_list(mylist):\n",
    "        mylist=user_input\n",
    "        sortedresult=(sorted(mylist))#I set up the result of this function to be the list entered ordeder with sorted method\n",
    "        for letter in mylist:\n",
    "            length=0\n",
    "            if letter == mylist:\n",
    "                count = count + 1 \n",
    "            else:\n",
    "                break\n",
    "\n",
    "        return sortedresult   #I set up the result of this function to be the list entered ordeder with sorted method\n",
    "        \n",
    "    def listtodict(mylist):     \n",
    "   # Creating an empty dictionary \n",
    "            dcount={}\n",
    "            for i in mylist:\n",
    "                dcount[i] = dcount.get(i, 0) + 1\n",
    "                return dcount\n",
    "            \n",
    "            \n",
    "print(counts(user_input))\n",
    "       \n",
    "       \n",
    "\n"
   ]
  },
  {
   "cell_type": "markdown",
   "metadata": {},
   "source": [
    "<br>\n",
    "\n",
    "Now that we have a sorting solution without importing any modules I am trying a solution to count the letters and print them as dictionary which I found in this [post](https://stackoverflow.com/questions/30963408/count-occurrences-of-each-key-in-python-dictionary)."
   ]
  },
  {
   "cell_type": "code",
   "execution_count": null,
   "metadata": {},
   "outputs": [],
   "source": [
    "#Printing solution into a dictionary counting occurences\n",
    "\n",
    "\n",
    "def sorted_list(mylist):\n",
    "        mylist=['B','C','A','A']\n",
    "        sortedresult=(sorted(mylist))#I set up the result of this function to be the list entered ordeder with sorted method\n",
    "        while letter in mylist:\n",
    "            length=0\n",
    "            if letter == mylist:\n",
    "                count = count + 1 \n",
    "            else:\n",
    "                break\n",
    "\n",
    "        return sortedresult\n",
    "            continue\n",
    "            for sortedresult in mylist:\n",
    "                  if letter in k:\n",
    "                    result[k['sign']] = result.get(k['sign'], 0) + 1 result\n",
    "\n",
    "    \n",
    "print(sorted_list(mylist))\n",
    "    "
   ]
  },
  {
   "cell_type": "code",
   "execution_count": null,
   "metadata": {},
   "outputs": [],
   "source": [
    "#Example code for inner or nested functions as shown in one of my references detailed above: \n",
    "\n",
    "def outerFunction(text):  \n",
    "    text = text  \n",
    "    \n",
    "    def innerFunction():  \n",
    "        print(text)  \n",
    "    \n",
    "    innerFunction()  \n",
    "    \n",
    "if __name__ == '__main__':  \n",
    "    outerFunction('Hey !')  \n",
    "    \n",
    "    \n",
    "    \n",
    "print(outerFunction('Hiya!'))\n",
    "\n",
    "#Now trying this with my previous functions: \n",
    "\n",
    "#using this reference: https://www.youtube.com/watch?v=fVon4QaY4wo&ab_channel=TrevorPayne \n",
    "    "
   ]
  },
  {
   "cell_type": "code",
   "execution_count": null,
   "metadata": {},
   "outputs": [],
   "source": [
    "#Trying my previous functions as inner functions(THIS IS THE GOOD\n",
    "#one)\n",
    "mylist=[]\n",
    "Dictresult={} #I set my empty dictionary to print result of function\n",
    "\n",
    "def sorted_list(mylist):\n",
    "    result=(sorted(mylist))#I set up the result of this function to be the list entered ordeder with sorted method\n",
    "    for letter in mylist:\n",
    "        length=0\n",
    "        if letter == mylist:\n",
    "            count = count + 1 \n",
    "        else:\n",
    "            continue\n",
    "\n",
    "    return result\n",
    "    \n",
    "    \n",
    "    print(sorted_list(['B','C','A','B']))"
   ]
  },
  {
   "cell_type": "code",
   "execution_count": null,
   "metadata": {},
   "outputs": [],
   "source": [
    "\n",
    "\n",
    "def count_letters(my_letter):\n",
    "    count = 0\n",
    "    userList=str\n",
    "\n",
    "    for i in userList:\n",
    "        if i == my_letter:\n",
    "            count = count + 1\n",
    "\n",
    "        else:\n",
    "            continue\n",
    "\n",
    "    return (count)\n",
    "\n",
    "print(count_letters('ArrA'))\n",
    "            \n",
    "        \n",
    "        \n",
    "    "
   ]
  },
  {
   "cell_type": "code",
   "execution_count": null,
   "metadata": {
    "scrolled": true
   },
   "outputs": [],
   "source": [
    "#nesting functions:\n",
    "\n",
    "\n",
    "\n"
   ]
  },
  {
   "cell_type": "markdown",
   "metadata": {},
   "source": []
  },
  {
   "cell_type": "markdown",
   "metadata": {},
   "source": [
    "### Task 2. 'Dicerolls':\n",
    "\n",
    "For this task we are asked to create a function called 'dicerolls' that simulates a rolling dice. The function takes 2 parameters number of dice 'k' and the number of times to roll the dice 'n'. Function will simulate randomly rolling dice and keep track of each total face value\n",
    "so it then returns a dictionary with the number of times each possible total face value occurred. \n",
    "\n",
    "\n",
    "References:\n",
    "\n",
    "- [numpy.random.randint documentation](https://numpy.org/doc/stable/reference/random/generated/numpy.random.randint.html?highlight=random%20randint#numpy.random.randint)\n",
    "\n",
    "- [Random library documentation](https//docs.python.org/3.1/library/random.html)\n",
    "\n",
    "- [How to roll a dice with Python](https://medium.com/@diskokarl/how-to-roll-dice-with-python-34865d83f53d)\n",
    "\n",
    "  "
   ]
  },
  {
   "cell_type": "code",
   "execution_count": null,
   "metadata": {},
   "outputs": [],
   "source": [
    "\n",
    "\n",
    "def dice(k,n):\n",
    "    i = 0\n",
    "    diceroll= np.random.randint(1,6)\n",
    "    for i in range(n):\n",
    "        if k>= 1  and n>=1:\n",
    "            return diceroll (size=(n,6))\n",
    "        if k<1 and n<1:\n",
    "            print('These values are incorrect , please enter numbers in range 1-6')\n",
    "        \n",
    "\n",
    "\n",
    "\n",
    "print(dice(-1,-1))\n",
    "    \n",
    "\n",
    "    "
   ]
  },
  {
   "cell_type": "code",
   "execution_count": null,
   "metadata": {},
   "outputs": [],
   "source": [
    "#defining variables:\n",
    "from collections import defaultdict\n",
    "import numpy as np\n",
    "import random \n",
    "\n",
    "\n",
    "diceNumber = int(input('Choose number of dice:   '))\n",
    "rolls = int(input('How many times do you want to roll the dice(s)? : ' ))\n",
    "\n",
    "\n",
    "sides = np.random.randint(1,6)\n",
    "\n",
    "d = defaultdict(int)\n",
    "\n",
    "for i in range(rolls):\n",
    "        d[sum( np.random.choice(sides) for d in range(diceNumber) )] += 1\n",
    "total = float(rolls)\n",
    "\n",
    "for k in sorted(d.keys()):\n",
    "        print((k, d[k], 100.0*d[k]/total))\n",
    "                \n",
    "    \n",
    "        #Took part of the code from this source: https://stackoverflow.com/questions/6576367/python-dice-simulator\n",
    "        #Consulted documentation about default dict: https://www.geeksforgeeks.org/defaultdict-in-python/\n",
    "        #Need to find a way to convert this outcome into a dictionary with the outcomes frequencies. \n"
   ]
  },
  {
   "cell_type": "code",
   "execution_count": null,
   "metadata": {},
   "outputs": [],
   "source": [
    "#using the function above I am going to add the counter function created in task 1 to return  a dictionary with the values for each time\n",
    "#every outcome happens shown:\n",
    "\n",
    "dict_headresults={} #empty dictionary created same as task 1\n",
    "diceroll=\n",
    "while coinflips> 0:\n",
    "        dict_headresults[coinflips] = 0\n",
    "        coinflips -= 1\n",
    "        \"https://stackoverflow.com/questions/9001509/how-can-i-sort-a-dictionary-by-key\"\n",
    "        dict_headresults = dict(sorted(dict_headresults.items()))\n",
    "print(dict_headresults)\n",
    "  \n",
    "def dictcount(mylist):     \n",
    "   # Creating an empty dictionary  \n",
    "    count = {} \n",
    "    for i in mylist: \n",
    "        count[i] = count.get(i, 0) + 1\n",
    "    return count "
   ]
  },
  {
   "cell_type": "markdown",
   "metadata": {},
   "source": [
    "### Task 3. 'Flipping coins':\n",
    "\n",
    "Taking into account the numpy.random.binomial function which can be used to mimic the flipping of a coin with 50/50 chance of heads or tails. \n",
    "Write some python code that simulates flipping a coin 100 times. Then run this code 1,000 times, keeping track of the number of heads in each of the 1,000 simulations. Select an appropriate plot to depict the resulting list of 1,000 numbers, showing that it roughly follows a bell-shaped curve. You should explain your work in a Markdown cell above the\n",
    "code.\n",
    "\n",
    "***\n",
    "References:\n",
    "\n",
    "- [Numpy random binomial function documentation](https://numpy.org/doc/stable/reference/random/generated/numpy.random.binomial.html)\n",
    "- [Using numpy equal function](https://numpy.org/doc/stable/reference/generated/numpy.equal.html)\n",
    "- [Simulating coin toss experiment](https://cmdlinetips.com/2018/12/simulating-coin-toss-experiment-with-binomial-random-numbers-using-numpy/)\n",
    "- [Seaborn distplot documentation](https://seaborn.pydata.org/generated/seaborn.distplot.html)\n",
    "- [Coin flipping dice](https://towardsdatascience.com/how-to-code-a-fair-coin-flip-in-python-d54312f33da9)\n",
    "- [Sorting dictionaries by key](https://stackoverflow.com/questions/9001509/how-can-i-sort-a-dictionary-by-key)\n",
    "- [Dictionary methods](https://www.w3schools.com/python/python_ref_dictionary.asp)\n",
    "- [Getting Key by value in dictionary](https://stackoverflow.com/questions/8023306/get-key-by-value-in-dictionary)\n",
    "- [Working with dictionaries in Python tutorial](https://www.youtube.com/watch?v=daefaLgNkw0&ab_channel=CoreySchafer)\n",
    "***\n",
    "\n"
   ]
  },
  {
   "cell_type": "markdown",
   "metadata": {},
   "source": [
    "In order to create this code , first I am experimenting with this function using simpler numbers . I experimented how to use numpy random binomial to flip a coin once and repeating this 100 times. I considered here that 'p' was 0.5 so this is a fair coin: "
   ]
  },
  {
   "cell_type": "code",
   "execution_count": null,
   "metadata": {},
   "outputs": [],
   "source": [
    "%matplotlib inline"
   ]
  },
  {
   "cell_type": "code",
   "execution_count": 5,
   "metadata": {},
   "outputs": [
    {
     "name": "stdout",
     "output_type": "stream",
     "text": [
      "[0 1 1 1 0 0 0 1 1 1 0 1 1 0 0 0 0 1 0 0 1 0 0 0 0 1 0 1 1 0 1 0 0 1 1 1 0\n",
      " 0 1 0 0 0 0 1 0 1 0 1 1 0 1 1 1 1 1 1 0 0 0 0 0 0 1 0 0 1 0 1 0 1 1 0 0 1\n",
      " 1 1 1 0 0 0 1 1 0 0 0 0 1 1 1 0 0 1 1 1 1 0 1 0 0 0]\n"
     ]
    },
    {
     "data": {
      "image/png": "[encoded data removed]",
      "text/plain": [
       "<Figure size 432x288 with 1 Axes>"
      ]
     },
     "metadata": {
      "needs_background": "light"
     },
     "output_type": "display_data"
    }
   ],
   "source": [
    "#I imported the necessary modules to create this and to plot the results: \n",
    "import numpy as np\n",
    "import matplotlib.pyplot as plt \n",
    "import seaborn as sns\n",
    "\n",
    "np.random.seed(42) #Usig random seed to keep same numbers for these examples\n",
    "\n",
    "n=1 #This is the number of heads\n",
    "p=0.5 #Probability, in this case 50/50 \n",
    "coin = np.random.binomial(n, p, 100)\n",
    "# result of flipping coin once tested 100 times(Number of heads)\n",
    "\n",
    "print (coin)\n",
    "\n",
    "#Plotting result\n",
    "\n",
    "plt.style.use('bmh')\n",
    "sns.distplot(coin)\n",
    "\n",
    "\n",
    "plt.show()\n"
   ]
  },
  {
   "cell_type": "markdown",
   "metadata": {},
   "source": [
    "Now I modified 'p' to add some bias to the result, we select 'p<0.5' to produce more tails than heads:"
   ]
  },
  {
   "cell_type": "code",
   "execution_count": 6,
   "metadata": {},
   "outputs": [
    {
     "name": "stdout",
     "output_type": "stream",
     "text": [
      "[0 1 0 0 1 0 0 1 0 0 0 0 1 1 1 1 1 0 1 0 1 1 0 0 0 0 1 1 0 0 0 0 0 0 1 0 0\n",
      " 1 0 1 1 0 0 0 0 0 1 0 0 0 1 0 0 0 1 0 1 1 0 1 0 1 1 0 0 1 0 0 0 0 1 0 0 0\n",
      " 1 0 1 0 1 0 0 0 1 1 0 1 1 0 0 0 0 1 1 1 0 0 1 1 1 1]\n"
     ]
    },
    {
     "data": {
      "text/plain": [
       "<matplotlib.axes._subplots.AxesSubplot at 0x2a0b0fa0670>"
      ]
     },
     "execution_count": 6,
     "metadata": {},
     "output_type": "execute_result"
    },
    {
     "data": {
      "image/png": "[encoded data removed]",
      "text/plain": [
       "<Figure size 432x288 with 1 Axes>"
      ]
     },
     "metadata": {
      "needs_background": "light"
     },
     "output_type": "display_data"
    }
   ],
   "source": [
    "\n",
    "\n",
    "n = 1\n",
    "p = 0.4\n",
    "\n",
    "coin=np.random.binomial(n, p, 100)\n",
    "\n",
    "print(coin)\n",
    "\n",
    "sns.distplot(coin)\n"
   ]
  },
  {
   "cell_type": "markdown",
   "metadata": {},
   "source": [
    "Now I am creating a function that simulates the flip of a coin 100 times and repeat this experiment for 1000 times ( or any times you add to the parameters below) , once this is done you can see the distribution in a plot which should present a bell shape. \n"
   ]
  },
  {
   "cell_type": "code",
   "execution_count": 7,
   "metadata": {},
   "outputs": [
    {
     "name": "stdout",
     "output_type": "stream",
     "text": [
      "50\n"
     ]
    }
   ],
   "source": [
    "\n",
    "#First I created my variables. I assumed that the probability is 0.5 for this case: \n",
    "n=100\n",
    "p=0.5\n",
    "coin=np.random.binomial(n,p)\n",
    "print(coin)\n",
    "\n"
   ]
  },
  {
   "cell_type": "code",
   "execution_count": 8,
   "metadata": {},
   "outputs": [
    {
     "name": "stdout",
     "output_type": "stream",
     "text": [
      "{1: 0, 2: 0, 3: 0, 4: 0, 5: 0, 6: 0, 7: 0, 8: 0, 9: 0, 10: 0, 11: 0, 12: 0, 13: 0, 14: 0, 15: 0, 16: 0, 17: 0, 18: 0, 19: 0, 20: 0, 21: 0, 22: 0, 23: 0, 24: 0, 25: 0, 26: 0, 27: 0, 28: 0, 29: 0, 30: 0, 31: 0, 32: 0, 33: 0, 34: 0, 35: 0, 36: 0, 37: 0, 38: 0, 39: 0, 40: 0, 41: 0, 42: 0, 43: 0, 44: 0, 45: 0, 46: 0, 47: 0, 48: 0, 49: 0, 50: 0, 51: 0, 52: 0, 53: 0, 54: 0, 55: 0, 56: 0, 57: 0, 58: 0, 59: 0, 60: 0, 61: 0, 62: 0, 63: 0, 64: 0, 65: 0, 66: 0, 67: 0, 68: 0, 69: 0, 70: 0, 71: 0, 72: 0, 73: 0, 74: 0, 75: 0, 76: 0, 77: 0, 78: 0, 79: 0, 80: 0, 81: 0, 82: 0, 83: 0, 84: 0, 85: 0, 86: 0, 87: 0, 88: 0, 89: 0, 90: 0, 91: 0, 92: 0, 93: 0, 94: 0, 95: 0, 96: 0, 97: 0, 98: 0, 99: 0, 100: 0}\n"
     ]
    }
   ],
   "source": [
    "#Creating a dictionary to store head results\n",
    "\n",
    "dict_headresults={} #empty dictionary created same as task 1\n",
    "coinflips=100 #set up the number of coin flips we are doing\n",
    "while coinflips>0:#while the coin is being flipped \n",
    "        dict_headresults[coinflips]= 0\n",
    "        coinflips -= 1\n",
    "        dict_headresults=dict(sorted(dict_headresults.items()))\n",
    "        \n",
    "print(dict_headresults)"
   ]
  },
  {
   "cell_type": "markdown",
   "metadata": {},
   "source": [
    "The while loop above has created a dictionary to store the head flips, as per consulted on this [post](https://stackoverflow.com/questions/9001509/how-can-i-sort-a-dictionary-by-key).Now below I am doing the same running it for 1000 times as task is requesting.\n",
    "\n",
    "I am using one of the dictionary methods from this [source](https://www.w3schools.com/python/python_ref_dictionary.asp), to update the dictionary."
   ]
  },
  {
   "cell_type": "code",
   "execution_count": 9,
   "metadata": {},
   "outputs": [
    {
     "name": "stdout",
     "output_type": "stream",
     "text": [
      "{1: 0, 2: 0, 3: 0, 4: 0, 5: 0, 6: 0, 7: 0, 8: 0, 9: 0, 10: 0, 11: 0, 12: 0, 13: 0, 14: 0, 15: 0, 16: 0, 17: 0, 18: 0, 19: 0, 20: 0, 21: 0, 22: 0, 23: 0, 24: 0, 25: 0, 26: 0, 27: 0, 28: 0, 29: 0, 30: 0, 31: 0, 32: 0, 33: 0, 34: 0, 35: 0, 36: 0, 37: 0, 38: 0, 39: 0, 40: 0, 41: 0, 42: 0, 43: 0, 44: 0, 45: 0, 46: 0, 47: 0, 48: 0, 49: 0, 50: 0, 51: 0, 52: 0, 53: 0, 54: 0, 55: 0, 56: 0, 57: 0, 58: 0, 59: 0, 60: 0, 61: 0, 62: 0, 63: 0, 64: 0, 65: 0, 66: 0, 67: 0, 68: 0, 69: 0, 70: 0, 71: 0, 72: 0, 73: 0, 74: 0, 75: 0, 76: 0, 77: 0, 78: 0, 79: 0, 80: 0, 81: 0, 82: 0, 83: 0, 84: 0, 85: 0, 86: 0, 87: 0, 88: 0, 89: 0, 90: 0, 91: 0, 92: 0, 93: 0, 94: 0, 95: 0, 96: 0, 97: 0, 98: 0, 99: 0, 100: 0}\n",
      "Dictionary of Results: {1: 0, 2: 0, 3: 0, 4: 0, 5: 0, 6: 0, 7: 0, 8: 0, 9: 0, 10: 0, 11: 0, 12: 0, 13: 0, 14: 0, 15: 0, 16: 0, 17: 0, 18: 0, 19: 0, 20: 0, 21: 0, 22: 0, 23: 0, 24: 0, 25: 0, 26: 0, 27: 0, 28: 0, 29: 0, 30: 0, 31: 0, 32: 0, 33: 0, 34: 0, 35: 0, 36: 1, 37: 1, 38: 1, 39: 6, 40: 12, 41: 24, 42: 19, 43: 31, 44: 30, 45: 44, 46: 76, 47: 57, 48: 89, 49: 86, 50: 81, 51: 59, 52: 79, 53: 61, 54: 60, 55: 41, 56: 42, 57: 30, 58: 21, 59: 16, 60: 19, 61: 8, 62: 1, 63: 2, 64: 2, 65: 0, 66: 0, 67: 1, 68: 0, 69: 0, 70: 0, 71: 0, 72: 0, 73: 0, 74: 0, 75: 0, 76: 0, 77: 0, 78: 0, 79: 0, 80: 0, 81: 0, 82: 0, 83: 0, 84: 0, 85: 0, 86: 0, 87: 0, 88: 0, 89: 0, 90: 0, 91: 0, 92: 0, 93: 0, 94: 0, 95: 0, 96: 0, 97: 0, 98: 0, 99: 0, 100: 0}\n"
     ]
    }
   ],
   "source": [
    "\n",
    "\n",
    "counter=1000 #adding counter for the number of experiments/tests to be done , in this case 1000\n",
    "dict_headresults={} \n",
    "\n",
    "dict_headresults={}\n",
    "coinflips=100\n",
    "while coinflips>0:#While there is a coin flip happening \n",
    "        dict_headresults[coinflips]=0 #results will equal to 0\n",
    "        coinflips-=1\n",
    "        dict_headresults=dict(sorted(dict_headresults.items()))\n",
    "print(dict_headresults)\n",
    "\n",
    "while counter>0:\n",
    "    n=100\n",
    "    p=0.5\n",
    "    headcoin=np.random.binomial(n,p)\n",
    "    \n",
    "    #Using this function I update the dictionaty with the specified key-value pairs coming from np random binomial\n",
    "    update=(headcoin)\n",
    "    dict_value=dict_headresults.get(update)\n",
    "    dict_headresults[update]=dict_value+1\n",
    "    \n",
    "    counter -= 1\n",
    "\n",
    "print(\"Dictionary of Results:\",dict_headresults)\n"
   ]
  },
  {
   "cell_type": "markdown",
   "metadata": {},
   "source": [
    "Now to drop 0 and find the keys in dictionary which match with heads, I follow these steps found in this [documentation](https://stackoverflow.com/questions/8023306/get-key-by-value-in-dictionary)."
   ]
  },
  {
   "cell_type": "code",
   "execution_count": 10,
   "metadata": {},
   "outputs": [
    {
     "name": "stdout",
     "output_type": "stream",
     "text": [
      "Final list of heads when coin flipped 100 times during 1000 tests:\n",
      "{36: 1, 37: 1, 38: 1, 39: 6, 40: 12, 41: 24, 42: 19, 43: 31, 44: 30, 45: 44, 46: 76, 47: 57, 48: 89, 49: 86, 50: 81, 51: 59, 52: 79, 53: 61, 54: 60, 55: 41, 56: 42, 57: 30, 58: 21, 59: 16, 60: 19, 61: 8, 62: 1, 63: 2, 64: 2, 67: 1}\n"
     ]
    }
   ],
   "source": [
    "\n",
    "#taking the head results obtained in previous function.\n",
    "\n",
    "for key, value in dict_headresults.copy().items():  # for name, age in dictionary.iteritems():  (for Python 2.x)\n",
    "    if value == 0:\n",
    "         del dict_headresults[key]\n",
    "#got an error \"Runtime: dictionary changed size during iteration\" so following these guidelines\n",
    "#I changed function for getting a copy of the items   \n",
    "print('Final list of heads when coin flipped 100 times during 1000 tests:')\n",
    "print(dict_headresults) "
   ]
  },
  {
   "cell_type": "code",
   "execution_count": 11,
   "metadata": {
    "scrolled": true
   },
   "outputs": [
    {
     "name": "stdout",
     "output_type": "stream",
     "text": [
      "dict_keys([36, 37, 38, 39, 40, 41, 42, 43, 44, 45, 46, 47, 48, 49, 50, 51, 52, 53, 54, 55, 56, 57, 58, 59, 60, 61, 62, 63, 64, 67])\n",
      "dict_values([1, 1, 1, 6, 12, 24, 19, 31, 30, 44, 76, 57, 89, 86, 81, 59, 79, 61, 60, 41, 42, 30, 21, 16, 19, 8, 1, 2, 2, 1])\n"
     ]
    }
   ],
   "source": [
    "#I declared variables for keys and values\n",
    "keys = dict_headresults.keys()\n",
    "values = dict_headresults.values()\n",
    "\n",
    "print(keys)\n",
    "print(values)"
   ]
  },
  {
   "cell_type": "markdown",
   "metadata": {},
   "source": [
    "<br>\n",
    "\n",
    "Now I am plotting this values to confirm wether the shape of this graphic is similar to a bell as the theory suggests."
   ]
  },
  {
   "cell_type": "code",
   "execution_count": 13,
   "metadata": {},
   "outputs": [
    {
     "data": {
      "image/png": "[encoded data removed]",
      "text/plain": [
       "<Figure size 432x288 with 1 Axes>"
      ]
     },
     "metadata": {
      "needs_background": "light"
     },
     "output_type": "display_data"
    }
   ],
   "source": [
    "\n",
    "#Using matplotlib:\n",
    "\n",
    "x=[34, 35, 36, 37, 38, 39, 40, 41, 42, 43, 44, 45, 46, 47, 48, 49, 50, 51, 52, 53, 54, 55, 56, 57, 58, 59, 60, 61, 62, 63, 64, 65]\n",
    "y=[2, 2, 3, 2, 2, 2, 14, 15, 19, 31, 36, 53, 46, 84, 68, 60, 83, 81, 71, 72, 66, 54, 43, 23, 25, 10, 12, 6, 6, 2, 6, 1]\n",
    "\n",
    "plt.plot(x,y)\n",
    "\n",
    "plt.xlabel('Heads')\n",
    "plt.ylabel('Total of tests with this result')\n",
    "plt.title('Results of 1000 test for 100 coin flips')\n",
    "\n",
    "plt.show()\n",
    "\n"
   ]
  },
  {
   "cell_type": "markdown",
   "metadata": {},
   "source": [
    "<br>\n",
    "We can see that the distribution of these 1000 test for 100 fair coin flips, resembles a bell-shaped curve. "
   ]
  },
  {
   "cell_type": "markdown",
   "metadata": {},
   "source": [
    "<br>\n",
    "\n",
    "### Task 4.'Simpson's paradox':\n",
    "\n",
    "Simpson’s paradox is a well-known statistical paradox where a trend evident in a number of groups reverses when the groups are combined into one big data set. Use numpy to create four data sets, each with an x array and a corresponding y array, to demonstrate Simpson’s paradox. \n",
    "You might create your x arrays using numpy.linspace and create the y array for each x using notation like y = a * x + b where you choose the a and b for each x , y pair to demonstrate the paradox. You might see the Wikipedia page for Simpson’s paradox for inspiration.\n",
    "***\n",
    "References:\n",
    "\n",
    "- [Simpson's paradox Wikipedia page]()\n",
    "- [Generating examples of Simpson's paradox](http://www.degeneratestate.org/posts/2017/Oct/22/generating-examples-of-simpsons-paradox/)\n",
    "- [Simpson's paradox](https://www.kaggle.com/saicataram/simpson-s-paradox-in-python)\n",
    "- [Pandas categorical data documentation](https://pandas.pydata.org/pandas-docs/stable/user_guide/categorical.html)\n",
    "- [Time series tutorial using pandas](https://www.datacamp.com/community/tutorials/time-series-analysis-tutorial)\n",
    "- [Example used for Simpson's paradox demonstration](https://www.ncbi.nlm.nih.gov/pmc/articles/PMC5936043/)\n",
    "- [Statistics library in Python](https://docs.python.org/3/library/statistics.html)\n",
    "***\n",
    "\n"
   ]
  },
  {
   "attachments": {
    "Simpson's%20paradox%20example%20table.png": {
     "image/png": "[encoded data removed]"
    }
   },
   "cell_type": "markdown",
   "metadata": {},
   "source": [
    "<br>\n",
    "\n",
    "In order to demosntrate this paradox I am using one example from [page](https://www.ncbi.nlm.nih.gov/pmc/articles/PMC5936043/). See contingency table below.\n",
    "\n",
    "![Simpson's%20paradox%20example%20table.png](attachment:Simpson's%20paradox%20example%20table.png)\n",
    "\n",
    "Considering we have 4th grade students of two schools (Alpha and Beta), participating in a math test. We want to compare the average scores of these 2 schools. We assume that we were told than the Beta male and female school average scores are higher than those in Alpha. Can we demosntrate that this is true?  At first glance it might look like that but calculating the overall score in both schools, Alpha wins with 83.2. \n",
    "Let's see how to reproduce this with Python. "
   ]
  },
  {
   "cell_type": "code",
   "execution_count": 14,
   "metadata": {},
   "outputs": [],
   "source": [
    "#Creating data set: \n",
    "\n",
    "#Importing necessary modules specific for this task\n",
    "\n",
    "import numpy as np\n",
    "import random \n",
    "import pandas as pd\n",
    "import matplotlib as plt\n",
    "import seaborn as sns\n",
    "\n",
    "#I will be using numpy random randint since we need positive integers, \n",
    "#Now im starting with the figures shown in the graphic above, creating a list for Alpha and Beta schools\n",
    "\n",
    "Alpha=[[84,80],[80,20]]#The first array corresponds to the male students while second are the female students\n",
    "Beta=[[85,20],[81,80]]\n"
   ]
  },
  {
   "cell_type": "markdown",
   "metadata": {},
   "source": [
    "<br>\n",
    "\n",
    "Now using 'statistics' library in Python I am going to cauclate the average and other metrics that I need. See code cells below:\n"
   ]
  },
  {
   "cell_type": "code",
   "execution_count": 20,
   "metadata": {},
   "outputs": [],
   "source": [
    "#separating males and females from both schools\n",
    "#dividing the arrays into male and female students for the two schools\n",
    "\n",
    "Alpha_school_male_students = Alpha[0] \n",
    "Alpha_school_female_students = Alpha[1] \n",
    "\n",
    "Beta_school_male_students = Beta[0]\n",
    "Beta_school_female_students = Beta[1]\n",
    "\n",
    "#print(Alpha_school_male_students)\n"
   ]
  },
  {
   "cell_type": "code",
   "execution_count": 21,
   "metadata": {},
   "outputs": [
    {
     "ename": "NameError",
     "evalue": "name 'A' is not defined",
     "output_type": "error",
     "traceback": [
      "\u001b[1;31m---------------------------------------------------------------------------\u001b[0m",
      "\u001b[1;31mNameError\u001b[0m                                 Traceback (most recent call last)",
      "\u001b[1;32m<ipython-input-21-96e08f7d8d83>\u001b[0m in \u001b[0;36m<module>\u001b[1;34m\u001b[0m\n\u001b[0;32m      1\u001b[0m \u001b[1;31m#Now I am using the lists to find the total of males and females in both schools:\u001b[0m\u001b[1;33m\u001b[0m\u001b[1;33m\u001b[0m\u001b[1;33m\u001b[0m\u001b[0m\n\u001b[0;32m      2\u001b[0m \u001b[1;33m\u001b[0m\u001b[0m\n\u001b[1;32m----> 3\u001b[1;33m \u001b[0mAlpha_school_male_percentage\u001b[0m \u001b[1;33m=\u001b[0m \u001b[0mAlpha\u001b[0m\u001b[1;33m[\u001b[0m\u001b[1;36m0\u001b[0m\u001b[1;33m]\u001b[0m\u001b[1;33m/\u001b[0m \u001b[0mA\u001b[0m\u001b[1;33m[\u001b[0m\u001b[1;36m0\u001b[0m\u001b[1;33m]\u001b[0m\u001b[1;33m[\u001b[0m\u001b[1;36m1\u001b[0m\u001b[1;33m]\u001b[0m\u001b[1;33m\u001b[0m\u001b[1;33m\u001b[0m\u001b[0m\n\u001b[0m\u001b[0;32m      4\u001b[0m \u001b[0mBeta_school_male_percentage\u001b[0m \u001b[1;33m=\u001b[0m \u001b[0mA\u001b[0m\u001b[1;33m[\u001b[0m\u001b[1;36m1\u001b[0m\u001b[1;33m]\u001b[0m\u001b[1;33m[\u001b[0m\u001b[1;36m0\u001b[0m\u001b[1;33m]\u001b[0m \u001b[1;33m/\u001b[0m \u001b[0mA\u001b[0m\u001b[1;33m[\u001b[0m\u001b[1;36m1\u001b[0m\u001b[1;33m]\u001b[0m\u001b[1;33m[\u001b[0m\u001b[1;36m1\u001b[0m\u001b[1;33m]\u001b[0m\u001b[1;33m\u001b[0m\u001b[1;33m\u001b[0m\u001b[0m\n",
      "\u001b[1;31mNameError\u001b[0m: name 'A' is not defined"
     ]
    }
   ],
   "source": [
    "#Now I am using the lists to find the total of males and females in both schools:\n",
    "\n",
    "Alpha_school_male_percentage = Alpha[0]/ A[0][1]\n",
    "Beta_school_male_percentage = A[1][0] / A[1][1]\n"
   ]
  },
  {
   "cell_type": "code",
   "execution_count": 25,
   "metadata": {},
   "outputs": [
    {
     "data": {
      "text/plain": [
       "array([[75, 81],\n",
       "       [57, 38],\n",
       "       [24, 33],\n",
       "       [81, 78]])"
      ]
     },
     "execution_count": 25,
     "metadata": {},
     "output_type": "execute_result"
    }
   ],
   "source": [
    "#Now I am simulating the trials taken in order to get to the above table conclusions , I am using numpy package\n",
    "\n",
    "#Alpha School\n",
    "\n",
    "alpha_male_students=np.random.randint(75,84)\n",
    "alpha_male_students_size=np.random.randint(80,84)\n",
    "alpha_female_students=np.random.randint(25,81)\n",
    "alpha_female_students_size=np.random.randint(20,82)\n",
    "\n",
    "#Beta School\n",
    "\n",
    "beta_male_students=np.random.randint(22,84)\n",
    "beta_male_students_size=np.random.randint(24,84)\n",
    "beta_female_students=np.random.randint(78,82)\n",
    "beta_female_students_size=np.random.randint(77,82)\n",
    "\n",
    "#Creating arrays now with these variables\n",
    "\n",
    "arr = np.array([[alpha_male_students,alpha_male_students_size], #Group 1\n",
    "                [alpha_female_students,alpha_female_students_size], #Group 3\n",
    "                [beta_male_students,beta_male_students_size], #Group 2\n",
    "                [beta_female_students,beta_female_students_size]]) #Group 4\n",
    "\n",
    "arr"
   ]
  },
  {
   "cell_type": "code",
   "execution_count": null,
   "metadata": {},
   "outputs": [],
   "source": [
    "\n"
   ]
  },
  {
   "cell_type": "code",
   "execution_count": null,
   "metadata": {},
   "outputs": [],
   "source": []
  },
  {
   "cell_type": "code",
   "execution_count": null,
   "metadata": {},
   "outputs": [],
   "source": [
    "\n"
   ]
  },
  {
   "cell_type": "markdown",
   "metadata": {},
   "source": []
  },
  {
   "cell_type": "code",
   "execution_count": null,
   "metadata": {},
   "outputs": [],
   "source": []
  },
  {
   "cell_type": "code",
   "execution_count": null,
   "metadata": {},
   "outputs": [],
   "source": []
  },
  {
   "cell_type": "code",
   "execution_count": null,
   "metadata": {},
   "outputs": [],
   "source": []
  }
 ],
 "metadata": {
  "kernelspec": {
   "display_name": "Python 3",
   "language": "python",
   "name": "python3"
  },
  "language_info": {
   "codemirror_mode": {
    "name": "ipython",
    "version": 3
   },
   "file_extension": ".py",
   "mimetype": "text/x-python",
   "name": "python",
   "nbconvert_exporter": "python",
   "pygments_lexer": "ipython3",
   "version": "3.8.3"
  }
 },
 "nbformat": 4,
 "nbformat_minor": 4
}
