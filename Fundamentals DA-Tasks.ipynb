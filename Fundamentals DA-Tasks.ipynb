{
 "cells": [
  {
   "cell_type": "markdown",
   "metadata": {},
   "source": [
    "\n",
    "\n",
    "## Fundamentals of Data Analysis  MODULE TASKS 2020\n",
    "\n",
    "In this notebook I am listing the 4 tasks to be completed for the Fundamentals of Data Analysis module.\n",
    "\n",
    "\n"
   ]
  },
  {
   "cell_type": "markdown",
   "metadata": {},
   "source": [
    "### Task 1. 'Counts':\n",
    "\n",
    "\n",
    "*For this module's first task I am playing around with Jupyter Notebooks by creating a function called 'Counts' \n",
    "which takes a list as input and returns a dictionary of unique items in the list as keys and the number of times each item appears as values.We are not allowed to use built in modules.*\n",
    "\n",
    "***\n",
    "References\n",
    "\n",
    "- [Count methods for strings](https://www.programiz.com/python-programming/methods/string/count#:~:text=In%20simple%20words%2C%20count(),string.)\n",
    "\n",
    "- [Declare an empty list in Python](https://www.geeksforgeeks.org/declare-an-empty-list-in-python/)\n",
    "\n",
    "- [Real Python-sorting algorithms documentation](https://realpython.com/sorting-algorithms-python/)\n",
    "\n",
    "- [Python Inner Functions](https://www.geeksforgeeks.org/python-inner-functions/)\n",
    "\n",
    "- [Python list sorting methods](https://www.programiz.com/python-programming/methods/built-in/sorted)\n",
    "\n",
    "- [Python counting frequencies in a list](https://www.geeksforgeeks.org/counting-the-frequencies-in-a-list-using-dictionary-in-python/)\n",
    "- [Convert list to dictionary](https://careerkarma.com/blog/python-convert-list-to-dictionary/#:~:text=To%20convert%20a%20list%20to%20a%20dictionary%20using%20the%20same,the%20Python%20zip()%20function.)"
   ]
  },
  {
   "cell_type": "code",
   "execution_count": 4,
   "metadata": {},
   "outputs": [
    {
     "name": "stdout",
     "output_type": "stream",
     "text": [
      "['A', 'B', 'D', 'D']\n"
     ]
    }
   ],
   "source": [
    "\n",
    "#After consulting different sources and documentation I have come up with this formula printing the sorted list \n",
    "\n",
    "\n",
    "def sorted_list(mylist):\n",
    "    sortedresult=(sorted(mylist))#I set up the result of this function to be the list entered ordeder with sorted method\n",
    "    for letter in mylist:\n",
    "        length=0\n",
    "        if letter == mylist:\n",
    "            count = count + 1 \n",
    "            \n",
    "\n",
    "        else:\n",
    "            continue\n",
    "\n",
    "    return sortedresult\n",
    "\n",
    "print(sorted_list(['D','A','D','B']))\n",
    "\n",
    "#Now for my dictionary which I need to print with values and keys as number of times a value repeats\n",
    "\n"
   ]
  },
  {
   "cell_type": "code",
   "execution_count": 2,
   "metadata": {},
   "outputs": [
    {
     "name": "stdout",
     "output_type": "stream",
     "text": [
      "{'D': 2, 'A': 1, 'B': 1}\n"
     ]
    }
   ],
   "source": [
    "#Using method listed here I am converting My list into a dictionary:\n",
    "\n",
    "'''https://www.geeksforgeeks.org/counting-the-frequencies-in-a-list-using-dictionary-in-python/'''\n",
    "\n",
    "# Python program to count the frequency of \n",
    "# elements in a list using a dictionary \n",
    "  \n",
    "def listtodict(mylist):     \n",
    "   # Creating an empty dictionary  \n",
    "    count = {} \n",
    "    for i in mylist: \n",
    "        count[i] = count.get(i, 0) + 1\n",
    "    return count \n",
    "  \n",
    "# Driver function \n",
    "if __name__ == \"__main__\":  \n",
    "    mylist =['D','A','D','B']\n",
    "    print(listtodict(mylist)) \n",
    "\n",
    "\n",
    "\n"
   ]
  },
  {
   "cell_type": "code",
   "execution_count": 5,
   "metadata": {},
   "outputs": [
    {
     "ename": "NameError",
     "evalue": "name 'user_input' is not defined",
     "output_type": "error",
     "traceback": [
      "\u001b[1;31m---------------------------------------------------------------------------\u001b[0m",
      "\u001b[1;31mNameError\u001b[0m                                 Traceback (most recent call last)",
      "\u001b[1;32m<ipython-input-5-35dce59af710>\u001b[0m in \u001b[0;36m<module>\u001b[1;34m\u001b[0m\n\u001b[0;32m     25\u001b[0m \u001b[1;33m\u001b[0m\u001b[0m\n\u001b[0;32m     26\u001b[0m \u001b[1;33m\u001b[0m\u001b[0m\n\u001b[1;32m---> 27\u001b[1;33m \u001b[0mprint\u001b[0m\u001b[1;33m(\u001b[0m\u001b[0mcounts\u001b[0m\u001b[1;33m(\u001b[0m\u001b[0muser_input\u001b[0m\u001b[1;33m)\u001b[0m\u001b[1;33m)\u001b[0m\u001b[1;33m\u001b[0m\u001b[1;33m\u001b[0m\u001b[0m\n\u001b[0m\u001b[0;32m     28\u001b[0m \u001b[1;33m\u001b[0m\u001b[0m\n\u001b[0;32m     29\u001b[0m \u001b[1;33m\u001b[0m\u001b[0m\n",
      "\u001b[1;31mNameError\u001b[0m: name 'user_input' is not defined"
     ]
    }
   ],
   "source": [
    "#Now I need to nest both functions here to get a sorted list which converts into a dictionary counting the \n",
    "#frequencies for every element we enter\n",
    "\n",
    "My_list=['A','D','C','A','C']\n",
    "\n",
    "def counts(My_list):\n",
    "\n",
    "    def sorted_list(mylist):\n",
    "        sortedresult=(sorted(My_list))#I set up the result of this function to be the list entered ordeder with sorted method\n",
    "        for letter in mylist:\n",
    "            length=0\n",
    "            if letter == mylist:\n",
    "                count = count + 1 \n",
    "            else:\n",
    "                break\n",
    "\n",
    "        return sortedresult   #I set up the result of this function to be the list entered ordeder with sorted method\n",
    "        \n",
    "    def listtodict(mylist):     \n",
    "   # Creating an empty dictionary \n",
    "            dcount={}\n",
    "            for i in mylist:\n",
    "                dcount[i] = dcount.get(i, 0) + 1\n",
    "                return dcount\n",
    "            \n",
    "            \n",
    "print(counts(user_input))\n",
    "       \n",
    "       \n",
    "\n"
   ]
  },
  {
   "cell_type": "markdown",
   "metadata": {},
   "source": [
    "<br>\n",
    "\n",
    "Since I get error when trying nesting function in cell above, I am trying now separating the functions again and looking into converting list into dictionary methods as consulted online. See references above and my attempt in the cell below:\n"
   ]
  },
  {
   "cell_type": "code",
   "execution_count": 6,
   "metadata": {},
   "outputs": [
    {
     "ename": "NameError",
     "evalue": "name 'keys' is not defined",
     "output_type": "error",
     "traceback": [
      "\u001b[1;31m---------------------------------------------------------------------------\u001b[0m",
      "\u001b[1;31mNameError\u001b[0m                                 Traceback (most recent call last)",
      "\u001b[1;32m<ipython-input-6-e6e5245600aa>\u001b[0m in \u001b[0;36m<module>\u001b[1;34m\u001b[0m\n\u001b[0;32m      2\u001b[0m \u001b[1;33m\u001b[0m\u001b[0m\n\u001b[0;32m      3\u001b[0m \u001b[0mmylist\u001b[0m\u001b[1;33m=\u001b[0m\u001b[1;33m[\u001b[0m\u001b[1;34m'A'\u001b[0m\u001b[1;33m,\u001b[0m\u001b[1;34m'D'\u001b[0m\u001b[1;33m,\u001b[0m\u001b[1;34m'A'\u001b[0m\u001b[1;33m]\u001b[0m\u001b[1;33m\u001b[0m\u001b[1;33m\u001b[0m\u001b[0m\n\u001b[1;32m----> 4\u001b[1;33m \u001b[0mmylist_dictionary\u001b[0m\u001b[1;33m=\u001b[0m\u001b[0mdict\u001b[0m\u001b[1;33m.\u001b[0m\u001b[0mfromkeys\u001b[0m\u001b[1;33m(\u001b[0m\u001b[0mkeys\u001b[0m\u001b[1;33m.\u001b[0m\u001b[0mcount\u001b[0m\u001b[1;33m)\u001b[0m\u001b[1;33m\u001b[0m\u001b[1;33m\u001b[0m\u001b[0m\n\u001b[0m\u001b[0;32m      5\u001b[0m \u001b[1;33m\u001b[0m\u001b[0m\n\u001b[0;32m      6\u001b[0m \u001b[0mprint\u001b[0m\u001b[1;33m(\u001b[0m\u001b[0mmylist_dictionary\u001b[0m\u001b[1;33m)\u001b[0m\u001b[1;33m\u001b[0m\u001b[1;33m\u001b[0m\u001b[0m\n",
      "\u001b[1;31mNameError\u001b[0m: name 'keys' is not defined"
     ]
    }
   ],
   "source": [
    "\n",
    "#Enter list here:\n",
    "\n",
    "mylist=['A','D','A']\n",
    "mylist_dictionary=dict.fromkeys(keys.count)\n",
    "\n",
    "print(mylist_dictionary)\n",
    "\n",
    "#Tried this formula and still giving me error.\n",
    "def listtodict(mylist):     \n",
    "   # Creating an empty dictionary \n",
    "    dcount={}\n",
    "    dsort=(sorted(mylist))\n",
    "    for i in mylist:\n",
    "            dcount[i] = dcount.get(i, 0) + 1\n",
    "            return dsort\n",
    "\n",
    "print(listtodict(mylist))"
   ]
  },
  {
   "cell_type": "markdown",
   "metadata": {},
   "source": [
    "<br>\n",
    "\n",
    "As a conclusion I have found the sorting solution without importing any modules and a solution to count and print letters as shown in above cells of references however I was unable to complete this task."
   ]
  },
  {
   "cell_type": "markdown",
   "metadata": {},
   "source": [
    "### Task 2. 'Dicerolls':\n",
    "\n",
    "*For this task we are asked to create a function called 'dicerolls' that simulates a rolling dice. The function takes 2 parameters number of dice 'k' and the number of times to roll the dice 'n'. Function will simulate randomly rolling dice and keep track of each total face value\n",
    "so it then returns a dictionary with the number of times each possible total face value occurred.*\n",
    "\n",
    "***\n",
    "References:\n",
    "\n",
    "- [numpy.random.randint documentation](https://numpy.org/doc/stable/reference/random/generated/numpy.random.randint.html?highlight=random%20randint#numpy.random.randint)\n",
    "\n",
    "- [Random library documentation](https//docs.python.org/3.1/library/random.html)\n",
    "\n",
    "- [How to roll a dice with Python](https://medium.com/@diskokarl/how-to-roll-dice-with-python-34865d83f53d)\n",
    "\n",
    "- [Python dice simulator](https://stackoverflow.com/questions/6576367/python-dice-simulator)\n",
    "\n",
    "***  "
   ]
  },
  {
   "cell_type": "code",
   "execution_count": 7,
   "metadata": {},
   "outputs": [
    {
     "name": "stdout",
     "output_type": "stream",
     "text": [
      "Choose number of dice:   3\n",
      "How many times do you want to roll the dice(s)? : 2\n",
      "(0, 2, 100.0)\n",
      "2.0\n"
     ]
    },
    {
     "data": {
      "text/plain": [
       "'Consulted documentation about default dict: https://www.geeksforgeeks.org/defaultdict-in-python/'"
      ]
     },
     "execution_count": 7,
     "metadata": {},
     "output_type": "execute_result"
    }
   ],
   "source": [
    "#Importing necessary modules and\n",
    "#defining variables:\n",
    "from collections import defaultdict\n",
    "import numpy as np\n",
    "import random \n",
    "\n",
    "\n",
    "diceNumber = int(input('Choose number of dice:   '))\n",
    "rolls = int(input('How many times do you want to roll the dice(s)? : ' ))\n",
    "\n",
    "\n",
    "sides = np.random.randint(1,6)\n",
    "\n",
    "d = defaultdict(int)\n",
    "\n",
    "for i in range(rolls):\n",
    "        d[sum( np.random.choice(sides) for d in range(diceNumber) )] += 1\n",
    "total = float(rolls)\n",
    "\n",
    "for k in sorted(d.keys()):\n",
    "        print((k, d[k], 100.0*d[k]/total))\n",
    "print(total)          \n",
    "    \n",
    "'''Took part of the code from this source: https://stackoverflow.com/questions/6576367/python-dice-simulator'''\n",
    "'''Consulted documentation about default dict: https://www.geeksforgeeks.org/defaultdict-in-python/'''\n",
    "#Needed to find a way to convert this outcome into a dictionary with the outcomes frequencies.\n",
    "\n",
    "\n"
   ]
  },
  {
   "cell_type": "markdown",
   "metadata": {},
   "source": [
    "<br>\n",
    "\n",
    "I tried this approach using the references I have attached. I was using also imported module defaultdict. \n",
    "Unfortunately, as much as I tried I was not able to create a dictionary with the values as in task 1. I will study and revise this topic as I need good practise with it. \n"
   ]
  },
  {
   "cell_type": "markdown",
   "metadata": {},
   "source": [
    "### Task 3. 'Flipping coins':\n",
    "\n",
    "*Taking into account the numpy.random.binomial function which can be used to mimic the flipping of a coin with 50/50 chance of heads or tails. \n",
    "Write some python code that simulates flipping a coin 100 times. Then run this code 1,000 times, keeping track of the number of heads in each of the 1,000 simulations. Select an appropriate plot to depict the resulting list of 1,000 numbers, showing that it roughly follows a bell-shaped curve. You should explain your work in a Markdown cell above the\n",
    "code.*\n",
    "\n",
    "***\n",
    "References:\n",
    "\n",
    "- [Numpy random binomial function documentation](https://numpy.org/doc/stable/reference/random/generated/numpy.random.binomial.html)\n",
    "\n",
    "- [Using numpy equal function](https://numpy.org/doc/stable/reference/generated/numpy.equal.html)\n",
    "\n",
    "- [Simulating coin toss experiment](https://cmdlinetips.com/2018/12/simulating-coin-toss-experiment-with-binomial-random-numbers-using-numpy/)\n",
    "\n",
    "- [Seaborn distplot documentation](https://seaborn.pydata.org/generated/seaborn.distplot.html)\n",
    "\n",
    "- [Coin flipping dice](https://towardsdatascience.com/how-to-code-a-fair-coin-flip-in-python-d54312f33da9)\n",
    "\n",
    "- [Sorting dictionaries by key](https://stackoverflow.com/questions/9001509/how-can-i-sort-a-dictionary-by-key)\n",
    "\n",
    "- [Dictionary methods](https://www.w3schools.com/python/python_ref_dictionary.asp)\n",
    "\n",
    "- [Getting Key by value in dictionary](https://stackoverflow.com/questions/8023306/get-key-by-value-in-dictionary)\n",
    "\n",
    "- [Working with dictionaries in Python tutorial](https://www.youtube.com/watch?v=daefaLgNkw0&ab_channel=CoreySchafer)\n",
    "***\n",
    "\n"
   ]
  },
  {
   "cell_type": "markdown",
   "metadata": {},
   "source": [
    "In order to create this code, first I am experimenting with this function using simpler numbers . I experimented how to use numpy random binomial to flip a coin once and repeating this 100 times. I considered here that 'p' was 0.5 so this is a fair coin: "
   ]
  },
  {
   "cell_type": "code",
   "execution_count": null,
   "metadata": {},
   "outputs": [],
   "source": [
    "%matplotlib inline"
   ]
  },
  {
   "cell_type": "code",
   "execution_count": 8,
   "metadata": {},
   "outputs": [
    {
     "name": "stdout",
     "output_type": "stream",
     "text": [
      "[0 1 1 1 0 0 0 1 1 1 0 1 1 0 0 0 0 1 0 0 1 0 0 0 0 1 0 1 1 0 1 0 0 1 1 1 0\n",
      " 0 1 0 0 0 0 1 0 1 0 1 1 0 1 1 1 1 1 1 0 0 0 0 0 0 1 0 0 1 0 1 0 1 1 0 0 1\n",
      " 1 1 1 0 0 0 1 1 0 0 0 0 1 1 1 0 0 1 1 1 1 0 1 0 0 0]\n"
     ]
    },
    {
     "data": {
      "image/png": "[encoded data removed]",
      "text/plain": [
       "<Figure size 432x288 with 1 Axes>"
      ]
     },
     "metadata": {
      "needs_background": "light"
     },
     "output_type": "display_data"
    }
   ],
   "source": [
    "#I imported the modules I need to create this and to plot the results: \n",
    "import numpy as np\n",
    "import matplotlib.pyplot as plt \n",
    "import seaborn as sns\n",
    "\n",
    "np.random.seed(42) #Usig random seed to keep same numbers for these examples\n",
    "\n",
    "n=1 #This is the number of heads\n",
    "p=0.5 #Probability, in this case 50/50 \n",
    "coin = np.random.binomial(n, p, 100)\n",
    "# result of flipping coin once tested 100 times(Number of heads)\n",
    "\n",
    "print (coin)\n",
    "\n",
    "#Plotting result\n",
    "\n",
    "plt.style.use('bmh')\n",
    "sns.distplot(coin)\n",
    "\n",
    "\n",
    "plt.show()\n"
   ]
  },
  {
   "cell_type": "code",
   "execution_count": 9,
   "metadata": {},
   "outputs": [
    {
     "name": "stdout",
     "output_type": "stream",
     "text": [
      "[0 1 0 0 1 0 0 1 0 0 0 0 1 1 1 1 1 0 1 0 1 1 0 0 0 0 1 1 0 0 0 0 0 0 1 0 0\n",
      " 1 0 1 1 0 0 0 0 0 1 0 0 0 1 0 0 0 1 0 1 1 0 1 0 1 1 0 0 1 0 0 0 0 1 0 0 0\n",
      " 1 0 1 0 1 0 0 0 1 1 0 1 1 0 0 0 0 1 1 1 0 0 1 1 1 1]\n"
     ]
    },
    {
     "data": {
      "text/plain": [
       "<matplotlib.axes._subplots.AxesSubplot at 0x1d94740a5b0>"
      ]
     },
     "execution_count": 9,
     "metadata": {},
     "output_type": "execute_result"
    },
    {
     "data": {
      "image/png": "[encoded data removed]",
      "text/plain": [
       "<Figure size 432x288 with 1 Axes>"
      ]
     },
     "metadata": {
      "needs_background": "light"
     },
     "output_type": "display_data"
    }
   ],
   "source": [
    "\n",
    "#I modified 'p' to add some bias to the result.\n",
    "#We select 'p<0.5'to produce more tails than heads:\n",
    "n = 1\n",
    "p = 0.4\n",
    "\n",
    "coin=np.random.binomial(n, p, 100)\n",
    "\n",
    "print(coin)\n",
    "\n",
    "sns.distplot(coin)\n"
   ]
  },
  {
   "cell_type": "markdown",
   "metadata": {},
   "source": [
    "Now I am creating a function that simulates the flip of a coin 100 times and repeat this experiment for 1000 times ( or any times you add to the parameters below) , once this is done you can see the distribution in a plot which should present a bell shape. \n"
   ]
  },
  {
   "cell_type": "code",
   "execution_count": 10,
   "metadata": {},
   "outputs": [
    {
     "name": "stdout",
     "output_type": "stream",
     "text": [
      "50\n"
     ]
    }
   ],
   "source": [
    "\n",
    "#First I created my variables. I assumed that the probability is 0.5 for this case: \n",
    "n=100\n",
    "p=0.5\n",
    "coin=np.random.binomial(n,p)\n",
    "print(coin)"
   ]
  },
  {
   "cell_type": "code",
   "execution_count": 11,
   "metadata": {},
   "outputs": [
    {
     "name": "stdout",
     "output_type": "stream",
     "text": [
      "{1: 0, 2: 0, 3: 0, 4: 0, 5: 0, 6: 0, 7: 0, 8: 0, 9: 0, 10: 0, 11: 0, 12: 0, 13: 0, 14: 0, 15: 0, 16: 0, 17: 0, 18: 0, 19: 0, 20: 0, 21: 0, 22: 0, 23: 0, 24: 0, 25: 0, 26: 0, 27: 0, 28: 0, 29: 0, 30: 0, 31: 0, 32: 0, 33: 0, 34: 0, 35: 0, 36: 0, 37: 0, 38: 0, 39: 0, 40: 0, 41: 0, 42: 0, 43: 0, 44: 0, 45: 0, 46: 0, 47: 0, 48: 0, 49: 0, 50: 0, 51: 0, 52: 0, 53: 0, 54: 0, 55: 0, 56: 0, 57: 0, 58: 0, 59: 0, 60: 0, 61: 0, 62: 0, 63: 0, 64: 0, 65: 0, 66: 0, 67: 0, 68: 0, 69: 0, 70: 0, 71: 0, 72: 0, 73: 0, 74: 0, 75: 0, 76: 0, 77: 0, 78: 0, 79: 0, 80: 0, 81: 0, 82: 0, 83: 0, 84: 0, 85: 0, 86: 0, 87: 0, 88: 0, 89: 0, 90: 0, 91: 0, 92: 0, 93: 0, 94: 0, 95: 0, 96: 0, 97: 0, 98: 0, 99: 0, 100: 0}\n"
     ]
    }
   ],
   "source": [
    "#Creating a dictionary to store head results\n",
    "\n",
    "dict_headresults={} #empty dictionary created same as task 1\n",
    "coinflips=100 #set up the number of coin flips we are doing\n",
    "while coinflips>0:#while the coin is being flipped \n",
    "        dict_headresults[coinflips]= 0\n",
    "        coinflips -= 1\n",
    "        dict_headresults=dict(sorted(dict_headresults.items()))\n",
    "        \n",
    "print(dict_headresults)"
   ]
  },
  {
   "cell_type": "markdown",
   "metadata": {},
   "source": [
    "The while loop above has created a dictionary to store the head flips, as per consulted on this [post](https://stackoverflow.com/questions/9001509/how-can-i-sort-a-dictionary-by-key).Now below I am doing the same running it for 1000 times as task is requesting.\n",
    "\n",
    "I am using one of the dictionary methods from this [source](https://www.w3schools.com/python/python_ref_dictionary.asp), to update the dictionary."
   ]
  },
  {
   "cell_type": "code",
   "execution_count": 12,
   "metadata": {},
   "outputs": [
    {
     "name": "stdout",
     "output_type": "stream",
     "text": [
      "{1: 0, 2: 0, 3: 0, 4: 0, 5: 0, 6: 0, 7: 0, 8: 0, 9: 0, 10: 0, 11: 0, 12: 0, 13: 0, 14: 0, 15: 0, 16: 0, 17: 0, 18: 0, 19: 0, 20: 0, 21: 0, 22: 0, 23: 0, 24: 0, 25: 0, 26: 0, 27: 0, 28: 0, 29: 0, 30: 0, 31: 0, 32: 0, 33: 0, 34: 0, 35: 0, 36: 0, 37: 0, 38: 0, 39: 0, 40: 0, 41: 0, 42: 0, 43: 0, 44: 0, 45: 0, 46: 0, 47: 0, 48: 0, 49: 0, 50: 0, 51: 0, 52: 0, 53: 0, 54: 0, 55: 0, 56: 0, 57: 0, 58: 0, 59: 0, 60: 0, 61: 0, 62: 0, 63: 0, 64: 0, 65: 0, 66: 0, 67: 0, 68: 0, 69: 0, 70: 0, 71: 0, 72: 0, 73: 0, 74: 0, 75: 0, 76: 0, 77: 0, 78: 0, 79: 0, 80: 0, 81: 0, 82: 0, 83: 0, 84: 0, 85: 0, 86: 0, 87: 0, 88: 0, 89: 0, 90: 0, 91: 0, 92: 0, 93: 0, 94: 0, 95: 0, 96: 0, 97: 0, 98: 0, 99: 0, 100: 0}\n",
      "Dictionary of Results: {1: 0, 2: 0, 3: 0, 4: 0, 5: 0, 6: 0, 7: 0, 8: 0, 9: 0, 10: 0, 11: 0, 12: 0, 13: 0, 14: 0, 15: 0, 16: 0, 17: 0, 18: 0, 19: 0, 20: 0, 21: 0, 22: 0, 23: 0, 24: 0, 25: 0, 26: 0, 27: 0, 28: 0, 29: 0, 30: 0, 31: 0, 32: 0, 33: 0, 34: 0, 35: 0, 36: 1, 37: 1, 38: 1, 39: 6, 40: 12, 41: 24, 42: 19, 43: 31, 44: 30, 45: 44, 46: 76, 47: 57, 48: 89, 49: 86, 50: 81, 51: 59, 52: 79, 53: 61, 54: 60, 55: 41, 56: 42, 57: 30, 58: 21, 59: 16, 60: 19, 61: 8, 62: 1, 63: 2, 64: 2, 65: 0, 66: 0, 67: 1, 68: 0, 69: 0, 70: 0, 71: 0, 72: 0, 73: 0, 74: 0, 75: 0, 76: 0, 77: 0, 78: 0, 79: 0, 80: 0, 81: 0, 82: 0, 83: 0, 84: 0, 85: 0, 86: 0, 87: 0, 88: 0, 89: 0, 90: 0, 91: 0, 92: 0, 93: 0, 94: 0, 95: 0, 96: 0, 97: 0, 98: 0, 99: 0, 100: 0}\n"
     ]
    }
   ],
   "source": [
    "\n",
    "\n",
    "counter=1000 #adding counter for the number of experiments/tests to be done , in this case 1000\n",
    "dict_headresults={} \n",
    "\n",
    "dict_headresults={}\n",
    "coinflips=100\n",
    "while coinflips>0:#While there is a coin flip happening \n",
    "        dict_headresults[coinflips]=0 #results will equal to 0\n",
    "        coinflips-=1\n",
    "        dict_headresults=dict(sorted(dict_headresults.items()))\n",
    "print(dict_headresults)\n",
    "\n",
    "while counter>0:\n",
    "    n=100\n",
    "    p=0.5\n",
    "    headcoin=np.random.binomial(n,p)\n",
    "    \n",
    "    #Using this function I update the dictionaty with the specified key-value pairs coming from np random binomial\n",
    "    update=(headcoin)\n",
    "    dict_value=dict_headresults.get(update)\n",
    "    dict_headresults[update]=dict_value+1\n",
    "    \n",
    "    counter -= 1\n",
    "\n",
    "print(\"Dictionary of Results:\",dict_headresults)\n"
   ]
  },
  {
   "cell_type": "markdown",
   "metadata": {},
   "source": [
    "Now to drop 0 and find the keys in dictionary which match with heads, I follow these steps found in this [documentation](https://stackoverflow.com/questions/8023306/get-key-by-value-in-dictionary)."
   ]
  },
  {
   "cell_type": "code",
   "execution_count": 13,
   "metadata": {},
   "outputs": [
    {
     "name": "stdout",
     "output_type": "stream",
     "text": [
      "Final list of heads when coin flipped 100 times during 1000 tests:\n",
      "{36: 1, 37: 1, 38: 1, 39: 6, 40: 12, 41: 24, 42: 19, 43: 31, 44: 30, 45: 44, 46: 76, 47: 57, 48: 89, 49: 86, 50: 81, 51: 59, 52: 79, 53: 61, 54: 60, 55: 41, 56: 42, 57: 30, 58: 21, 59: 16, 60: 19, 61: 8, 62: 1, 63: 2, 64: 2, 67: 1}\n"
     ]
    }
   ],
   "source": [
    "\n",
    "#taking the head results obtained in previous function.\n",
    "\n",
    "for key, value in dict_headresults.copy().items():  # for name, age in dictionary.iteritems():  (for Python 2.x)\n",
    "    if value == 0:\n",
    "         del dict_headresults[key]\n",
    "#got an error \"Runtime: dictionary changed size during iteration\" so following these guidelines\n",
    "#I changed function for getting a copy of the items   \n",
    "print('Final list of heads when coin flipped 100 times during 1000 tests:')\n",
    "print(dict_headresults) "
   ]
  },
  {
   "cell_type": "code",
   "execution_count": 14,
   "metadata": {
    "scrolled": true
   },
   "outputs": [
    {
     "name": "stdout",
     "output_type": "stream",
     "text": [
      "dict_keys([36, 37, 38, 39, 40, 41, 42, 43, 44, 45, 46, 47, 48, 49, 50, 51, 52, 53, 54, 55, 56, 57, 58, 59, 60, 61, 62, 63, 64, 67])\n",
      "dict_values([1, 1, 1, 6, 12, 24, 19, 31, 30, 44, 76, 57, 89, 86, 81, 59, 79, 61, 60, 41, 42, 30, 21, 16, 19, 8, 1, 2, 2, 1])\n"
     ]
    }
   ],
   "source": [
    "#I declared variables for keys and values\n",
    "keys = dict_headresults.keys()\n",
    "values = dict_headresults.values()\n",
    "\n",
    "print(keys)\n",
    "print(values)"
   ]
  },
  {
   "cell_type": "markdown",
   "metadata": {},
   "source": [
    "<br>\n",
    "\n",
    "Now I am plotting this values to confirm whether the shape of this graphic is similar to a bell as the theory suggests."
   ]
  },
  {
   "cell_type": "code",
   "execution_count": 15,
   "metadata": {},
   "outputs": [
    {
     "data": {
      "image/png": "[encoded data removed]",
      "text/plain": [
       "<Figure size 432x288 with 1 Axes>"
      ]
     },
     "metadata": {
      "needs_background": "light"
     },
     "output_type": "display_data"
    }
   ],
   "source": [
    "\n",
    "#Using matplotlib:\n",
    "\n",
    "x=[34, 35, 36, 37, 38, 39, 40, 41, 42, 43, 44, 45, 46, 47, 48, 49, 50, 51, 52, 53, 54, 55, 56, 57, 58, 59, 60, 61, 62, 63, 64, 65]\n",
    "y=[2, 2, 3, 2, 2, 2, 14, 15, 19, 31, 36, 53, 46, 84, 68, 60, 83, 81, 71, 72, 66, 54, 43, 23, 25, 10, 12, 6, 6, 2, 6, 1]\n",
    "\n",
    "plt.plot(x,y)\n",
    "\n",
    "plt.xlabel('Heads')\n",
    "plt.ylabel('Total of tests with this result')\n",
    "plt.title('Results of 1000 test for 100 coin flips')\n",
    "\n",
    "plt.show()\n",
    "\n"
   ]
  },
  {
   "cell_type": "markdown",
   "metadata": {},
   "source": [
    "<br>\n",
    "We can see that the distribution of these 1000 test for 100 fair coin flips, resembles a bell-shaped curve. "
   ]
  },
  {
   "cell_type": "markdown",
   "metadata": {},
   "source": [
    "<br>\n",
    "\n",
    "### Task 4.'Simpson's paradox':\n",
    "\n",
    "*Simpson’s paradox is a well-known statistical paradox where a trend evident in a number of groups reverses when the groups are combined into one big data set. Use numpy to create four data sets, each with an x array and a corresponding y array, to demonstrate Simpson’s paradox. \n",
    "You might create your x arrays using numpy.linspace and create the y array for each x using notation like y = a * x + b where you choose the a and b for each x , y pair to demonstrate the paradox. You might see the Wikipedia page for Simpson’s paradox for inspiration.*\n",
    "***\n",
    "References:\n",
    "\n",
    "- [Simpson's paradox Wikipedia page](https://en.wikipedia.org/wiki/Simpson%27s_paradox)\n",
    "\n",
    "- [Generating examples of Simpson's paradox](http://www.degeneratestate.org/posts/2017/Oct/22/generating-examples-of-simpsons-paradox/)\n",
    "\n",
    "- [Simpson's paradox](https://www.kaggle.com/saicataram/simpson-s-paradox-in-python)\n",
    "\n",
    "- [Pandas categorical data documentation](https://pandas.pydata.org/pandas-docs/stable/user_guide/categorical.html)\n",
    "\n",
    "- [Time series tutorial using pandas](https://www.datacamp.com/community/tutorials/time-series-analysis-tutorial)\n",
    "\n",
    "- [Statistics library in Python](https://docs.python.org/3/library/statistics.html)\n",
    "\n",
    "- [Simpson's paradox YouTube tutorial](https://www.youtube.com/watch?v=wgLUDw8eLB4&feature=emb_logo&ab_channel=singingbanana)\n",
    "\n",
    "- [Python Numpy random choice documentation](https://docs.scipy.org/doc//numpy-1.10.4/reference/generated/numpy.random.choice.html)\n",
    "***\n",
    "\n"
   ]
  },
  {
   "attachments": {
    "Simpson's%20paradox%20example%20table.png": {
     "image/png": "[encoded data removed]"
    }
   },
   "cell_type": "markdown",
   "metadata": {},
   "source": [
    "<br>\n",
    "\n",
    "\n",
    "This task was very challenging for me. After reading the theory I am aware of what Simpson's paradox is and I have tried to reproduce it with different examples, such as the table I have extracted from this [source](https://www.ncbi.nlm.nih.gov/pmc/articles/PMC5936043/). \n",
    "\n",
    "![Simpson's%20paradox%20example%20table.png](attachment:Simpson's%20paradox%20example%20table.png)\n",
    "\n",
    "In this example we are considering we have 4th grade students of two schools (Alpha and Beta), participating in a math test. We want to compare the average scores of these 2 schools. We assume that we were told than the Beta male and female school average scores are higher than those in Alpha. Can we demonstrate that this is true?  At first glance it might look like that but calculating the overall score in both schools, Alpha wins with 83.2. \n",
    "\n",
    "Taking this and this other [explanation of the theory](https://www.youtube.com/watch?v=wgLUDw8eLB4&feature=emb_logo&ab_channel=singingbanana), I have created 4 little datasets using numpy random randint in order to consider  variables a and b ( I am referring to them as if they were 2 different types of drugs or medicines in order to make this more understandable) during a certain number of trials carried during 2 days and which values represent the successes. \n",
    "\n",
    "Then I have combined these values to create plots in which I demonstrate the Simpson's paradox is present.\n"
   ]
  },
  {
   "cell_type": "code",
   "execution_count": 16,
   "metadata": {},
   "outputs": [
    {
     "name": "stdout",
     "output_type": "stream",
     "text": [
      "Results of day 1\n",
      "a1 random samples\n",
      "[0 0 0 1 0 0 1 0 1 1 0 0 1 0 0 1 0 1 1 1 1 0 0 0 0 1 0 0 0 1 0 0 0 0 0 0 0\n",
      " 0]\n",
      "------------------------------------------------------------\n",
      "b1 random samples\n",
      "[2, 2, 1, 1, 5]\n",
      "Results of day 2\n",
      "a2 random samples\n",
      "[0 1 1 0 1 1 1 1 1 1 1 0 0 1 0 0 0 0 0 1]\n",
      "------------------------------------------------------------\n",
      "b2 random samples\n",
      "[1 1 1 1 1 1 1 1 1 1 1 1 1 1 1 1 1 1 1 1]\n"
     ]
    }
   ],
   "source": [
    "#Importing necessary modules: \n",
    "\n",
    "import numpy as np\n",
    "import matplotlib.pyplot as plt\n",
    "import matplotlib\n",
    "import seaborn as sns\n",
    "\n",
    "#generating random samples of desired size that I am going to transform into arrays with numpy random choice:\n",
    "\n",
    "\n",
    "#Day 1: \n",
    "\n",
    "print('Results of day 1')\n",
    "\n",
    "np.random.seed(9)\n",
    "#Total population = 40\n",
    "\n",
    "a1=np.random.randint(0,2,38)\n",
    "\n",
    "b1=[2,2,1,1,5]\n",
    "                    \n",
    "print('a1 random samples')\n",
    "print(a1)\n",
    "print('------------------------------------------------------------')\n",
    "print('b1 random samples')\n",
    "print(b1)\n",
    "\n",
    "#Day2 \n",
    "print('Results of day 2')\n",
    "\n",
    "#a2 and b2:\n",
    "\n",
    "np.random.seed(0)\n",
    "\n",
    "#Total population = 40\n",
    "\n",
    "a2=np.random.randint(0,2,20)\n",
    "\n",
    "b2=np.random.randint(1,2,20) #Initially values from drug b1 seem to indicate this is a more effective drug\n",
    "\n",
    "\n",
    "\n",
    "\n",
    "print('a2 random samples')\n",
    "print(a2)\n",
    "print('------------------------------------------------------------')\n",
    "print('b2 random samples')\n",
    "print(b2)"
   ]
  },
  {
   "cell_type": "code",
   "execution_count": 17,
   "metadata": {},
   "outputs": [
    {
     "name": "stdout",
     "output_type": "stream",
     "text": [
      "Results of day 1:\n",
      "------------------------------------------------------------\n",
      "This is the sum of all a1 instances:\n",
      "12\n",
      "------------------------------------------------------------\n",
      "This is the sum of all b1 instances:\n",
      "11\n",
      "Results of day 2:\n",
      "------------------------------------------------------------\n",
      "This is the sum of all a2 instances:\n",
      "11\n",
      "------------------------------------------------------------\n",
      "This is the sum of all b2 instances:\n",
      "20\n"
     ]
    }
   ],
   "source": [
    "\n",
    "#obtaining total sum for both a and b on both days:\n",
    "\n",
    "#Day 1: \n",
    "\n",
    "print('Results of day 1:')\n",
    "\n",
    "a1_sum = sum(a1) \n",
    "\n",
    "print('------------------------------------------------------------')\n",
    "print('This is the sum of all a1 instances:')\n",
    "print(a1_sum) \n",
    "\n",
    "#now we find the sum for b1:\n",
    "b1_sum = sum(b1) \n",
    "\n",
    "print('------------------------------------------------------------')\n",
    "print('This is the sum of all b1 instances:')\n",
    "print(b1_sum) \n",
    "\n",
    "#Day 2: \n",
    "\n",
    "\n",
    "print('Results of day 2:')\n",
    "\n",
    "a2_sum = sum(a2) \n",
    "\n",
    "print('------------------------------------------------------------')\n",
    "print('This is the sum of all a2 instances:')\n",
    "print(a2_sum) \n",
    "\n",
    "#now we find the sum for b1:\n",
    "b2_sum = sum(b2) \n",
    "\n",
    "print('------------------------------------------------------------')\n",
    "print('This is the sum of all b2 instances:')\n",
    "print(b2_sum) "
   ]
  },
  {
   "cell_type": "code",
   "execution_count": 18,
   "metadata": {},
   "outputs": [
    {
     "data": {
      "image/png": "[encoded data removed]",
      "text/plain": [
       "<Figure size 432x288 with 1 Axes>"
      ]
     },
     "metadata": {
      "needs_background": "light"
     },
     "output_type": "display_data"
    }
   ],
   "source": [
    "#Using this cell to plot day 1:\n",
    "\n",
    "#lets try to plot this(good luck):\n",
    "\n",
    "#Plotting a1 and b1 instances in day one:\n",
    "labels = ['Drug a', 'Drug b']\n",
    "\n",
    "x = np.arange(1)  # the label locations\n",
    "width = 0.10  # the width of the bars\n",
    "\n",
    "fig, ax = plt.subplots()\n",
    "rect1 = ax.bar(x - width/2, a1_sum, width, label='Drug a')\n",
    "rect2 = ax.bar(x + width/2, b1_sum, width, label='Drug b')\n",
    "\n",
    "# Add some text for labels, title and custom x-axis tick labels, etc.\n",
    "ax.set_ylabel('Sum of succeses')\n",
    "ax.set_title('Total sum of successes for drugs a and b in day 1')\n",
    "ax.set_xticks(x)\n",
    "ax.set_xticklabels(labels)\n",
    "ax.legend()\n",
    "\n",
    "fig.tight_layout()\n",
    "plt.show()"
   ]
  },
  {
   "cell_type": "markdown",
   "metadata": {},
   "source": [
    "<br> \n",
    "\n",
    "We can see there the importance of being consistent with data, as here we can see that Drug a ( in blue) has a higher number of successes than Drug b. "
   ]
  },
  {
   "cell_type": "code",
   "execution_count": 19,
   "metadata": {},
   "outputs": [
    {
     "data": {
      "image/png": "[encoded data removed]",
      "text/plain": [
       "<Figure size 432x288 with 1 Axes>"
      ]
     },
     "metadata": {
      "needs_background": "light"
     },
     "output_type": "display_data"
    }
   ],
   "source": [
    "#Using this cell to plot day 2:\n",
    "\n",
    "x = np.arange(1)  # the label locations\n",
    "width = 0.10  # the width of the bars\n",
    "\n",
    "fig, ax = plt.subplots()\n",
    "rect1 = ax.bar(x - width/2, a2_sum, width, label='Drug a')\n",
    "rect2 = ax.bar(x + width/2, b2_sum, width, label='Drug b')\n",
    "\n",
    "# Add some text for labels, title and custom x-axis tick labels, etc.\n",
    "ax.set_ylabel('Sum of succeses')\n",
    "ax.set_title('Total sum of successes for drugs a and b in day 2')\n",
    "ax.set_xticks(x)\n",
    "ax.set_xticklabels(labels)\n",
    "ax.legend()\n",
    "\n",
    "fig.tight_layout()\n",
    "plt.show()\n",
    "\n",
    "\n"
   ]
  },
  {
   "cell_type": "markdown",
   "metadata": {},
   "source": [
    "<br> \n",
    "\n",
    "Here looking at the data from day 2 we can see the opposite, Drug b is having a higher number of successes this day."
   ]
  },
  {
   "cell_type": "code",
   "execution_count": 20,
   "metadata": {},
   "outputs": [
    {
     "name": "stdout",
     "output_type": "stream",
     "text": [
      "Total successes for  drug A: \n",
      "23\n",
      "------------------------------------------------------------\n",
      "Total successes for  drug B: \n",
      "31\n"
     ]
    }
   ],
   "source": [
    "#Now we are going to put together both a and b totals of successful times: \n",
    "\n",
    "\n",
    "#Drug a:\n",
    "\n",
    "print('Total successes for  drug A: ')\n",
    "\n",
    "def success_sum(*args):\n",
    "    return sum(args)\n",
    "\n",
    "print(success_sum(a1_sum+a2_sum))\n",
    "\n",
    "print('------------------------------------------------------------')\n",
    "\n",
    "#Drug b:\n",
    "\n",
    "print('Total successes for  drug B: ')\n",
    "\n",
    "print(success_sum(b1_sum+b2_sum))\n",
    "\n",
    "      "
   ]
  },
  {
   "cell_type": "markdown",
   "metadata": {},
   "source": [
    "<br> \n",
    "\n",
    "\n",
    "However, when we sum the results for both days, we can see that Drug b which initially did not have so many successes as Drug a is overall the drug more efficient. We need to consider that we do not have much data to confirm that this drug is more efficient. Furthermore, both drug's results are close together. Let's see the plot below that I made using 'matplotlib library'.\n"
   ]
  },
  {
   "cell_type": "code",
   "execution_count": 21,
   "metadata": {},
   "outputs": [
    {
     "data": {
      "image/png": "[encoded data removed]",
      "text/plain": [
       "<Figure size 432x288 with 1 Axes>"
      ]
     },
     "metadata": {
      "needs_background": "light"
     },
     "output_type": "display_data"
    }
   ],
   "source": [
    "#here I am plotting the sum of both days for every drug.\n",
    "success_DrugA=23\n",
    "success_DrugB=31\n",
    "\n",
    "labels = ['Drug a', 'Drug b']\n",
    "\n",
    "x = np.arange(1)  # the label locations\n",
    "width = 0.20  # the width of the bars\n",
    "\n",
    "fig, ax = plt.subplots()\n",
    "rect1 = ax.bar(x - width/2, success_DrugA, width)\n",
    "rect2 = ax.bar(x + width/2, success_DrugB, width)\n",
    "\n",
    "# Add some text for labels, title and custom x-axis tick labels, etc.\n",
    "ax.set_ylabel('Sum of succeses')\n",
    "ax.set_title('Total of successes divided by drug')\n",
    "ax.set_xticks(x)\n",
    "ax.set_xticklabels(labels)\n",
    "ax.legend(['Drug a','Drug b'])\n",
    "\n",
    "\n",
    "plt.show()\n"
   ]
  },
  {
   "cell_type": "markdown",
   "metadata": {},
   "source": [
    "***\n",
    "## END OF CODE"
   ]
  }
 ],
 "metadata": {
  "kernelspec": {
   "display_name": "Python 3",
   "language": "python",
   "name": "python3"
  },
  "language_info": {
   "codemirror_mode": {
    "name": "ipython",
    "version": 3
   },
   "file_extension": ".py",
   "mimetype": "text/x-python",
   "name": "python",
   "nbconvert_exporter": "python",
   "pygments_lexer": "ipython3",
   "version": "3.8.3"
  }
 },
 "nbformat": 4,
 "nbformat_minor": 4
}
