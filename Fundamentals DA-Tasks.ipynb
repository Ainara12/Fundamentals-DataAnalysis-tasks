{
 "cells": [
  {
   "cell_type": "markdown",
   "metadata": {},
   "source": [
    "## Fundamentals of Data Analysis  MODULE TASKS 2020\n",
    "\n",
    "In this notebook I am listing the 4 tasks to complete for this Fundamentals of Data Analysis module.\n",
    "\n",
    "Table of contents:\n",
    "\n",
    "- Task 1.\n",
    "- Task 2.\n",
    "- Task 3.\n",
    "- Task 4.\n"
   ]
  },
  {
   "cell_type": "markdown",
   "metadata": {},
   "source": [
    "### Task 1. 'Counts':\n",
    "\n",
    "\n",
    "For this module's first task I am playing around with Jupyter Notebooks by creating a function called 'Counts' \n",
    "which takes a list as input and returns a dictionary of unique items in the list as keys and the number of times each item appears as values.We are not allowed to use built in modules\n",
    "\n",
    "References\n",
    "\n",
    "- [Count methods for strings](https://www.programiz.com/python-programming/methods/string/count#:~:text=In%20simple%20words%2C%20count(),string.)\n",
    "\n",
    "    \n"
   ]
  },
  {
   "cell_type": "code",
   "execution_count": 1,
   "metadata": {},
   "outputs": [
    {
     "ename": "SyntaxError",
     "evalue": "invalid syntax (<ipython-input-1-20a9ee67e747>, line 1)",
     "output_type": "error",
     "traceback": [
      "\u001b[1;36m  File \u001b[1;32m\"<ipython-input-1-20a9ee67e747>\"\u001b[1;36m, line \u001b[1;32m1\u001b[0m\n\u001b[1;33m    def Mydictionary.items()\u001b[0m\n\u001b[1;37m                    ^\u001b[0m\n\u001b[1;31mSyntaxError\u001b[0m\u001b[1;31m:\u001b[0m invalid syntax\n"
     ]
    }
   ],
   "source": [
    "def Mydictionary.items()\n",
    "    for key, value in Mydictionary.items(): \n",
    "        return (\"% d : % d\"%(key, value)) \n",
    "   "
   ]
  },
  {
   "cell_type": "code",
   "execution_count": null,
   "metadata": {},
   "outputs": [],
   "source": [
    "\n",
    "\n",
    "\n",
    "def counts(Mylist):\n",
    "    Mylist=[]\n",
    "    Mydictionary ={}\n",
    "    scount= Mylist.count\n",
    "    for item in Mylist:\n",
    "            if (item in scount):\n",
    "                    Mydictionary[item]+=1\n",
    "            elif(item not in scount):\n",
    "                   Mydictionary[item]=1\n",
    "            \n",
    "   #In order to avoid error 'list' is not callable. I defined here what must be printed as result of this function:\n",
    "   \n",
    "\n",
    "\n",
    "print(counts(['A','B','D','D']))\n",
    "            \n",
    "        \n",
    "        \n",
    "\n",
    "            \n",
    "        \n",
    "        \n",
    "    "
   ]
  },
  {
   "cell_type": "code",
   "execution_count": null,
   "metadata": {
    "scrolled": true
   },
   "outputs": [],
   "source": [
    "#trying some parts of the code: \n",
    "\n",
    "\n",
    "Mylist=['A','B','D','D']\n",
    "\n",
    "count= Mylist.count('G')\n",
    "\n",
    "count\n",
    "\n",
    "\n"
   ]
  },
  {
   "cell_type": "markdown",
   "metadata": {},
   "source": []
  },
  {
   "cell_type": "markdown",
   "metadata": {},
   "source": [
    "### Task 2. 'Dicerolls':\n",
    "\n",
    "For this task we are asked to create a function called 'dicerolls' that simulates a rolling dice. The function takes 2 parameters number of dice 'k' and the number of times to roll the dice 'n'. Function will simulate randomly rolling dice and keep track of each total face value\n",
    "so it then returns a dictionary with the number of times each possible total face value occurred. \n",
    "\n",
    "\n",
    "References:\n",
    "\n",
    "- [numpy.random.randint documentation](https://numpy.org/doc/stable/reference/random/generated/numpy.random.randint.html?highlight=random%20randint#numpy.random.randint)\n",
    "\n",
    "- [Random library documentation](https//docs.python.org/3.1/library/random.html) \n",
    "\n",
    "https://medium.com/@diskokarl/how-to-roll-dice-with-python-34865d83f53d\n",
    "\n",
    "  "
   ]
  },
  {
   "cell_type": "code",
   "execution_count": 2,
   "metadata": {},
   "outputs": [
    {
     "name": "stdout",
     "output_type": "stream",
     "text": [
      "None\n"
     ]
    }
   ],
   "source": [
    "import numpy as np\n",
    "import random \n",
    "\n",
    "\n",
    "def dice(k,n):\n",
    "    i = 0\n",
    "    diceroll= np.random.randint(1,6)\n",
    "    for i in range(n):\n",
    "        if k>= 1  and n>=1:\n",
    "            return diceroll (size=(n,6))\n",
    "        if k<1 and n<1:\n",
    "            print('These values are incorrect , please enter numbers in range 1-6')\n",
    "        \n",
    "\n",
    "\n",
    "\n",
    "print(dice(-1,-1))\n",
    "    \n",
    "\n",
    "    "
   ]
  },
  {
   "cell_type": "code",
   "execution_count": null,
   "metadata": {},
   "outputs": [],
   "source": [
    "#defining variables:\n",
    "from collections import defaultdict\n",
    "\n",
    "diceNumber = int(input('Choose number of dice:   '))\n",
    "rolls = int(input('How many times do you want to roll the dice(s)? : ' ))\n",
    "\n",
    "\n",
    "sides = np.random.randint(1,6)\n",
    "\n",
    "d = defaultdict(int)\n",
    "\n",
    "for i in range(rolls):\n",
    "        d[sum( np.random.choice(sides) for d in range(diceNumber) )] += 1\n",
    "total = float(rolls)\n",
    "\n",
    "for k in sorted(d.keys()):\n",
    "        print((k, d[k], 100.0*d[k]/total))\n",
    "                \n",
    "    \n",
    "        #Took part of the code from this source: https://stackoverflow.com/questions/6576367/python-dice-simulator\n",
    "        #Consulted documentation about default dict: https://www.geeksforgeeks.org/defaultdict-in-python/\n",
    "        #Need to find a way to convert this outcome into a dictionary with the outcomes frequencies. \n"
   ]
  },
  {
   "cell_type": "markdown",
   "metadata": {},
   "source": [
    "### Task 3. 'Flipping coins':\n",
    "\n",
    "Taking into account the numpy.random.binomial function which can be used to mimic the flipping of a coin with 50/50 chance of heads or tails. \n",
    "Write some python code that simulates flipping a coin 100 times. Then run this code 1,000 times, keeping track of the number of heads in each of the 1,000 simulations. Select an appropriate plot to depict the resulting list of 1,000 numbers, showing that it roughly follows a bell-shaped curve. You should explain your work in a Markdown cell above the\n",
    "code.\n",
    "\n",
    "***\n",
    "References:\n",
    "\n",
    "- [Numpy random binomial function documentation](https://numpy.org/doc/stable/reference/random/generated/numpy.random.binomial.html)\n",
    "- [Using numpy equal function](https://numpy.org/doc/stable/reference/generated/numpy.equal.html)\n",
    "- [Simulating coin toss experiment](https://cmdlinetips.com/2018/12/simulating-coin-toss-experiment-with-binomial-random-numbers-using-numpy/)\n",
    "- [Seaborn distplot documentation](https://seaborn.pydata.org/generated/seaborn.distplot.html)\n",
    "- [Coin flipping dice](https://towardsdatascience.com/how-to-code-a-fair-coin-flip-in-python-d54312f33da9)\n",
    "\n",
    "\n",
    "***\n",
    "\n"
   ]
  },
  {
   "cell_type": "markdown",
   "metadata": {},
   "source": [
    "In order to create this code , first I am experimenting with this function using simpler numbers . I experimented how to use numpy random binomial to flip a coin once and repeating this 100 times. I considered here that 'p' was 0.5 so this is a fair coin: "
   ]
  },
  {
   "cell_type": "code",
   "execution_count": 42,
   "metadata": {},
   "outputs": [
    {
     "name": "stdout",
     "output_type": "stream",
     "text": [
      "[0 1 1 1 0 0 0 1 1 1 0 1 1 0 0 0 0 1 0 0 1 0 0 0 0 1 0 1 1 0 1 0 0 1 1 1 0\n",
      " 0 1 0 0 0 0 1 0 1 0 1 1 0 1 1 1 1 1 1 0 0 0 0 0 0 1 0 0 1 0 1 0 1 1 0 0 1\n",
      " 1 1 1 0 0 0 1 1 0 0 0 0 1 1 1 0 0 1 1 1 1 0 1 0 0 0]\n"
     ]
    },
    {
     "data": {
      "image/png": "[encoded data removed]",
      "text/plain": [
       "<Figure size 432x288 with 1 Axes>"
      ]
     },
     "metadata": {
      "needs_background": "light"
     },
     "output_type": "display_data"
    }
   ],
   "source": [
    "#I imported the necessary modules to create this and to plot the results: \n",
    "import numpy as np\n",
    "import matplotlib.pyplot as plt \n",
    "import seaborn as sns\n",
    "\n",
    "n=1 #This is the number of heads\n",
    "p=0.5 #Probability, in this case 50/50 \n",
    "\n",
    "np.random.seed(42) #Usig random seed to keep same numbers for these examples\n",
    "coin = np.random.binomial(n, p, 100)\n",
    "# result of flipping a a coin ince tested 100 times\n",
    "\n",
    "print (coin)\n",
    "\n",
    "#Plotting result\n",
    "\n",
    "sns.distplot(coin)\n",
    "\n",
    "plt.show()\n"
   ]
  },
  {
   "cell_type": "markdown",
   "metadata": {},
   "source": [
    "Now I modified 'p' to add some bias to the result, we select 'p<0.5' to produce more tails than heads:"
   ]
  },
  {
   "cell_type": "code",
   "execution_count": 50,
   "metadata": {},
   "outputs": [
    {
     "name": "stdout",
     "output_type": "stream",
     "text": [
      "[0 1 1 0 0 0 0 1 1 1 0 1 1 0 0 0 0 0 0 0 1 0 0 0 0 1 0 0 0 0 1 0 0 1 1 1 0\n",
      " 0 1 0 0 0 0 1 0 1 0 0 0 0 1 1 1 1 0 1 0 0 0 0 0 0 1 0 0 0 0 1 0 1 1 0 0 1\n",
      " 1 1 1 0 0 0 1 1 0 0 0 0 1 1 1 0 0 1 1 0 1 0 0 0 0 0]\n"
     ]
    },
    {
     "data": {
      "text/plain": [
       "<matplotlib.axes._subplots.AxesSubplot at 0x1e06a013880>"
      ]
     },
     "execution_count": 50,
     "metadata": {},
     "output_type": "execute_result"
    },
    {
     "data": {
      "image/png": "[encoded data removed]",
      "text/plain": [
       "<Figure size 432x288 with 1 Axes>"
      ]
     },
     "metadata": {
      "needs_background": "light"
     },
     "output_type": "display_data"
    }
   ],
   "source": [
    "\n",
    "np.random.seed(42)\n",
    "n = 1\n",
    "p = 0.4\n",
    "\n",
    "coin=np.random.binomial(n, p, 100)\n",
    "\n",
    "print(coin)\n",
    "\n",
    "sns.distplot(coin)\n"
   ]
  },
  {
   "cell_type": "markdown",
   "metadata": {},
   "source": [
    "Now I am creating a function that simulates the flip of a coin 100 times and repeat this experiment for 1000 times ( or any times you add to the parameters below) , once this is done you can see the distribution in a distplot created with seaborn.\n"
   ]
  },
  {
   "cell_type": "code",
   "execution_count": 47,
   "metadata": {},
   "outputs": [
    {
     "name": "stdout",
     "output_type": "stream",
     "text": [
      "[45 51 34 49 53 56 45 47 57 48 45 58 55 48 43 50 62 49 55 51 46 50 55 51\n",
      " 54 52 51 52 48 44 46 50 48 51 43 46 49 49 50 42 44 50 51 45 49 50 42 45\n",
      " 55 50 53 45 50 52 51 49 50 46 44 46 51 47 44 44 56 51 52 47 53 44 52 57\n",
      " 43 55 50 56 50 47 44 55 46 50 41 46 53 42 56 53 58 45 45 50 49 47 52 58\n",
      " 49 39 49 62 41 56 53 55 53 54 52 47 50 50 61 42 45 48 52 42 49 57 47 46\n",
      " 46 60 47 51 55 59 54 48 50 48 51 46 44 54 48 39 50 49 49 57 59 50 39 46\n",
      " 48 55 53 47 55 48 49 62 57 45 59 44 45 49 49 61 52 48 56 57 48 53 42 45\n",
      " 44 44 52 56 43 43 50 49 47 43 49 52 47 56 52 49 50 54 46 44 45 52 41 54\n",
      " 42 47 42 50 54 50 50 45 48 62 41 54 46 51 49 57 57 48 52 44 55 51 52 50\n",
      " 47 50 41 50 52 50 54 45 38 52 54 45 56 57 55 60 50 39 48 52 55 57 48 56\n",
      " 59 42 62 48 47 52 51 51 55 46 54 51 38 45 56 53 44 59 58 57 55 42 47 50\n",
      " 50 51 54 55 43 43 47 40 47 52 66 52 45 52 54 48 46 48 44 45 56 44 39 52\n",
      " 55 55 52 59 51 48 61 56 52 53 45 54 48 58 50 52 54 49 49 48 52 55 57 61\n",
      " 49 43 51 51 54 58 57 45 60 55 58 49 48 46 55 49 59 58 54 53 63 54 60 51\n",
      " 49 53 45 53 48 54 54 50 59 42 56 51 51 55 61 53 50 40 61 43 56 60 47 46\n",
      " 51 53 49 44 50 54 50 55 44 52 52 58 47 48 60 54 48 39 56 56 54 49 48 51\n",
      " 40 51 55 59 54 53 55 59 48 51 53 52 39 53 51 48 50 51 46 44 46 59 56 44\n",
      " 64 51 50 42 51 48 59 63 50 35 61 46 46 52 48 55 46 47 51 51 53 51 56 50\n",
      " 43 48 49 51 55 47 47 50 45 59 53 48 45 49 51 49 48 43 58 56 60 53 43 45\n",
      " 50 50 50 48 49 47 60 55 49 61 44 42 56 47 46 43 46 47 52 45 47 57 51 43\n",
      " 52 50 55 45 51 45 47 55 48 54 48 54 46 48 54 42 49 51 52 43 52 54 49 47\n",
      " 50 46 50 41 52 43 54 57 39 53 51 39 55 54 52 50 49 52 34 44 48 51 55 49\n",
      " 53 56 53 51 51 50 56 54 53 53 55 61 49 46 57 52 46 49 49 52 44 46 44 54\n",
      " 50 48 55 54 51 50 40 47 48 51 51 51 56 56 47 44 51 50 44 45 55 54 38 40\n",
      " 51 60 45 54 49 44 50 60 52 54 51 48 51 43 46 50 44 48 60 45 43 46 50 48\n",
      " 53 47 50 47 49 48 47 48 51 52 46 52 56 50 40 42 61 49 46 46 53 53 64 52\n",
      " 50 51 55 54 48 50 47 53 52 62 46 50 46 49 50 47 52 50 56 56 51 49 45 48\n",
      " 51 57 58 59 50 47 45 51 53 49 56 47 47 48 42 46 53 39 45 48 51 49 53 63\n",
      " 55 48 54 53 51 56 62 48 40 53 38 48 48 55 50 45 44 52 51 52 55 52 50 50\n",
      " 44 54 52 56 51 57 51 54 56 48 48 45 58 52 36 51 56 54 43 54 55 58 53 55\n",
      " 53 59 43 39 50 53 57 50 44 55 53 49 50 47 55 44 37 51 49 45 46 48 54 44\n",
      " 56 52 51 54 54 45 57 43 48 50 49 43 54 47 39 55 54 47 50 61 52 54 47 46\n",
      " 53 46 49 37 44 52 56 50 47 49 47 51 49 45 50 46 50 54 57 56 46 44 57 48\n",
      " 38 58 47 50 43 56 52 49 50 54 43 45 55 41 39 47 50 44 45 39 56 61 49 59\n",
      " 57 57 58 51 51 50 57 51 52 49 49 51 47 51 47 44 51 48 48 41 42 48 44 50\n",
      " 53 52 55 47 54 50 44 55 49 44 58 53 48 46 51 64 59 48 54 55 52 57 40 46\n",
      " 48 47 53 57 45 51 55 47 47 45 48 54 59 42 49 45 52 45 45 53 56 56 52 46\n",
      " 46 56 54 53 33 51 56 49 42 41 58 50 45 52 36 42 51 50 46 49 45 48 50 47\n",
      " 49 56 57 53 58 53 50 49 53 45 45 55 46 52 48 43 48 47 45 43 48 51 55 53\n",
      " 52 55 60 59 54 51 45 56 41 39 49 51 41 56 54 47 51 49 57 47 48 58 52 51\n",
      " 48 53 59 52 50 45 46 56 56 53 46 55 45 50 46 47 55 48 48 55 51 50 50 58\n",
      " 47 47 43 52 38 55 53 47 44 60 58 45 43 53 40 44]\n"
     ]
    }
   ],
   "source": [
    "\n",
    "#First I created my variables. I assumed that the probability is 0.5 for this case: \n",
    "n=100\n",
    "p=0.5\n",
    "size=1000\n",
    "\n",
    " \n",
    "def coinflips(n,size):\n",
    "    result = np.random.binomial(n, 0.5,size)\n",
    "    return result\n",
    "\n",
    "print(coinflips(100,1000))"
   ]
  },
  {
   "cell_type": "code",
   "execution_count": 59,
   "metadata": {},
   "outputs": [
    {
     "data": {
      "text/plain": [
       "<matplotlib.axes._subplots.AxesSubplot at 0x1e069e41e20>"
      ]
     },
     "execution_count": 59,
     "metadata": {},
     "output_type": "execute_result"
    },
    {
     "data": {
      "image/png": "[encoded data removed]",
      "text/plain": [
       "<Figure size 432x288 with 1 Axes>"
      ]
     },
     "metadata": {
      "needs_background": "light"
     },
     "output_type": "display_data"
    }
   ],
   "source": [
    "#Plotting these results to confirm it follows a bell-shaped curve: \n",
    "\n",
    "coinflips= flipcoin\n",
    "\n",
    "\n",
    "sns.distplot(flipcoin)\n"
   ]
  },
  {
   "cell_type": "markdown",
   "metadata": {},
   "source": [
    "Now let's see what happens to the shape if we change the coin to unfair:"
   ]
  },
  {
   "cell_type": "code",
   "execution_count": 61,
   "metadata": {},
   "outputs": [
    {
     "name": "stdout",
     "output_type": "stream",
     "text": [
      "[18 25 23 19 22 15 23 20 18 22 21 17 13 19 21 25 26 20 23 19 23 17 19 21\n",
      " 12 22 24 19 19 24 23 18 18 22 21 16 18 25 22 29 23 26 17 23 12 22 20 18\n",
      " 24 24 12 21 19 19 24 18 26 16 22 22 17 18 24 23 18 20 14 17 20 15 24 22\n",
      " 26 22 26 20 21 28 21 13 22 25 23 21 22 30 15 22 18 21 21 16 17 21 15 17\n",
      " 24 18 20 26 17 19 21 23 25 26 23 17 12 19 16 22 22 13 24 17 19 22 19 19\n",
      " 14 19 23 26 19 19 22 26 17 19 23 21 15 21 16 20 20 25 20 18 17 25 16 19\n",
      " 16 23 20 18 18 24 20 22 25 25 18 27 12 19 25 18 18 18 21 19 22 25 22 17\n",
      " 26 17 16 15 21 15 16 18 18 21 24 23 17 17 27 11 25 17 27 18 19 22 21 18\n",
      " 20 22 13 11 19 16 22 17 19 17 20 15 12 14 27 16 22 14 15 20 20 27 27 23\n",
      " 21 19 18 27 21 21 17 13 27 18 19 15 24 13 24 16 25 22 16 21 18 16 24 19\n",
      " 19 16 19 25 19 27 27 16 16 24 19 10 18 21 23 16 15 26 23 21 23 19 23 19\n",
      " 17 22 19 29 18 26 26 17 23 19 26 19 23 20 17 17 19 23 21 22 18 20 13 24\n",
      " 30 19 11 16 21 21 23 17 23 22 18 20 16 19 25 19 24 21 16 21 20 19 15 19\n",
      " 14 15 19 18 26 19 23 20 22 17 26 20 24 19 15 22 11 20 17 21 28 20 24 20\n",
      " 20 26 25 23 18 20 17 19 20 24 25 19 12 24 16 21 12 19 29 15 19 18 25 25\n",
      " 17 15 21 18 22 13 16 22 17 24 14 17 33 19 22 16 21 22 18 24 21 19 20 21\n",
      " 16 19 18 19 23 20 26 18 19 23 20 20 14 19 17 34 18 25 22 18 20 24 25 16\n",
      " 18 18 13 21 24 19 23 21 19 16 22 24 22 12 17 14 21 23 15 24 20 22 28 15\n",
      " 25 15 19 24 25 20 21 22 24 15 23 20 19 19 20 27 20 27 16 22 24 22 21 21\n",
      " 24 24 15 24 19 17 25 19 23 17 10 20 15 23 18 19 15 18 23 16 21 26 22 24\n",
      " 15 17 25 22 21 22 19 13 23 22 20 25 18 18 25 23 20 16 17 22 19 24 27 23\n",
      " 19 23 18 16 13 19 25 17 17 28 12 23 18 13 26 16 20 18 14 14 15 14 23 20\n",
      " 18 19 26 25 22 25 18 19 21 21 20 19 29 24 19 22 17 15 18 19 12 24 18 21\n",
      " 14 16 25 21 27 33 19 18 24 33 21 23 23 18 21 24 22 12 18 16 17 25 13 17\n",
      " 18 21 20 17 16 17 20 17 27 20 14 22 18 21 18 21 23 26 17 18 20 26 25 15\n",
      " 16 20 15 18 16 21 27 31 19 21 24 15 22 19 17 19 14 22 17 18 15 24 20 21\n",
      " 21 19 17 23 15 15 22 17 18 20 19 22 21 21 22 18 18 19 18 29 24 16 10 13\n",
      " 17 15 20 24 22 17 19 20 23 24 25 20 22 15 21 17 19 21 17 14 11 12 11 15\n",
      " 17 17 29 18 15 20 24 22 18 21 22 22 22 25 25 21 19 21 24 10 30 16 20 25\n",
      " 17 20 16 19 16 19 19 30 31 15 22 14 13 15 27 26 17 16 17 20 21 17 23 18\n",
      " 26 22 19 23 24 18 18 26 16 13 19 23 23 26 20 15 21 23 15 16 11 21 25 22\n",
      " 29 14 25 24 18 28 18 25 25 23 21 15 20 18 23 23 25 12 23 26 23 16 15 12\n",
      " 21 21 29 19 18 21 24 26 23 19 21 24 20 17 16  7 22 15 17 18 21 19 22 14\n",
      " 15 20 18 18 14 25 22 15 14 28 22 19 22 23 23 20 19 11 26 21 17 26 26 30\n",
      " 25 32 17 24 24 17 15 28 18 25 10 12 20 17 22 21 14 16 19 16 23 19 15 20\n",
      " 15 16 17 24 26 24 18 18 20 22 30 16 14 22 24 24 22 27 20 26 28 24 18 17\n",
      " 20 19 25 15 17 23 15 18 19 21 16 24 19 26 20 18 16 10 20 15 19 21 18 16\n",
      " 23 27 15 16 27 13 28 10 25 18 26 18 22 14 17 23 20 26 19 25 19 28 27 18\n",
      " 25 24 17 21 14 24 16 14 19 21 24 28 19 14 23 21 19 18 20 18 23 20 25 20\n",
      " 17 24 20 17 21 18 24 19 22 15 19 29 23 16 18 18 21 23 23 20 23 19 15 21\n",
      " 27 23 21 21 26 19 18 28 24 18 20 19 16 27 19 25 16 20 12 23 21 21 14 17\n",
      " 14 18 21 21 21 20 18 17 16 24 21 16 16 25 23 22]\n"
     ]
    },
    {
     "data": {
      "text/plain": [
       "<matplotlib.axes._subplots.AxesSubplot at 0x1e06a126a60>"
      ]
     },
     "execution_count": 61,
     "metadata": {},
     "output_type": "execute_result"
    },
    {
     "data": {
      "image/png": "[encoded data removed]",
      "text/plain": [
       "<Figure size 432x288 with 1 Axes>"
      ]
     },
     "metadata": {
      "needs_background": "light"
     },
     "output_type": "display_data"
    }
   ],
   "source": [
    "def coinflips(n,size):\n",
    "    result = np.random.binomial(n, 0.2,size)\n",
    "    return result\n",
    "\n",
    "print(coinflips(100,1000))\n",
    "\n",
    "coinflips= flipcoin\n",
    "\n",
    "sns.distplot(flipcoin)\n"
   ]
  },
  {
   "cell_type": "markdown",
   "metadata": {},
   "source": [
    "### Task 4.'Simpson's paradox':\n",
    "\n",
    "Simpson’s paradox is a well-known statistical paradox where a trend evident in a number of groups reverses when the groups are combined into one big data set. Use numpy to create four data sets, each with an x array and a corresponding y array, to demonstrate Simpson’s paradox. \n",
    "You might create your x arrays using numpy.linspace and create the y array for each x using notation like y = a * x + b where you choose the a and b for each x , y pair to demonstrate the paradox. You might see the Wikipedia page for Simpson’s paradox for inspiration.\n",
    "***\n",
    "References:\n",
    "\n",
    "- [Simpson's paradox Wikipedia page]()\n",
    "- []()\n",
    "- []()\n",
    "- []()\n",
    "\n",
    "***\n",
    "\n"
   ]
  },
  {
   "cell_type": "markdown",
   "metadata": {},
   "source": [
    "I am creating 4 datasets using numpy to demonstrate this paradox. Using the topic of employment ans gender. I created data set 1 for admited and applicant number of women in department A:"
   ]
  },
  {
   "cell_type": "code",
   "execution_count": 95,
   "metadata": {},
   "outputs": [
    {
     "ename": "SyntaxError",
     "evalue": "positional argument follows keyword argument (<ipython-input-95-ce3cce3f8587>, line 22)",
     "output_type": "error",
     "traceback": [
      "\u001b[1;36m  File \u001b[1;32m\"<ipython-input-95-ce3cce3f8587>\"\u001b[1;36m, line \u001b[1;32m22\u001b[0m\n\u001b[1;33m    AppliedData=pd.DataFrame.sum(Axis=None, skipna=None, level=None, numeric_only=None, min_count=0, AppliedDataA, AppliedDataB)\u001b[0m\n\u001b[1;37m                                                                                                     ^\u001b[0m\n\u001b[1;31mSyntaxError\u001b[0m\u001b[1;31m:\u001b[0m positional argument follows keyword argument\n"
     ]
    }
   ],
   "source": [
    "#Creating data set: \n",
    "\n",
    "#Department A. Women applied:\n",
    "\n",
    "import numpy as np\n",
    "import pandas as pd\n",
    "\n",
    "womenappl_A=np.random.randint(10,size=26)\n",
    "\n",
    "np.random.seed(42)\n",
    "print(womenappl_A)\n",
    "\n",
    "#Department B. Women applied:\n",
    "\n",
    "womenappl_B=np.random.randint(10,size=26)\n",
    "\n",
    "print(womenappl_B)\n",
    "\n",
    "AppliedDataA=pd.DataFrame(womenappl_A, columns=['Department_A'])\n",
    "AppliedDataB=pd.DataFrame(womenappl_B, columns=['Department_B'])\n",
    "\n",
    "AppliedData=pd.DataFrame.sum(Axis=None, skipna=None, level=None, numeric_only=None, min_count=0, AppliedDataA, AppliedDataB)\n",
    "\n",
    "print(AppliedData)\n",
    "\n",
    "\n"
   ]
  },
  {
   "cell_type": "code",
   "execution_count": 94,
   "metadata": {},
   "outputs": [
    {
     "ename": "AttributeError",
     "evalue": "'numpy.ndarray' object has no attribute 'get'",
     "output_type": "error",
     "traceback": [
      "\u001b[1;31m---------------------------------------------------------------------------\u001b[0m",
      "\u001b[1;31mAttributeError\u001b[0m                            Traceback (most recent call last)",
      "\u001b[1;32m<ipython-input-94-e2565cd9bd3d>\u001b[0m in \u001b[0;36m<module>\u001b[1;34m\u001b[0m\n\u001b[0;32m      8\u001b[0m \u001b[1;33m\u001b[0m\u001b[0m\n\u001b[0;32m      9\u001b[0m \u001b[1;33m\u001b[0m\u001b[0m\n\u001b[1;32m---> 10\u001b[1;33m \u001b[0msns\u001b[0m\u001b[1;33m.\u001b[0m\u001b[0mcatplot\u001b[0m\u001b[1;33m(\u001b[0m\u001b[0mx\u001b[0m\u001b[1;33m=\u001b[0m\u001b[1;34m\"Number of applications\"\u001b[0m\u001b[1;33m,\u001b[0m \u001b[0my\u001b[0m\u001b[1;33m=\u001b[0m\u001b[1;34m\"Applicants\"\u001b[0m\u001b[1;33m,\u001b[0m \u001b[0mjitter\u001b[0m\u001b[1;33m=\u001b[0m\u001b[1;32mFalse\u001b[0m\u001b[1;33m,\u001b[0m \u001b[0mdata\u001b[0m\u001b[1;33m=\u001b[0m\u001b[0my\u001b[0m\u001b[1;33m)\u001b[0m\u001b[1;33m\u001b[0m\u001b[1;33m\u001b[0m\u001b[0m\n\u001b[0m\u001b[0;32m     11\u001b[0m \u001b[0mplt\u001b[0m\u001b[1;33m.\u001b[0m\u001b[0mshow\u001b[0m\u001b[1;33m(\u001b[0m\u001b[1;33m)\u001b[0m\u001b[1;33m\u001b[0m\u001b[1;33m\u001b[0m\u001b[0m\n\u001b[0;32m     12\u001b[0m \u001b[1;33m\u001b[0m\u001b[0m\n",
      "\u001b[1;32m~\\anaconda3\\lib\\site-packages\\seaborn\\categorical.py\u001b[0m in \u001b[0;36mcatplot\u001b[1;34m(x, y, hue, data, row, col, col_wrap, estimator, ci, n_boot, units, seed, order, hue_order, row_order, col_order, kind, height, aspect, orient, color, palette, legend, legend_out, sharex, sharey, margin_titles, facet_kws, **kwargs)\u001b[0m\n\u001b[0;32m   3721\u001b[0m     \u001b[1;31m# facets to ensure representation of all data in the final plot\u001b[0m\u001b[1;33m\u001b[0m\u001b[1;33m\u001b[0m\u001b[1;33m\u001b[0m\u001b[0m\n\u001b[0;32m   3722\u001b[0m     \u001b[0mp\u001b[0m \u001b[1;33m=\u001b[0m \u001b[0m_CategoricalPlotter\u001b[0m\u001b[1;33m(\u001b[0m\u001b[1;33m)\u001b[0m\u001b[1;33m\u001b[0m\u001b[1;33m\u001b[0m\u001b[0m\n\u001b[1;32m-> 3723\u001b[1;33m     \u001b[0mp\u001b[0m\u001b[1;33m.\u001b[0m\u001b[0mestablish_variables\u001b[0m\u001b[1;33m(\u001b[0m\u001b[0mx_\u001b[0m\u001b[1;33m,\u001b[0m \u001b[0my_\u001b[0m\u001b[1;33m,\u001b[0m \u001b[0mhue\u001b[0m\u001b[1;33m,\u001b[0m \u001b[0mdata\u001b[0m\u001b[1;33m,\u001b[0m \u001b[0morient\u001b[0m\u001b[1;33m,\u001b[0m \u001b[0morder\u001b[0m\u001b[1;33m,\u001b[0m \u001b[0mhue_order\u001b[0m\u001b[1;33m)\u001b[0m\u001b[1;33m\u001b[0m\u001b[1;33m\u001b[0m\u001b[0m\n\u001b[0m\u001b[0;32m   3724\u001b[0m     \u001b[0morder\u001b[0m \u001b[1;33m=\u001b[0m \u001b[0mp\u001b[0m\u001b[1;33m.\u001b[0m\u001b[0mgroup_names\u001b[0m\u001b[1;33m\u001b[0m\u001b[1;33m\u001b[0m\u001b[0m\n\u001b[0;32m   3725\u001b[0m     \u001b[0mhue_order\u001b[0m \u001b[1;33m=\u001b[0m \u001b[0mp\u001b[0m\u001b[1;33m.\u001b[0m\u001b[0mhue_names\u001b[0m\u001b[1;33m\u001b[0m\u001b[1;33m\u001b[0m\u001b[0m\n",
      "\u001b[1;32m~\\anaconda3\\lib\\site-packages\\seaborn\\categorical.py\u001b[0m in \u001b[0;36mestablish_variables\u001b[1;34m(self, x, y, hue, data, orient, order, hue_order, units)\u001b[0m\n\u001b[0;32m    141\u001b[0m             \u001b[1;31m# See if we need to get variables from `data`\u001b[0m\u001b[1;33m\u001b[0m\u001b[1;33m\u001b[0m\u001b[1;33m\u001b[0m\u001b[0m\n\u001b[0;32m    142\u001b[0m             \u001b[1;32mif\u001b[0m \u001b[0mdata\u001b[0m \u001b[1;32mis\u001b[0m \u001b[1;32mnot\u001b[0m \u001b[1;32mNone\u001b[0m\u001b[1;33m:\u001b[0m\u001b[1;33m\u001b[0m\u001b[1;33m\u001b[0m\u001b[0m\n\u001b[1;32m--> 143\u001b[1;33m                 \u001b[0mx\u001b[0m \u001b[1;33m=\u001b[0m \u001b[0mdata\u001b[0m\u001b[1;33m.\u001b[0m\u001b[0mget\u001b[0m\u001b[1;33m(\u001b[0m\u001b[0mx\u001b[0m\u001b[1;33m,\u001b[0m \u001b[0mx\u001b[0m\u001b[1;33m)\u001b[0m\u001b[1;33m\u001b[0m\u001b[1;33m\u001b[0m\u001b[0m\n\u001b[0m\u001b[0;32m    144\u001b[0m                 \u001b[0my\u001b[0m \u001b[1;33m=\u001b[0m \u001b[0mdata\u001b[0m\u001b[1;33m.\u001b[0m\u001b[0mget\u001b[0m\u001b[1;33m(\u001b[0m\u001b[0my\u001b[0m\u001b[1;33m,\u001b[0m \u001b[0my\u001b[0m\u001b[1;33m)\u001b[0m\u001b[1;33m\u001b[0m\u001b[1;33m\u001b[0m\u001b[0m\n\u001b[0;32m    145\u001b[0m                 \u001b[0mhue\u001b[0m \u001b[1;33m=\u001b[0m \u001b[0mdata\u001b[0m\u001b[1;33m.\u001b[0m\u001b[0mget\u001b[0m\u001b[1;33m(\u001b[0m\u001b[0mhue\u001b[0m\u001b[1;33m,\u001b[0m \u001b[0mhue\u001b[0m\u001b[1;33m)\u001b[0m\u001b[1;33m\u001b[0m\u001b[1;33m\u001b[0m\u001b[0m\n",
      "\u001b[1;31mAttributeError\u001b[0m: 'numpy.ndarray' object has no attribute 'get'"
     ]
    }
   ],
   "source": [
    "#Now lets plot the number of women that applied to Departments A & B\n",
    "\n",
    "import matplotlib.pyplot as plt\n",
    "import seaborn as sns\n",
    "\n",
    "x=np.linspace(0,1,85)\n",
    "y=np.random.randint(10,size=80)\n",
    "\n",
    "\n",
    "sns.catplot(x=\"Number of applications\", y=\"Applicants\", jitter=False, data=y)\n",
    "plt.show()\n",
    "\n"
   ]
  },
  {
   "cell_type": "code",
   "execution_count": null,
   "metadata": {},
   "outputs": [],
   "source": []
  },
  {
   "cell_type": "code",
   "execution_count": null,
   "metadata": {},
   "outputs": [],
   "source": []
  },
  {
   "cell_type": "code",
   "execution_count": null,
   "metadata": {},
   "outputs": [],
   "source": []
  },
  {
   "cell_type": "code",
   "execution_count": null,
   "metadata": {},
   "outputs": [],
   "source": []
  }
 ],
 "metadata": {
  "kernelspec": {
   "display_name": "Python 3",
   "language": "python",
   "name": "python3"
  },
  "language_info": {
   "codemirror_mode": {
    "name": "ipython",
    "version": 3
   },
   "file_extension": ".py",
   "mimetype": "text/x-python",
   "name": "python",
   "nbconvert_exporter": "python",
   "pygments_lexer": "ipython3",
   "version": "3.8.3"
  }
 },
 "nbformat": 4,
 "nbformat_minor": 4
}
