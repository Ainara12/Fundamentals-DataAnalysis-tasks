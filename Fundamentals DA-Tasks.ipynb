{
 "cells": [
  {
   "cell_type": "markdown",
   "metadata": {},
   "source": [
    "\n",
    "\n",
    "## Fundamentals of Data Analysis  MODULE TASKS 2020\n",
    "\n",
    "In this notebook I am listing the 4 tasks to complete for this Fundamentals of Data Analysis module.\n",
    "\n",
    "\n"
   ]
  },
  {
   "cell_type": "markdown",
   "metadata": {},
   "source": [
    "### Task 1. 'Counts':\n",
    "\n",
    "\n",
    "*For this module's first task I am playing around with Jupyter Notebooks by creating a function called 'Counts' \n",
    "which takes a list as input and returns a dictionary of unique items in the list as keys and the number of times each item appears as values.We are not allowed to use built in modules.*\n",
    "\n",
    "***\n",
    "References\n",
    "\n",
    "- [Count methods for strings](https://www.programiz.com/python-programming/methods/string/count#:~:text=In%20simple%20words%2C%20count(),string.)\n",
    "\n",
    "- [Declare an empty list in Python](https://www.geeksforgeeks.org/declare-an-empty-list-in-python/)\n",
    "\n",
    "- [Real Python-sorting algorithms documentation](https://realpython.com/sorting-algorithms-python/)\n",
    "\n",
    "- [Python Inner Functions](https://www.geeksforgeeks.org/python-inner-functions/)\n",
    "\n",
    "- [Python list sorting methods](https://www.programiz.com/python-programming/methods/built-in/sorted)"
   ]
  },
  {
   "cell_type": "code",
   "execution_count": 2,
   "metadata": {},
   "outputs": [],
   "source": [
    "#Checking some questions in: https://stackoverflow.com/questions/28966495/python-counting-letters-in-string-without-count-function\n",
    "# I found part of this code that I modified to try to sort out the problem we have\n",
    "\n",
    "\n"
   ]
  },
  {
   "cell_type": "code",
   "execution_count": 3,
   "metadata": {},
   "outputs": [
    {
     "name": "stdout",
     "output_type": "stream",
     "text": [
      "['A', 'B', 'D', 'D']\n"
     ]
    }
   ],
   "source": [
    "\n",
    "#After consulting different sources and documentation I have come up with this formula printing the sorted list \n",
    "\n",
    "\n",
    "def sorted_list(mylist):\n",
    "    sortedresult=(sorted(mylist))#I set up the result of this function to be the list entered ordeder with sorted method\n",
    "    for letter in mylist:\n",
    "        length=0\n",
    "        if letter == mylist:\n",
    "            count = count + 1 \n",
    "            \n",
    "\n",
    "        else:\n",
    "            continue\n",
    "\n",
    "    return sortedresult\n",
    "\n",
    "print(sorted_list(['D','A','D','B']))\n",
    "\n",
    "#print(sorted_list(['F','G','A','B','B']))\n",
    "\n",
    "#Now for my dictionary which I need to print with values and keys as number of times\n",
    "#values repeat\n",
    "\n"
   ]
  },
  {
   "cell_type": "code",
   "execution_count": 4,
   "metadata": {},
   "outputs": [
    {
     "name": "stdout",
     "output_type": "stream",
     "text": [
      "{'D': 2, 'A': 1, 'B': 1}\n"
     ]
    }
   ],
   "source": [
    "#Using method listed here I am converting My list into a dictionary:\n",
    "\n",
    "'''https://www.geeksforgeeks.org/counting-the-frequencies-in-a-list-using-dictionary-in-python/'''\n",
    "\n",
    "# Python program to count the frequency of \n",
    "# elements in a list using a dictionary \n",
    "  \n",
    "def listtodict(mylist):     \n",
    "   # Creating an empty dictionary  \n",
    "    count = {} \n",
    "    for i in mylist: \n",
    "        count[i] = count.get(i, 0) + 1\n",
    "    return count \n",
    "  \n",
    "# Driver function \n",
    "if __name__ == \"__main__\":  \n",
    "    mylist =['D','A','D','B']\n",
    "    print(listtodict(mylist)) \n",
    "\n",
    "\n",
    "\n"
   ]
  },
  {
   "cell_type": "code",
   "execution_count": null,
   "metadata": {},
   "outputs": [],
   "source": [
    "#Now I need to nest both functions here to get a sorted list which converts into a dictionary counting the frequencies of every value\n",
    "#we enter\n",
    "\n",
    "\n",
    "def counts(user_input):\n",
    "    \n",
    "    def sorted_list(mylist):\n",
    "        sortedresult=(sorted(mylist))#I set up the result of this function to be the list entered ordeder with sorted method\n",
    "        for letter in mylist:\n",
    "            length=0\n",
    "            if letter == mylist:\n",
    "                count = count + 1 \n",
    "            \n",
    "            else:\n",
    "                continue\n",
    "\n",
    "        return sortedresult   \n",
    "   \n",
    "    def listtodict(mylist):     \n",
    "   # Creating an empty dictionary \n",
    "        dcount={}\n",
    "        for i in mylist:\n",
    "            dcount[i] = dcount.get(i, 0) + 1\n",
    "    return dcount \n",
    "  \n",
    "\n",
    "#Code to run this function   \n",
    "user_input= input('Please enter a list of elements:' )\n",
    "    \n",
    "print(counts(user_input))\n"
   ]
  },
  {
   "cell_type": "markdown",
   "metadata": {},
   "source": [
    "<br>\n",
    "\n",
    "Now that we have a sorting solution without importing any modules I am trying a solution to count the letters and print them as dictionary which I found in this [post](https://stackoverflow.com/questions/30963408/count-occurrences-of-each-key-in-python-dictionary)."
   ]
  },
  {
   "cell_type": "code",
   "execution_count": null,
   "metadata": {},
   "outputs": [],
   "source": [
    "#Printing solution into a dictionary counting occurences\n",
    "\n"
   ]
  },
  {
   "cell_type": "code",
   "execution_count": null,
   "metadata": {},
   "outputs": [],
   "source": [
    "#Example code for inner or nested functions as shown in one of my references detailed above: \n",
    "\n",
    "def outerFunction(text):  \n",
    "    text = text  \n",
    "    \n",
    "    def innerFunction():  \n",
    "        print(text)  \n",
    "    \n",
    "    innerFunction()  \n",
    "    \n",
    "if __name__ == '__main__':  \n",
    "    outerFunction('Hey !')  \n",
    "    \n",
    "    \n",
    "    \n",
    "print(outerFunction('Hiya!'))\n",
    "\n",
    "#Now trying this with my previous functions: \n",
    "\n",
    "#using this reference: https://www.youtube.com/watch?v=fVon4QaY4wo&ab_channel=TrevorPayne \n",
    "    "
   ]
  },
  {
   "cell_type": "code",
   "execution_count": null,
   "metadata": {},
   "outputs": [],
   "source": [
    "#Trying my previous functions as inner functions(THIS IS THE GOOD\n",
    "#one)\n",
    "mylist=[]\n",
    "Dictresult={} #I set my empty dictionary to print result of function\n",
    "\n",
    "def sorted_list(mylist):\n",
    "    result=(sorted(mylist))#I set up the result of this function to be the list entered ordeder with sorted method\n",
    "    for letter in mylist:\n",
    "        length=0\n",
    "        if letter == mylist:\n",
    "            count = count + 1 \n",
    "        else:\n",
    "            continue\n",
    "\n",
    "    return result\n",
    "    \n",
    "    \n",
    "    print(sorted_list(['B','C','A','B']))"
   ]
  },
  {
   "cell_type": "code",
   "execution_count": null,
   "metadata": {},
   "outputs": [],
   "source": [
    "\n",
    "\n",
    "def count_letters(my_letter):\n",
    "    count = 0\n",
    "    userList=str\n",
    "\n",
    "    for i in userList:\n",
    "        if i == my_letter:\n",
    "            count = count + 1\n",
    "\n",
    "        else:\n",
    "            continue\n",
    "\n",
    "    return (count)\n",
    "\n",
    "print(count_letters('ArrA'))\n",
    "            \n",
    "        \n",
    "        \n",
    "    "
   ]
  },
  {
   "cell_type": "code",
   "execution_count": null,
   "metadata": {
    "scrolled": true
   },
   "outputs": [],
   "source": [
    "#nesting functions:\n",
    "\n",
    "\n",
    "\n"
   ]
  },
  {
   "cell_type": "markdown",
   "metadata": {},
   "source": []
  },
  {
   "cell_type": "markdown",
   "metadata": {},
   "source": [
    "### Task 2. 'Dicerolls':\n",
    "\n",
    "For this task we are asked to create a function called 'dicerolls' that simulates a rolling dice. The function takes 2 parameters number of dice 'k' and the number of times to roll the dice 'n'. Function will simulate randomly rolling dice and keep track of each total face value\n",
    "so it then returns a dictionary with the number of times each possible total face value occurred. \n",
    "\n",
    "\n",
    "References:\n",
    "\n",
    "- [numpy.random.randint documentation](https://numpy.org/doc/stable/reference/random/generated/numpy.random.randint.html?highlight=random%20randint#numpy.random.randint)\n",
    "\n",
    "- [Random library documentation](https//docs.python.org/3.1/library/random.html)\n",
    "\n",
    "- [How to roll a dice with Python](https://medium.com/@diskokarl/how-to-roll-dice-with-python-34865d83f53d)\n",
    "\n",
    "  "
   ]
  },
  {
   "cell_type": "code",
   "execution_count": null,
   "metadata": {},
   "outputs": [],
   "source": [
    "import numpy as np\n",
    "import random \n",
    "\n",
    "\n",
    "def dice(k,n):\n",
    "    i = 0\n",
    "    diceroll= np.random.randint(1,6)\n",
    "    for i in range(n):\n",
    "        if k>= 1  and n>=1:\n",
    "            return diceroll (size=(n,6))\n",
    "        if k<1 and n<1:\n",
    "            print('These values are incorrect , please enter numbers in range 1-6')\n",
    "        \n",
    "\n",
    "\n",
    "\n",
    "print(dice(-1,-1))\n",
    "    \n",
    "\n",
    "    "
   ]
  },
  {
   "cell_type": "code",
   "execution_count": null,
   "metadata": {},
   "outputs": [],
   "source": [
    "#defining variables:\n",
    "from collections import defaultdict\n",
    "\n",
    "diceNumber = int(input('Choose number of dice:   '))\n",
    "rolls = int(input('How many times do you want to roll the dice(s)? : ' ))\n",
    "\n",
    "\n",
    "sides = np.random.randint(1,6)\n",
    "\n",
    "d = defaultdict(int)\n",
    "\n",
    "for i in range(rolls):\n",
    "        d[sum( np.random.choice(sides) for d in range(diceNumber) )] += 1\n",
    "total = float(rolls)\n",
    "\n",
    "for k in sorted(d.keys()):\n",
    "        print((k, d[k], 100.0*d[k]/total))\n",
    "                \n",
    "    \n",
    "        #Took part of the code from this source: https://stackoverflow.com/questions/6576367/python-dice-simulator\n",
    "        #Consulted documentation about default dict: https://www.geeksforgeeks.org/defaultdict-in-python/\n",
    "        #Need to find a way to convert this outcome into a dictionary with the outcomes frequencies. \n"
   ]
  },
  {
   "cell_type": "markdown",
   "metadata": {},
   "source": [
    "### Task 3. 'Flipping coins':\n",
    "\n",
    "Taking into account the numpy.random.binomial function which can be used to mimic the flipping of a coin with 50/50 chance of heads or tails. \n",
    "Write some python code that simulates flipping a coin 100 times. Then run this code 1,000 times, keeping track of the number of heads in each of the 1,000 simulations. Select an appropriate plot to depict the resulting list of 1,000 numbers, showing that it roughly follows a bell-shaped curve. You should explain your work in a Markdown cell above the\n",
    "code.\n",
    "\n",
    "***\n",
    "References:\n",
    "\n",
    "- [Numpy random binomial function documentation](https://numpy.org/doc/stable/reference/random/generated/numpy.random.binomial.html)\n",
    "- [Using numpy equal function](https://numpy.org/doc/stable/reference/generated/numpy.equal.html)\n",
    "- [Simulating coin toss experiment](https://cmdlinetips.com/2018/12/simulating-coin-toss-experiment-with-binomial-random-numbers-using-numpy/)\n",
    "- [Seaborn distplot documentation](https://seaborn.pydata.org/generated/seaborn.distplot.html)\n",
    "- [Coin flipping dice](https://towardsdatascience.com/how-to-code-a-fair-coin-flip-in-python-d54312f33da9)\n",
    "\n",
    "\n",
    "***\n",
    "\n"
   ]
  },
  {
   "cell_type": "markdown",
   "metadata": {},
   "source": [
    "In order to create this code , first I am experimenting with this function using simpler numbers . I experimented how to use numpy random binomial to flip a coin once and repeating this 100 times. I considered here that 'p' was 0.5 so this is a fair coin: "
   ]
  },
  {
   "cell_type": "code",
   "execution_count": null,
   "metadata": {},
   "outputs": [],
   "source": [
    "%matplotlib inline"
   ]
  },
  {
   "cell_type": "code",
   "execution_count": null,
   "metadata": {},
   "outputs": [],
   "source": [
    "#I imported the necessary modules to create this and to plot the results: \n",
    "import numpy as np\n",
    "import matplotlib.pyplot as plt \n",
    "import seaborn as sns\n",
    "\n",
    "n=1 #This is the number of heads\n",
    "p=0.5 #Probability, in this case 50/50 \n",
    "\n",
    "np.random.seed(42) #Usig random seed to keep same numbers for these examples\n",
    "coin = np.random.binomial(n, p, 100)\n",
    "# result of flipping a a coin ince tested 100 times\n",
    "\n",
    "print (coin)\n",
    "\n",
    "#Plotting result\n",
    "\n",
    "plt.style.use('bmh')\n",
    "sns.distplot(coin)\n",
    "\n",
    "plt.show()\n"
   ]
  },
  {
   "cell_type": "markdown",
   "metadata": {},
   "source": [
    "Now I modified 'p' to add some bias to the result, we select 'p<0.5' to produce more tails than heads:"
   ]
  },
  {
   "cell_type": "code",
   "execution_count": null,
   "metadata": {},
   "outputs": [],
   "source": [
    "\n",
    "np.random.seed(42)\n",
    "n = 1\n",
    "p = 0.4\n",
    "\n",
    "coin=np.random.binomial(n, p, 100)\n",
    "\n",
    "print(coin)\n",
    "\n",
    "sns.distplot(coin)\n"
   ]
  },
  {
   "cell_type": "markdown",
   "metadata": {},
   "source": [
    "Now I am creating a function that simulates the flip of a coin 100 times and repeat this experiment for 1000 times ( or any times you add to the parameters below) , once this is done you can see the distribution in a distplot created with seaborn.\n"
   ]
  },
  {
   "cell_type": "code",
   "execution_count": null,
   "metadata": {},
   "outputs": [],
   "source": [
    "\n",
    "#First I created my variables. I assumed that the probability is 0.5 for this case: \n",
    "n=100\n",
    "p=0.5\n",
    "size=1000\n",
    "\n",
    " \n",
    "def coinflips(n,size):\n",
    "    result = np.random.binomial(n, 0.5,size)\n",
    "    return result\n",
    "        \n",
    "\n",
    "print(coinflips(100,1000))\n",
    "\n",
    "#Plotting these results to confirm it follows a bell-shaped curve: \n",
    "\n",
    "coinflips= resultflipping\n",
    "\n",
    "plt.plot(resultflipping)\n",
    "\n",
    "\n",
    "\n",
    "\n",
    "plt.show()"
   ]
  },
  {
   "cell_type": "code",
   "execution_count": null,
   "metadata": {},
   "outputs": [],
   "source": [
    "#Plotting these results to confirm it follows a bell-shaped curve: \n",
    "\n",
    "coinflips = flippedcoin\n",
    "\n",
    "flippedcoin\n"
   ]
  },
  {
   "cell_type": "markdown",
   "metadata": {},
   "source": [
    "Now let's see what happens to the shape if we change the coin to unfair:"
   ]
  },
  {
   "cell_type": "code",
   "execution_count": null,
   "metadata": {
    "scrolled": true
   },
   "outputs": [],
   "source": [
    "def coinflips(n,size):\n",
    "    result = np.random.binomial(n, 0.2,size)\n",
    "    return result\n",
    "\n",
    "print(coinflips(100,1000))\n",
    "\n",
    "coinflips= flipcoin\n",
    "\n",
    "sns.distplot(flipcoin)\n"
   ]
  },
  {
   "cell_type": "code",
   "execution_count": null,
   "metadata": {},
   "outputs": [],
   "source": []
  },
  {
   "cell_type": "markdown",
   "metadata": {},
   "source": [
    "### Task 4.'Simpson's paradox':\n",
    "\n",
    "Simpson’s paradox is a well-known statistical paradox where a trend evident in a number of groups reverses when the groups are combined into one big data set. Use numpy to create four data sets, each with an x array and a corresponding y array, to demonstrate Simpson’s paradox. \n",
    "You might create your x arrays using numpy.linspace and create the y array for each x using notation like y = a * x + b where you choose the a and b for each x , y pair to demonstrate the paradox. You might see the Wikipedia page for Simpson’s paradox for inspiration.\n",
    "***\n",
    "References:\n",
    "\n",
    "- [Simpson's paradox Wikipedia page]()\n",
    "- [Generating examples of Simpson's paradox](http://www.degeneratestate.org/posts/2017/Oct/22/generating-examples-of-simpsons-paradox/)\n",
    "- [Simpson's paradox](https://www.kaggle.com/saicataram/simpson-s-paradox-in-python)\n",
    "- [Pandas categorical data documentation](https://pandas.pydata.org/pandas-docs/stable/user_guide/categorical.html)\n",
    "-[Time series tutorial using pandas](https://www.datacamp.com/community/tutorials/time-series-analysis-tutorial)\n",
    "***\n",
    "\n"
   ]
  },
  {
   "cell_type": "markdown",
   "metadata": {},
   "source": [
    "I am creating 4 datasets using numpy to demonstrate this paradox. Using the topic of employment ans gender. I created data set 1 for admited and applicant number of women in department A:"
   ]
  },
  {
   "cell_type": "code",
   "execution_count": null,
   "metadata": {},
   "outputs": [],
   "source": [
    "#Creating data set: \n",
    "\n",
    "#Women that applied to the department, considering 30 vacancies:\n",
    "\n",
    "import numpy as np\n",
    "import random \n",
    "import pandas as pd\n",
    "import matplotlib as plt\n",
    "import seaborn as sns\n",
    "\n",
    "a= np.random.randint(3, 10, size=31)#This is the array with the samples of women that applied to the jobs\n",
    "\n",
    "#print(a)\n",
    "\n",
    "#Women that were accepted in these jobs\n",
    "\n",
    "b=np.random.randint(3,10, size=31)\n",
    "\n",
    "#print(b)\n",
    "\n",
    "women_applied=pd.DataFrame(a,columns=['Women applied'])\n",
    "women_accepted=pd.DataFrame(b,columns=['Women accepted'])\n",
    "\n",
    "#print(women_applied)\n",
    "#print(women_accepted)\n",
    "\n",
    "#adding both arrays to demonstrate paradox in women's side: \n",
    "\n",
    "#Plotting\n",
    "\n",
    "a=women_applied\n",
    "b=women_accepted\n",
    "\n"
   ]
  },
  {
   "cell_type": "code",
   "execution_count": null,
   "metadata": {},
   "outputs": [],
   "source": [
    "#Trying approach from this source: https://www.dataquest.io/blog/numpy-tutorial-python/\n",
    "\n",
    "np.random.seed(42)\n",
    "a=np.random.randint(1,10,size=35)\n",
    "\n",
    "\n",
    "\n",
    "\n",
    "#plotting\n",
    "\n",
    "import matplotlib.pyplot as plt\n",
    "import seaborn as sns\n",
    "\n",
    "\n",
    "\n",
    "\n",
    "x=np.linspace(1,1,35)\n",
    "y=np.random.randint(1,10,size=35)\n",
    "\n",
    "\n",
    "plt.scatter(x,y)\n",
    "\n",
    "\n",
    "plt.show()\n"
   ]
  },
  {
   "cell_type": "code",
   "execution_count": null,
   "metadata": {},
   "outputs": [],
   "source": [
    "#Now lets plot the number of women that applied agains the ones that were accepted: \n",
    "\n",
    "\n",
    "womenapplied=np.random.randint(10,size=26)\n",
    "\n",
    "np.random.seed(42)\n",
    "\n",
    "\n",
    "#Women accepted in department:\n",
    "\n",
    "womenaccepted=np.random.randint(10,size=26)\n",
    "\n",
    "\n",
    "womendata=pd.DataFrame(womenapplied,womenaccepted)\n",
    "womendata.columns=['Women applied to department','Women accepted in department']\n",
    "#womenaccepted=pd.DataFrame(womenaccepted, columns=['Women accepted in department'])\n",
    "\n",
    "print(womendata)\n",
    "\n",
    "#print(womenaccepted)\n",
    "\n",
    "\n",
    "\n"
   ]
  },
  {
   "cell_type": "code",
   "execution_count": null,
   "metadata": {},
   "outputs": [],
   "source": [
    "#Different approach using the procedure explained here: http://www.degeneratestate.org/posts/2017/Oct/22/generating\n",
    "#-examples-of-simpsons-paradox/ \n",
    "\n",
    "#first I import the needed modules: \n",
    "\n",
    "import numpy as np\n",
    "import pandas as pd\n",
    "import matplotlib.pyplot as plt\n",
    "import seaborn as sns\n",
    "\n",
    "%matplotlib inline\n",
    "\n",
    "\n",
    "\n",
    "print(AppliedDataA)\n",
    "\n"
   ]
  },
  {
   "cell_type": "markdown",
   "metadata": {},
   "source": [
    "Considering the amount of women that applied vs the ones accepted , we can observe that considering x= as women that applied and y=as the ones accepted in the departments it appears that there is  a negative correlation, see below : "
   ]
  },
  {
   "cell_type": "code",
   "execution_count": null,
   "metadata": {},
   "outputs": [],
   "source": []
  },
  {
   "cell_type": "code",
   "execution_count": null,
   "metadata": {},
   "outputs": [],
   "source": []
  },
  {
   "cell_type": "code",
   "execution_count": null,
   "metadata": {},
   "outputs": [],
   "source": []
  }
 ],
 "metadata": {
  "kernelspec": {
   "display_name": "Python 3",
   "language": "python",
   "name": "python3"
  },
  "language_info": {
   "codemirror_mode": {
    "name": "ipython",
    "version": 3
   },
   "file_extension": ".py",
   "mimetype": "text/x-python",
   "name": "python",
   "nbconvert_exporter": "python",
   "pygments_lexer": "ipython3",
   "version": "3.8.3"
  }
 },
 "nbformat": 4,
 "nbformat_minor": 4
}
