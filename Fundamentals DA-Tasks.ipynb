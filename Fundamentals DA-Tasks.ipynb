{
 "cells": [
  {
   "cell_type": "markdown",
   "metadata": {},
   "source": [
    "\n",
    "\n",
    "## Fundamentals of Data Analysis  MODULE TASKS 2020\n",
    "\n",
    "In this notebook I am listing the 4 tasks to complete for this Fundamentals of Data Analysis module.\n",
    "\n",
    "Table of contents:\n",
    "\n",
    "- Task 1.\n",
    "- Task 2.\n",
    "- Task 3.\n",
    "- Task 4.\n"
   ]
  },
  {
   "cell_type": "markdown",
   "metadata": {},
   "source": [
    "### Task 1. 'Counts':\n",
    "\n",
    "\n",
    "For this module's first task I am playing around with Jupyter Notebooks by creating a function called 'Counts' \n",
    "which takes a list as input and returns a dictionary of unique items in the list as keys and the number of times each item appears as values.We are not allowed to use built in modules\n",
    "\n",
    "References\n",
    "\n",
    "- [Count methods for strings](https://www.programiz.com/python-programming/methods/string/count#:~:text=In%20simple%20words%2C%20count(),string.)\n",
    "\n",
    "    \n"
   ]
  },
  {
   "cell_type": "code",
   "execution_count": null,
   "metadata": {},
   "outputs": [],
   "source": [
    "def Mydictionary.items()\n",
    "    for key, value in Mydictionary.items(): \n",
    "        return (\"% d : % d\"%(key, value)) \n",
    "   "
   ]
  },
  {
   "cell_type": "code",
   "execution_count": null,
   "metadata": {},
   "outputs": [],
   "source": [
    "\n",
    "\n",
    "\n",
    "def counts(Mylist):\n",
    "    Mylist=[]\n",
    "    Mydictionary ={}\n",
    "    scount= Mylist.count\n",
    "    for item in Mylist:\n",
    "            if (item in scount):\n",
    "                    Mydictionary[item]+=1\n",
    "            elif(item not in scount):\n",
    "                   Mydictionary[item]=1\n",
    "            \n",
    "   #In order to avoid error 'list' is not callable. I defined here what must be printed as result of this function:\n",
    "   \n",
    "\n",
    "\n",
    "print(counts(['A','B','D','D']))\n",
    "            \n",
    "        \n",
    "        \n",
    "\n",
    "            \n",
    "        \n",
    "        \n",
    "    "
   ]
  },
  {
   "cell_type": "code",
   "execution_count": null,
   "metadata": {
    "scrolled": true
   },
   "outputs": [],
   "source": [
    "#trying some parts of the code: \n",
    "\n",
    "\n",
    "Mylist=['A','B','D','D']\n",
    "\n",
    "count= Mylist.count('G')\n",
    "\n",
    "count\n",
    "\n",
    "\n"
   ]
  },
  {
   "cell_type": "markdown",
   "metadata": {},
   "source": []
  },
  {
   "cell_type": "markdown",
   "metadata": {},
   "source": [
    "### Task 2. 'Dicerolls':\n",
    "\n",
    "For this task we are asked to create a function called 'dicerolls' that simulates a rolling dice. The function takes 2 parameters number of dice 'k' and the number of times to roll the dice 'n'. Function will simulate randomly rolling dice and keep track of each total face value\n",
    "so it then returns a dictionary with the number of times each possible total face value occurred. \n",
    "\n",
    "\n",
    "References:\n",
    "\n",
    "- [numpy.random.randint documentation](https://numpy.org/doc/stable/reference/random/generated/numpy.random.randint.html?highlight=random%20randint#numpy.random.randint)\n",
    "\n",
    "- [Random library documentation](https//docs.python.org/3.1/library/random.html) \n",
    "\n",
    "https://medium.com/@diskokarl/how-to-roll-dice-with-python-34865d83f53d\n",
    "\n",
    "  "
   ]
  },
  {
   "cell_type": "code",
   "execution_count": null,
   "metadata": {},
   "outputs": [],
   "source": [
    "import numpy as np\n",
    "import random \n",
    "\n",
    "\n",
    "def dice(k,n):\n",
    "    i = 0\n",
    "    diceroll= np.random.randint(1,6)\n",
    "    for i in range(n):\n",
    "        if k>= 1  and n>=1:\n",
    "            return diceroll (size=(n,6))\n",
    "        if k<1 and n<1:\n",
    "            print('These values are incorrect , please enter numbers in range 1-6')\n",
    "        \n",
    "\n",
    "\n",
    "\n",
    "print(dice(-1,-1))\n",
    "    \n",
    "\n",
    "    "
   ]
  },
  {
   "cell_type": "code",
   "execution_count": null,
   "metadata": {},
   "outputs": [],
   "source": [
    "#defining variables:\n",
    "from collections import defaultdict\n",
    "\n",
    "diceNumber = int(input('Choose number of dice:   '))\n",
    "rolls = int(input('How many times do you want to roll the dice(s)? : ' ))\n",
    "\n",
    "\n",
    "sides = np.random.randint(1,6)\n",
    "\n",
    "d = defaultdict(int)\n",
    "\n",
    "for i in range(rolls):\n",
    "        d[sum( np.random.choice(sides) for d in range(diceNumber) )] += 1\n",
    "total = float(rolls)\n",
    "\n",
    "for k in sorted(d.keys()):\n",
    "        print((k, d[k], 100.0*d[k]/total))\n",
    "                \n",
    "    \n",
    "        #Took part of the code from this source: https://stackoverflow.com/questions/6576367/python-dice-simulator\n",
    "        #Consulted documentation about default dict: https://www.geeksforgeeks.org/defaultdict-in-python/\n",
    "        #Need to find a way to convert this outcome into a dictionary with the outcomes frequencies. \n"
   ]
  },
  {
   "cell_type": "markdown",
   "metadata": {},
   "source": [
    "### Task 3. 'Flipping coins':\n",
    "\n",
    "Taking into account the numpy.random.binomial function which can be used to mimic the flipping of a coin with 50/50 chance of heads or tails. \n",
    "Write some python code that simulates flipping a coin 100 times. Then run this code 1,000 times, keeping track of the number of heads in each of the 1,000 simulations. Select an appropriate plot to depict the resulting list of 1,000 numbers, showing that it roughly follows a bell-shaped curve. You should explain your work in a Markdown cell above the\n",
    "code.\n",
    "\n",
    "***\n",
    "References:\n",
    "\n",
    "- [Numpy random binomial function documentation](https://numpy.org/doc/stable/reference/random/generated/numpy.random.binomial.html)\n",
    "- [Using numpy equal function](https://numpy.org/doc/stable/reference/generated/numpy.equal.html)\n",
    "- [Simulating coin toss experiment](https://cmdlinetips.com/2018/12/simulating-coin-toss-experiment-with-binomial-random-numbers-using-numpy/)\n",
    "- [Seaborn distplot documentation](https://seaborn.pydata.org/generated/seaborn.distplot.html)\n",
    "- [Coin flipping dice](https://towardsdatascience.com/how-to-code-a-fair-coin-flip-in-python-d54312f33da9)\n",
    "\n",
    "\n",
    "***\n",
    "\n"
   ]
  },
  {
   "cell_type": "markdown",
   "metadata": {},
   "source": [
    "In order to create this code , first I am experimenting with this function using simpler numbers . I experimented how to use numpy random binomial to flip a coin once and repeating this 100 times. I considered here that 'p' was 0.5 so this is a fair coin: "
   ]
  },
  {
   "cell_type": "code",
   "execution_count": 1,
   "metadata": {},
   "outputs": [],
   "source": [
    "%matplotlib inline"
   ]
  },
  {
   "cell_type": "code",
   "execution_count": 2,
   "metadata": {},
   "outputs": [
    {
     "name": "stdout",
     "output_type": "stream",
     "text": [
      "[0 1 1 1 0 0 0 1 1 1 0 1 1 0 0 0 0 1 0 0 1 0 0 0 0 1 0 1 1 0 1 0 0 1 1 1 0\n",
      " 0 1 0 0 0 0 1 0 1 0 1 1 0 1 1 1 1 1 1 0 0 0 0 0 0 1 0 0 1 0 1 0 1 1 0 0 1\n",
      " 1 1 1 0 0 0 1 1 0 0 0 0 1 1 1 0 0 1 1 1 1 0 1 0 0 0]\n"
     ]
    },
    {
     "data": {
      "image/png": "[encoded data removed]",
      "text/plain": [
       "<Figure size 432x288 with 1 Axes>"
      ]
     },
     "metadata": {
      "needs_background": "light"
     },
     "output_type": "display_data"
    }
   ],
   "source": [
    "#I imported the necessary modules to create this and to plot the results: \n",
    "import numpy as np\n",
    "import matplotlib.pyplot as plt \n",
    "import seaborn as sns\n",
    "\n",
    "n=1 #This is the number of heads\n",
    "p=0.5 #Probability, in this case 50/50 \n",
    "\n",
    "np.random.seed(42) #Usig random seed to keep same numbers for these examples\n",
    "coin = np.random.binomial(n, p, 100)\n",
    "# result of flipping a a coin ince tested 100 times\n",
    "\n",
    "print (coin)\n",
    "\n",
    "#Plotting result\n",
    "\n",
    "plt.style.use('bmh')\n",
    "sns.distplot(coin)\n",
    "\n",
    "plt.show()\n"
   ]
  },
  {
   "cell_type": "markdown",
   "metadata": {},
   "source": [
    "Now I modified 'p' to add some bias to the result, we select 'p<0.5' to produce more tails than heads:"
   ]
  },
  {
   "cell_type": "code",
   "execution_count": 3,
   "metadata": {},
   "outputs": [
    {
     "name": "stdout",
     "output_type": "stream",
     "text": [
      "[0 1 1 0 0 0 0 1 1 1 0 1 1 0 0 0 0 0 0 0 1 0 0 0 0 1 0 0 0 0 1 0 0 1 1 1 0\n",
      " 0 1 0 0 0 0 1 0 1 0 0 0 0 1 1 1 1 0 1 0 0 0 0 0 0 1 0 0 0 0 1 0 1 1 0 0 1\n",
      " 1 1 1 0 0 0 1 1 0 0 0 0 1 1 1 0 0 1 1 0 1 0 0 0 0 0]\n"
     ]
    },
    {
     "data": {
      "text/plain": [
       "<matplotlib.axes._subplots.AxesSubplot at 0x1a440539eb0>"
      ]
     },
     "execution_count": 3,
     "metadata": {},
     "output_type": "execute_result"
    },
    {
     "data": {
      "image/png": "[encoded data removed]",
      "text/plain": [
       "<Figure size 432x288 with 1 Axes>"
      ]
     },
     "metadata": {
      "needs_background": "light"
     },
     "output_type": "display_data"
    }
   ],
   "source": [
    "\n",
    "np.random.seed(42)\n",
    "n = 1\n",
    "p = 0.4\n",
    "\n",
    "coin=np.random.binomial(n, p, 100)\n",
    "\n",
    "print(coin)\n",
    "\n",
    "sns.distplot(coin)\n"
   ]
  },
  {
   "cell_type": "markdown",
   "metadata": {},
   "source": [
    "Now I am creating a function that simulates the flip of a coin 100 times and repeat this experiment for 1000 times ( or any times you add to the parameters below) , once this is done you can see the distribution in a distplot created with seaborn.\n"
   ]
  },
  {
   "cell_type": "code",
   "execution_count": 1,
   "metadata": {},
   "outputs": [
    {
     "ename": "NameError",
     "evalue": "name 'np' is not defined",
     "output_type": "error",
     "traceback": [
      "\u001b[1;31m---------------------------------------------------------------------------\u001b[0m",
      "\u001b[1;31mNameError\u001b[0m                                 Traceback (most recent call last)",
      "\u001b[1;32m<ipython-input-1-b0f74ea97ab8>\u001b[0m in \u001b[0;36m<module>\u001b[1;34m\u001b[0m\n\u001b[0;32m     10\u001b[0m \u001b[1;33m\u001b[0m\u001b[0m\n\u001b[0;32m     11\u001b[0m \u001b[1;33m\u001b[0m\u001b[0m\n\u001b[1;32m---> 12\u001b[1;33m \u001b[0mprint\u001b[0m\u001b[1;33m(\u001b[0m\u001b[0mcoinflips\u001b[0m\u001b[1;33m(\u001b[0m\u001b[1;36m100\u001b[0m\u001b[1;33m,\u001b[0m\u001b[1;36m1000\u001b[0m\u001b[1;33m)\u001b[0m\u001b[1;33m)\u001b[0m\u001b[1;33m\u001b[0m\u001b[1;33m\u001b[0m\u001b[0m\n\u001b[0m\u001b[0;32m     13\u001b[0m \u001b[1;33m\u001b[0m\u001b[0m\n\u001b[0;32m     14\u001b[0m \u001b[1;31m#Plotting these results to confirm it follows a bell-shaped curve:\u001b[0m\u001b[1;33m\u001b[0m\u001b[1;33m\u001b[0m\u001b[1;33m\u001b[0m\u001b[0m\n",
      "\u001b[1;32m<ipython-input-1-b0f74ea97ab8>\u001b[0m in \u001b[0;36mcoinflips\u001b[1;34m(n, size)\u001b[0m\n\u001b[0;32m      6\u001b[0m \u001b[1;33m\u001b[0m\u001b[0m\n\u001b[0;32m      7\u001b[0m \u001b[1;32mdef\u001b[0m \u001b[0mcoinflips\u001b[0m\u001b[1;33m(\u001b[0m\u001b[0mn\u001b[0m\u001b[1;33m,\u001b[0m\u001b[0msize\u001b[0m\u001b[1;33m)\u001b[0m\u001b[1;33m:\u001b[0m\u001b[1;33m\u001b[0m\u001b[1;33m\u001b[0m\u001b[0m\n\u001b[1;32m----> 8\u001b[1;33m     \u001b[0mresult\u001b[0m \u001b[1;33m=\u001b[0m \u001b[0mnp\u001b[0m\u001b[1;33m.\u001b[0m\u001b[0mrandom\u001b[0m\u001b[1;33m.\u001b[0m\u001b[0mbinomial\u001b[0m\u001b[1;33m(\u001b[0m\u001b[0mn\u001b[0m\u001b[1;33m,\u001b[0m \u001b[1;36m0.5\u001b[0m\u001b[1;33m,\u001b[0m\u001b[0msize\u001b[0m\u001b[1;33m)\u001b[0m\u001b[1;33m\u001b[0m\u001b[1;33m\u001b[0m\u001b[0m\n\u001b[0m\u001b[0;32m      9\u001b[0m     \u001b[1;32mreturn\u001b[0m \u001b[0mresult\u001b[0m\u001b[1;33m\u001b[0m\u001b[1;33m\u001b[0m\u001b[0m\n\u001b[0;32m     10\u001b[0m \u001b[1;33m\u001b[0m\u001b[0m\n",
      "\u001b[1;31mNameError\u001b[0m: name 'np' is not defined"
     ]
    }
   ],
   "source": [
    "\n",
    "#First I created my variables. I assumed that the probability is 0.5 for this case: \n",
    "n=100\n",
    "p=0.5\n",
    "size=1000\n",
    "\n",
    " \n",
    "def coinflips(n,size):\n",
    "    result = np.random.binomial(n, 0.5,size)\n",
    "    return result\n",
    "        \n",
    "\n",
    "print(coinflips(100,1000))\n",
    "\n",
    "#Plotting these results to confirm it follows a bell-shaped curve: \n",
    "\n",
    "coinflips= resultflipping\n",
    "\n",
    "plt.plot(resultflipping)\n",
    "\n",
    "\n",
    "\n",
    "\n",
    "plt.show()"
   ]
  },
  {
   "cell_type": "code",
   "execution_count": 14,
   "metadata": {},
   "outputs": [
    {
     "ename": "NameError",
     "evalue": "name 'flippedcoin' is not defined",
     "output_type": "error",
     "traceback": [
      "\u001b[1;31m---------------------------------------------------------------------------\u001b[0m",
      "\u001b[1;31mNameError\u001b[0m                                 Traceback (most recent call last)",
      "\u001b[1;32m<ipython-input-14-1e946e7d9622>\u001b[0m in \u001b[0;36m<module>\u001b[1;34m\u001b[0m\n\u001b[0;32m      1\u001b[0m \u001b[1;31m#Plotting these results to confirm it follows a bell-shaped curve:\u001b[0m\u001b[1;33m\u001b[0m\u001b[1;33m\u001b[0m\u001b[1;33m\u001b[0m\u001b[0m\n\u001b[0;32m      2\u001b[0m \u001b[1;33m\u001b[0m\u001b[0m\n\u001b[1;32m----> 3\u001b[1;33m \u001b[0mcoinflips\u001b[0m \u001b[1;33m=\u001b[0m \u001b[0mflippedcoin\u001b[0m\u001b[1;33m\u001b[0m\u001b[1;33m\u001b[0m\u001b[0m\n\u001b[0m\u001b[0;32m      4\u001b[0m \u001b[1;33m\u001b[0m\u001b[0m\n\u001b[0;32m      5\u001b[0m \u001b[0mflippedcoin\u001b[0m\u001b[1;33m\u001b[0m\u001b[1;33m\u001b[0m\u001b[0m\n",
      "\u001b[1;31mNameError\u001b[0m: name 'flippedcoin' is not defined"
     ]
    }
   ],
   "source": [
    "#Plotting these results to confirm it follows a bell-shaped curve: \n",
    "\n",
    "coinflips = flippedcoin\n",
    "\n",
    "flippedcoin\n"
   ]
  },
  {
   "cell_type": "markdown",
   "metadata": {},
   "source": [
    "Now let's see what happens to the shape if we change the coin to unfair:"
   ]
  },
  {
   "cell_type": "code",
   "execution_count": null,
   "metadata": {
    "scrolled": true
   },
   "outputs": [],
   "source": [
    "def coinflips(n,size):\n",
    "    result = np.random.binomial(n, 0.2,size)\n",
    "    return result\n",
    "\n",
    "print(coinflips(100,1000))\n",
    "\n",
    "coinflips= flipcoin\n",
    "\n",
    "sns.distplot(flipcoin)\n"
   ]
  },
  {
   "cell_type": "code",
   "execution_count": null,
   "metadata": {},
   "outputs": [],
   "source": []
  },
  {
   "cell_type": "markdown",
   "metadata": {},
   "source": [
    "### Task 4.'Simpson's paradox':\n",
    "\n",
    "Simpson’s paradox is a well-known statistical paradox where a trend evident in a number of groups reverses when the groups are combined into one big data set. Use numpy to create four data sets, each with an x array and a corresponding y array, to demonstrate Simpson’s paradox. \n",
    "You might create your x arrays using numpy.linspace and create the y array for each x using notation like y = a * x + b where you choose the a and b for each x , y pair to demonstrate the paradox. You might see the Wikipedia page for Simpson’s paradox for inspiration.\n",
    "***\n",
    "References:\n",
    "\n",
    "- [Simpson's paradox Wikipedia page]()\n",
    "- [Generating examples of Simpson's paradox](http://www.degeneratestate.org/posts/2017/Oct/22/generating-examples-of-simpsons-paradox/)\n",
    "- [Simpson's paradox](https://www.kaggle.com/saicataram/simpson-s-paradox-in-python)\n",
    "- [Pandas categorical data documentation](https://pandas.pydata.org/pandas-docs/stable/user_guide/categorical.html)\n",
    "-[Time series tutorial using pandas](https://www.datacamp.com/community/tutorials/time-series-analysis-tutorial)\n",
    "***\n",
    "\n"
   ]
  },
  {
   "cell_type": "markdown",
   "metadata": {},
   "source": [
    "I am creating 4 datasets using numpy to demonstrate this paradox. Using the topic of employment ans gender. I created data set 1 for admited and applicant number of women in department A:"
   ]
  },
  {
   "cell_type": "code",
   "execution_count": 3,
   "metadata": {},
   "outputs": [],
   "source": [
    "#Creating data set: \n",
    "\n",
    "#Women that applied to the department, considering 30 vacancies:\n",
    "\n",
    "import numpy as np\n",
    "import random \n",
    "import pandas as pd\n",
    "import matplotlib as plt\n",
    "import seaborn as sns\n",
    "\n",
    "a= np.random.randint(3, 10, size=31)#This is the array with the samples of women that applied to the jobs\n",
    "\n",
    "#print(a)\n",
    "\n",
    "#Women that were accepted in these jobs\n",
    "\n",
    "b=np.random.randint(3,10, size=31)\n",
    "\n",
    "#print(b)\n",
    "\n",
    "women_applied=pd.DataFrame(a,columns=['Women applied'])\n",
    "women_accepted=pd.DataFrame(b,columns=['Women accepted'])\n",
    "\n",
    "#print(women_applied)\n",
    "#print(women_accepted)\n",
    "\n",
    "#adding both arrays to demonstrate paradox in women's side: \n",
    "\n",
    "#Plotting\n",
    "\n",
    "a=women_applied\n",
    "b=women_accepted\n",
    "\n"
   ]
  },
  {
   "cell_type": "code",
   "execution_count": 4,
   "metadata": {},
   "outputs": [
    {
     "ename": "NameError",
     "evalue": "name 'data' is not defined",
     "output_type": "error",
     "traceback": [
      "\u001b[1;31m---------------------------------------------------------------------------\u001b[0m",
      "\u001b[1;31mNameError\u001b[0m                                 Traceback (most recent call last)",
      "\u001b[1;32m<ipython-input-4-7949d52b913a>\u001b[0m in \u001b[0;36m<module>\u001b[1;34m\u001b[0m\n\u001b[0;32m      4\u001b[0m \u001b[0ma\u001b[0m\u001b[1;33m=\u001b[0m\u001b[0mnp\u001b[0m\u001b[1;33m.\u001b[0m\u001b[0mrandom\u001b[0m\u001b[1;33m.\u001b[0m\u001b[0mrandint\u001b[0m\u001b[1;33m(\u001b[0m\u001b[1;36m1\u001b[0m\u001b[1;33m,\u001b[0m\u001b[1;36m10\u001b[0m\u001b[1;33m,\u001b[0m\u001b[0msize\u001b[0m\u001b[1;33m=\u001b[0m\u001b[1;36m35\u001b[0m\u001b[1;33m)\u001b[0m\u001b[1;33m\u001b[0m\u001b[1;33m\u001b[0m\u001b[0m\n\u001b[0;32m      5\u001b[0m \u001b[1;33m\u001b[0m\u001b[0m\n\u001b[1;32m----> 6\u001b[1;33m \u001b[0mprint\u001b[0m\u001b[1;33m(\u001b[0m\u001b[0mdata\u001b[0m\u001b[1;33m)\u001b[0m\u001b[1;33m\u001b[0m\u001b[1;33m\u001b[0m\u001b[0m\n\u001b[0m\u001b[0;32m      7\u001b[0m \u001b[1;33m\u001b[0m\u001b[0m\n\u001b[0;32m      8\u001b[0m \u001b[1;33m\u001b[0m\u001b[0m\n",
      "\u001b[1;31mNameError\u001b[0m: name 'data' is not defined"
     ]
    }
   ],
   "source": [
    "#Trying approach from this source: https://www.dataquest.io/blog/numpy-tutorial-python/\n",
    "\n",
    "np.random.seed(42)\n",
    "a=np.random.randint(1,10,size=35)\n",
    "\n",
    "print(data)\n",
    "\n",
    "\n",
    "\n",
    "\n",
    "#plotting\n",
    "\n",
    "import matplotlib.pyplot as plt\n",
    "import seaborn as sns\n",
    "\n",
    "\n",
    "\n",
    "plt.style.use('bmh')\n",
    "\n",
    "x=np.linspace(1,1,35)\n",
    "y=a\n",
    "\n",
    "\n",
    "plt.lineplot(x, y)\n",
    "\n",
    "plt.show()\n"
   ]
  },
  {
   "cell_type": "code",
   "execution_count": 12,
   "metadata": {},
   "outputs": [
    {
     "ename": "ValueError",
     "evalue": "Length mismatch: Expected axis has 1 elements, new values have 2 elements",
     "output_type": "error",
     "traceback": [
      "\u001b[1;31m---------------------------------------------------------------------------\u001b[0m",
      "\u001b[1;31mValueError\u001b[0m                                Traceback (most recent call last)",
      "\u001b[1;32m<ipython-input-12-2a4a59206a87>\u001b[0m in \u001b[0;36m<module>\u001b[1;34m\u001b[0m\n\u001b[0;32m     13\u001b[0m \u001b[1;33m\u001b[0m\u001b[0m\n\u001b[0;32m     14\u001b[0m \u001b[0mwomendata\u001b[0m\u001b[1;33m=\u001b[0m\u001b[0mpd\u001b[0m\u001b[1;33m.\u001b[0m\u001b[0mDataFrame\u001b[0m\u001b[1;33m(\u001b[0m\u001b[0mwomenapplied\u001b[0m\u001b[1;33m,\u001b[0m\u001b[0mwomenaccepted\u001b[0m\u001b[1;33m)\u001b[0m\u001b[1;33m\u001b[0m\u001b[1;33m\u001b[0m\u001b[0m\n\u001b[1;32m---> 15\u001b[1;33m \u001b[0mwomendata\u001b[0m\u001b[1;33m.\u001b[0m\u001b[0mcolumns\u001b[0m\u001b[1;33m=\u001b[0m\u001b[1;33m[\u001b[0m\u001b[1;34m'Women applied to department'\u001b[0m\u001b[1;33m,\u001b[0m\u001b[1;34m'Women accepted in department'\u001b[0m\u001b[1;33m]\u001b[0m\u001b[1;33m\u001b[0m\u001b[1;33m\u001b[0m\u001b[0m\n\u001b[0m\u001b[0;32m     16\u001b[0m \u001b[1;31m#womenaccepted=pd.DataFrame(womenaccepted, columns=['Women accepted in department'])\u001b[0m\u001b[1;33m\u001b[0m\u001b[1;33m\u001b[0m\u001b[1;33m\u001b[0m\u001b[0m\n\u001b[0;32m     17\u001b[0m \u001b[1;33m\u001b[0m\u001b[0m\n",
      "\u001b[1;32m~\\anaconda3\\lib\\site-packages\\pandas\\core\\generic.py\u001b[0m in \u001b[0;36m__setattr__\u001b[1;34m(self, name, value)\u001b[0m\n\u001b[0;32m   5285\u001b[0m         \u001b[1;32mtry\u001b[0m\u001b[1;33m:\u001b[0m\u001b[1;33m\u001b[0m\u001b[1;33m\u001b[0m\u001b[0m\n\u001b[0;32m   5286\u001b[0m             \u001b[0mobject\u001b[0m\u001b[1;33m.\u001b[0m\u001b[0m__getattribute__\u001b[0m\u001b[1;33m(\u001b[0m\u001b[0mself\u001b[0m\u001b[1;33m,\u001b[0m \u001b[0mname\u001b[0m\u001b[1;33m)\u001b[0m\u001b[1;33m\u001b[0m\u001b[1;33m\u001b[0m\u001b[0m\n\u001b[1;32m-> 5287\u001b[1;33m             \u001b[1;32mreturn\u001b[0m \u001b[0mobject\u001b[0m\u001b[1;33m.\u001b[0m\u001b[0m__setattr__\u001b[0m\u001b[1;33m(\u001b[0m\u001b[0mself\u001b[0m\u001b[1;33m,\u001b[0m \u001b[0mname\u001b[0m\u001b[1;33m,\u001b[0m \u001b[0mvalue\u001b[0m\u001b[1;33m)\u001b[0m\u001b[1;33m\u001b[0m\u001b[1;33m\u001b[0m\u001b[0m\n\u001b[0m\u001b[0;32m   5288\u001b[0m         \u001b[1;32mexcept\u001b[0m \u001b[0mAttributeError\u001b[0m\u001b[1;33m:\u001b[0m\u001b[1;33m\u001b[0m\u001b[1;33m\u001b[0m\u001b[0m\n\u001b[0;32m   5289\u001b[0m             \u001b[1;32mpass\u001b[0m\u001b[1;33m\u001b[0m\u001b[1;33m\u001b[0m\u001b[0m\n",
      "\u001b[1;32mpandas\\_libs\\properties.pyx\u001b[0m in \u001b[0;36mpandas._libs.properties.AxisProperty.__set__\u001b[1;34m()\u001b[0m\n",
      "\u001b[1;32m~\\anaconda3\\lib\\site-packages\\pandas\\core\\generic.py\u001b[0m in \u001b[0;36m_set_axis\u001b[1;34m(self, axis, labels)\u001b[0m\n\u001b[0;32m    659\u001b[0m \u001b[1;33m\u001b[0m\u001b[0m\n\u001b[0;32m    660\u001b[0m     \u001b[1;32mdef\u001b[0m \u001b[0m_set_axis\u001b[0m\u001b[1;33m(\u001b[0m\u001b[0mself\u001b[0m\u001b[1;33m,\u001b[0m \u001b[0maxis\u001b[0m\u001b[1;33m,\u001b[0m \u001b[0mlabels\u001b[0m\u001b[1;33m)\u001b[0m \u001b[1;33m->\u001b[0m \u001b[1;32mNone\u001b[0m\u001b[1;33m:\u001b[0m\u001b[1;33m\u001b[0m\u001b[1;33m\u001b[0m\u001b[0m\n\u001b[1;32m--> 661\u001b[1;33m         \u001b[0mself\u001b[0m\u001b[1;33m.\u001b[0m\u001b[0m_data\u001b[0m\u001b[1;33m.\u001b[0m\u001b[0mset_axis\u001b[0m\u001b[1;33m(\u001b[0m\u001b[0maxis\u001b[0m\u001b[1;33m,\u001b[0m \u001b[0mlabels\u001b[0m\u001b[1;33m)\u001b[0m\u001b[1;33m\u001b[0m\u001b[1;33m\u001b[0m\u001b[0m\n\u001b[0m\u001b[0;32m    662\u001b[0m         \u001b[0mself\u001b[0m\u001b[1;33m.\u001b[0m\u001b[0m_clear_item_cache\u001b[0m\u001b[1;33m(\u001b[0m\u001b[1;33m)\u001b[0m\u001b[1;33m\u001b[0m\u001b[1;33m\u001b[0m\u001b[0m\n\u001b[0;32m    663\u001b[0m \u001b[1;33m\u001b[0m\u001b[0m\n",
      "\u001b[1;32m~\\anaconda3\\lib\\site-packages\\pandas\\core\\internals\\managers.py\u001b[0m in \u001b[0;36mset_axis\u001b[1;34m(self, axis, new_labels)\u001b[0m\n\u001b[0;32m    175\u001b[0m \u001b[1;33m\u001b[0m\u001b[0m\n\u001b[0;32m    176\u001b[0m         \u001b[1;32mif\u001b[0m \u001b[0mnew_len\u001b[0m \u001b[1;33m!=\u001b[0m \u001b[0mold_len\u001b[0m\u001b[1;33m:\u001b[0m\u001b[1;33m\u001b[0m\u001b[1;33m\u001b[0m\u001b[0m\n\u001b[1;32m--> 177\u001b[1;33m             raise ValueError(\n\u001b[0m\u001b[0;32m    178\u001b[0m                 \u001b[1;34mf\"Length mismatch: Expected axis has {old_len} elements, new \"\u001b[0m\u001b[1;33m\u001b[0m\u001b[1;33m\u001b[0m\u001b[0m\n\u001b[0;32m    179\u001b[0m                 \u001b[1;34mf\"values have {new_len} elements\"\u001b[0m\u001b[1;33m\u001b[0m\u001b[1;33m\u001b[0m\u001b[0m\n",
      "\u001b[1;31mValueError\u001b[0m: Length mismatch: Expected axis has 1 elements, new values have 2 elements"
     ]
    }
   ],
   "source": [
    "#Now lets plot the number of women that applied agains the ones that were accepted: \n",
    "\n",
    "\n",
    "womenapplied=np.random.randint(10,size=26)\n",
    "\n",
    "np.random.seed(42)\n",
    "\n",
    "\n",
    "#Women accepted in department:\n",
    "\n",
    "womenaccepted=np.random.randint(10,size=26)\n",
    "\n",
    "\n",
    "womendata=pd.DataFrame(womenapplied,womenaccepted)\n",
    "womendata.columns=['Women applied to department','Women accepted in department']\n",
    "#womenaccepted=pd.DataFrame(womenaccepted, columns=['Women accepted in department'])\n",
    "\n",
    "print(womendata)\n",
    "\n",
    "#print(womenaccepted)\n",
    "\n",
    "\n",
    "\n"
   ]
  },
  {
   "cell_type": "code",
   "execution_count": 15,
   "metadata": {},
   "outputs": [
    {
     "ename": "NameError",
     "evalue": "name 'AppliedDataA' is not defined",
     "output_type": "error",
     "traceback": [
      "\u001b[1;31m---------------------------------------------------------------------------\u001b[0m",
      "\u001b[1;31mNameError\u001b[0m                                 Traceback (most recent call last)",
      "\u001b[1;32m<ipython-input-15-2901946d9e5e>\u001b[0m in \u001b[0;36m<module>\u001b[1;34m\u001b[0m\n\u001b[0;32m     13\u001b[0m \u001b[1;33m\u001b[0m\u001b[0m\n\u001b[0;32m     14\u001b[0m \u001b[1;33m\u001b[0m\u001b[0m\n\u001b[1;32m---> 15\u001b[1;33m \u001b[0mprint\u001b[0m\u001b[1;33m(\u001b[0m\u001b[0mAppliedDataA\u001b[0m\u001b[1;33m)\u001b[0m\u001b[1;33m\u001b[0m\u001b[1;33m\u001b[0m\u001b[0m\n\u001b[0m\u001b[0;32m     16\u001b[0m \u001b[1;33m\u001b[0m\u001b[0m\n",
      "\u001b[1;31mNameError\u001b[0m: name 'AppliedDataA' is not defined"
     ]
    }
   ],
   "source": [
    "#Different approach using the procedure explained here: http://www.degeneratestate.org/posts/2017/Oct/22/generating\n",
    "#-examples-of-simpsons-paradox/ \n",
    "\n",
    "#first I import the needed modules: \n",
    "\n",
    "import numpy as np\n",
    "import pandas as pd\n",
    "import matplotlib.pyplot as plt\n",
    "import seaborn as sns\n",
    "\n",
    "%matplotlib inline\n",
    "\n",
    "\n",
    "\n",
    "print(AppliedDataA)\n",
    "\n"
   ]
  },
  {
   "cell_type": "markdown",
   "metadata": {},
   "source": [
    "Considering the amount of women that applied vs the ones accepted , we can observe that considering x= as women that applied and y=as the ones accepted in the departments it appears that there is  a negative correlation, see below : "
   ]
  },
  {
   "cell_type": "code",
   "execution_count": null,
   "metadata": {},
   "outputs": [],
   "source": []
  },
  {
   "cell_type": "code",
   "execution_count": null,
   "metadata": {},
   "outputs": [],
   "source": []
  },
  {
   "cell_type": "code",
   "execution_count": null,
   "metadata": {},
   "outputs": [],
   "source": []
  }
 ],
 "metadata": {
  "kernelspec": {
   "display_name": "Python 3",
   "language": "python",
   "name": "python3"
  },
  "language_info": {
   "codemirror_mode": {
    "name": "ipython",
    "version": 3
   },
   "file_extension": ".py",
   "mimetype": "text/x-python",
   "name": "python",
   "nbconvert_exporter": "python",
   "pygments_lexer": "ipython3",
   "version": "3.8.3"
  }
 },
 "nbformat": 4,
 "nbformat_minor": 4
}
