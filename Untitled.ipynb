{
 "cells": [
  {
   "cell_type": "code",
   "execution_count": 1,
   "metadata": {},
   "outputs": [
    {
     "ename": "AttributeError",
     "evalue": "module 'matplotlib' has no attribute 'plot'",
     "output_type": "error",
     "traceback": [
      "\u001b[1;31m---------------------------------------------------------------------------\u001b[0m",
      "\u001b[1;31mAttributeError\u001b[0m                            Traceback (most recent call last)",
      "\u001b[1;32m<ipython-input-1-b3566a0f71b3>\u001b[0m in \u001b[0;36m<module>\u001b[1;34m\u001b[0m\n\u001b[0;32m      9\u001b[0m \u001b[0my\u001b[0m\u001b[1;33m=\u001b[0m\u001b[1;33m[\u001b[0m\u001b[1;36m28\u001b[0m\u001b[1;33m,\u001b[0m \u001b[1;36m79\u001b[0m\u001b[1;33m]\u001b[0m\u001b[1;33m\u001b[0m\u001b[1;33m\u001b[0m\u001b[0m\n\u001b[0;32m     10\u001b[0m \u001b[1;33m\u001b[0m\u001b[0m\n\u001b[1;32m---> 11\u001b[1;33m \u001b[0mplt\u001b[0m\u001b[1;33m.\u001b[0m\u001b[0mplot\u001b[0m\u001b[1;33m(\u001b[0m\u001b[0mx\u001b[0m\u001b[1;33m,\u001b[0m\u001b[0my\u001b[0m\u001b[1;33m)\u001b[0m\u001b[1;33m\u001b[0m\u001b[1;33m\u001b[0m\u001b[0m\n\u001b[0m\u001b[0;32m     12\u001b[0m \u001b[1;33m\u001b[0m\u001b[0m\n\u001b[0;32m     13\u001b[0m \u001b[0mplt\u001b[0m\u001b[1;33m.\u001b[0m\u001b[0mshow\u001b[0m\u001b[1;33m(\u001b[0m\u001b[1;33m)\u001b[0m\u001b[1;33m\u001b[0m\u001b[1;33m\u001b[0m\u001b[0m\n",
      "\u001b[1;31mAttributeError\u001b[0m: module 'matplotlib' has no attribute 'plot'"
     ]
    }
   ],
   "source": [
    "#Bringing a1 here as I need to make sure its sum for day 1 is 341 or smaller but bigger than b1 (103)\n",
    "import numpy as np\n",
    "import matplotlib.pyplot as plt\n",
    "import matplotlib\n",
    "import seaborn as sns\n"
   ]
  },
  {
   "cell_type": "code",
   "execution_count": 11,
   "metadata": {},
   "outputs": [
    {
     "name": "stdout",
     "output_type": "stream",
     "text": [
      "Results of day 1\n",
      "[13 16  1  4  4  8 10  5  7 13  2  7  8 15 18  6 14  9 10 17  6 16 16  1\n",
      "  4 18 15  8  1  2 10  1 11  4 12  3  1  1  5  6]\n",
      "328\n"
     ]
    }
   ],
   "source": [
    "\n",
    "#generating random samples of desired size that I am going to transform into arrays with numpy random choice:\n",
    "\n",
    "#Day1 \n",
    "print('Results of day 1')\n",
    "\n",
    "#a1 and b1:\n",
    "\n",
    "np.random.seed(0)\n",
    "\n",
    "#Total population = 60\n",
    "\n",
    "a1randint= np.random.randint(1,19,40)#Initially values from drug a1 seem to indicate this is a more effective drug\n",
    "\n",
    "\n",
    "print(a1randint)\n",
    "\n",
    "a1_sum = sum(a1randint)\n",
    "\n",
    "print(a1_sum)"
   ]
  },
  {
   "cell_type": "code",
   "execution_count": 18,
   "metadata": {},
   "outputs": [
    {
     "name": "stdout",
     "output_type": "stream",
     "text": [
      "Results of day 2\n",
      "[13  6  1  4 12  4  8 10  4  6  3  5  8  7  9  9 13 11  2  7]\n",
      "142\n"
     ]
    }
   ],
   "source": [
    "#now I need b2 (drug b day 2) to be  smaller than 223\n",
    "\n",
    "print('Results of day 2')\n",
    "\n",
    "#a1 and b1:\n",
    "\n",
    "np.random.seed(0)\n",
    "\n",
    "#Total population = 60\n",
    "\n",
    "b2randint= np.random.randint(1,15,20)#Initially values from drug a1 seem to indicate this is a more effective drug\n",
    "\n",
    "\n",
    "print(b2randint)\n",
    "\n",
    "b2_sum = sum(b2randint)\n",
    "\n",
    "print(b2_sum)"
   ]
  },
  {
   "cell_type": "code",
   "execution_count": 19,
   "metadata": {},
   "outputs": [
    {
     "name": "stdout",
     "output_type": "stream",
     "text": [
      "These are a1 values for the 40 instances that were tested:\n",
      "[15 11 11 10 19 10  6 14 18  6 18 18 16  3  6 10 18 18 10 18  3  8 11 19\n",
      "  5  8  3  8 15 12 18 18  6 10 10 17 10  5  3 19]\n",
      "------------------------------------------------------------\n",
      "These are b1 values for the 20 instances that were tested:\n",
      "[5 9 4 1 7 1 5 5 3 1 8 4 7 5 3 6 9 7 7 6]\n",
      "------------------------------------------------------------\n",
      "This is the sum of all a1 instances:\n",
      "463\n",
      "------------------------------------------------------------\n",
      "This is the sum of all b1 instances:\n",
      "103\n",
      "These are a2 values for the 25 instances that were tested:\n",
      "[18  6  8 12  9 15 17 18 16  5  8  3  6  3 11 16 14 17  8  5 18 18  8  8\n",
      "  6]\n",
      "------------------------------------------------------------\n",
      "These are b2 values for the 35 instances that were tested:\n",
      "[ 2 16 21  2 18 16 12 20 14 12  6 23  9 16 12 23  5 12 18 14 16  5  2 10\n",
      " 12 24 12  9 14  5 10 13 16  8  6]\n"
     ]
    }
   ],
   "source": [
    "## Saving the random choice thingies here just in case\n",
    "\n",
    "\n",
    "#Day 1: \n",
    "\n",
    "np.random.seed(0)\n",
    "\n",
    "a1=np.random.choice([15,  3,  9, 11,  3,  3,  6,  2, 11, 19, 13,  8, 16,  8, 17,  8, 8, 10, 12, 10,  5,  6,  8, 18,\n",
    " 18,  3,  4,  9,  6,  6,  1, 18,  5, 18, 13, 18, 14, 18,  6, 10],size=40)\n",
    "\n",
    "b1=np.random.choice([5, 7, 1, 4, 3, 1, 8, 6, 4, 6, 9, 1, 8, 2, 9, 5, 3, 7, 7, 8],size=20)\n",
    "\n",
    "print('These are a1 values for the 40 instances that were tested:')\n",
    "print(a1)\n",
    "\n",
    "print('------------------------------------------------------------')\n",
    "print('These are b1 values for the 20 instances that were tested:')\n",
    "print(b1)\n",
    "\n",
    "\n",
    "#now we find the sum of this array to show the total of a1 and b1 and show with a bar char\n",
    "# I am using sum function\n",
    "a1_sum = sum(a1) \n",
    "\n",
    "print('------------------------------------------------------------')\n",
    "print('This is the sum of all a1 instances:')\n",
    "print(a1_sum) \n",
    "\n",
    "#now we find the sum for b1:\n",
    "b1_sum = sum(b1) \n",
    "\n",
    "print('------------------------------------------------------------')\n",
    "print('This is the sum of all b1 instances:')\n",
    "print(b1_sum) \n",
    "\n",
    "\n",
    "\n",
    "#Day 2:\n",
    "\n",
    "a2=np.random.choice([15,  3, 9, 11,  3,  3,  6,  2, 11, 19, 13,  8, 16,  8, 17,  8,  8, 10, 12, 10,  5,  6,  8, 18,\n",
    " 18,  3,  4,  9,  6,  6,  1, 18,  5, 18, 13, 18, 14, 18,  6, 10],size=25, )\n",
    "\n",
    "b2=np.random.choice([16, 24,  5, 14, 19,  2, 24, 18, 15,  9, 12, 14, 13,  6, 12,  8, 10,  2, 16,  8,  5, 23,  9, 23,\n",
    " 17, 24,  6, 10, 15, 20, 18, 21, 13,  3, 12],size=35)\n",
    "\n",
    "print('These are a2 values for the 25 instances that were tested:')\n",
    "print(a2)\n",
    "\n",
    "print('------------------------------------------------------------')\n",
    "print('These are b2 values for the 35 instances that were tested:')\n",
    "print(b2)\n",
    "\n",
    "\n"
   ]
  },
  {
   "cell_type": "code",
   "execution_count": null,
   "metadata": {},
   "outputs": [],
   "source": []
  }
 ],
 "metadata": {
  "kernelspec": {
   "display_name": "Python 3",
   "language": "python",
   "name": "python3"
  },
  "language_info": {
   "codemirror_mode": {
    "name": "ipython",
    "version": 3
   },
   "file_extension": ".py",
   "mimetype": "text/x-python",
   "name": "python",
   "nbconvert_exporter": "python",
   "pygments_lexer": "ipython3",
   "version": "3.8.3"
  }
 },
 "nbformat": 4,
 "nbformat_minor": 4
}
