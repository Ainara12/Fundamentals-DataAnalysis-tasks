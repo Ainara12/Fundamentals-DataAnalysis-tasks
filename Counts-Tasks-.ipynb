{
 "cells": [
  {
   "cell_type": "markdown",
   "metadata": {},
   "source": [
    "## Fundamentals of Data Analysis  MODULE TASKS 2020\n",
    "\n",
    "In this notebook I am listing the 4 tasks to complete for this Fundamentals of Data Analysis module.\n",
    "\n",
    "Table of contents:\n",
    "\n",
    "- Task 1.\n",
    "- Task 2.\n",
    "- Task 3.\n",
    "- Task 4.\n"
   ]
  },
  {
   "cell_type": "markdown",
   "metadata": {},
   "source": [
    "### Task 1. 'Counts':\n",
    "\n",
    "\n",
    "For this module's first task I am playing around with Jupyter Notebooks by creating a function called 'Counts' \n",
    "which takes a list as input and returns a dictionary of unique items in the list as keys and the number of times each item appears as values.We are not allowed to use built in modules\n",
    "\n",
    "References\n",
    "\n",
    "- [Count methods for strings](https://www.programiz.com/python-programming/methods/string/count#:~:text=In%20simple%20words%2C%20count(),string.)\n",
    "\n",
    "    \n"
   ]
  },
  {
   "cell_type": "code",
   "execution_count": null,
   "metadata": {},
   "outputs": [],
   "source": [
    "def Mydictionary.items()\n",
    "    for key, value in Mydictionary.items(): \n",
    "        return (\"% d : % d\"%(key, value)) \n",
    "   "
   ]
  },
  {
   "cell_type": "code",
   "execution_count": null,
   "metadata": {},
   "outputs": [],
   "source": [
    "\n",
    "\n",
    "\n",
    "def counts(Mylist):\n",
    "    Mylist=[]\n",
    "    Mydictionary ={}\n",
    "    scount= Mylist.count\n",
    "    for item in Mylist:\n",
    "            if (item in scount):\n",
    "                    Mydictionary[item]+=1\n",
    "            elif(item not in scount):\n",
    "                   Mydictionary[item]=1\n",
    "            \n",
    "   #In order to avoid error 'list' is not callable. I defined here what must be printed as result of this function:\n",
    "   \n",
    "\n",
    "\n",
    "print(counts(['A','B','D','D']))\n",
    "            \n",
    "        \n",
    "        \n",
    "\n",
    "            \n",
    "        \n",
    "        \n",
    "    "
   ]
  },
  {
   "cell_type": "code",
   "execution_count": null,
   "metadata": {
    "scrolled": true
   },
   "outputs": [],
   "source": [
    "#trying some parts of the code: \n",
    "\n",
    "\n",
    "Mylist=['A','B','D','D']\n",
    "\n",
    "count= Mylist.count('G')\n",
    "\n",
    "count\n",
    "\n",
    "\n"
   ]
  },
  {
   "cell_type": "markdown",
   "metadata": {},
   "source": []
  },
  {
   "cell_type": "markdown",
   "metadata": {},
   "source": [
    "### Task 2. 'Dicerolls':\n",
    "\n",
    "For this task we are asked to create a function called 'dicerolls' that simulates a rolling dice. The function takes 2 parameters number of dice 'k' and the number of times to roll the dice 'n'. Function will simulate randomly rolling dice and keep track of each total face value\n",
    "so it then returns a dictionary with the number of times each possible total face value occurred. \n",
    "\n",
    "\n",
    "References:\n",
    "\n",
    "- [numpy.random.randint documentation](https://numpy.org/doc/stable/reference/random/generated/numpy.random.randint.html?highlight=random%20randint#numpy.random.randint)\n",
    "\n",
    "- [Random library documentation](https//docs.python.org/3.1/library/random.html) \n",
    "\n",
    "https://medium.com/@diskokarl/how-to-roll-dice-with-python-34865d83f53d\n",
    "\n",
    "  "
   ]
  },
  {
   "cell_type": "code",
   "execution_count": 1,
   "metadata": {},
   "outputs": [
    {
     "name": "stdout",
     "output_type": "stream",
     "text": [
      "None\n"
     ]
    }
   ],
   "source": [
    "import numpy as np\n",
    "import random \n",
    "\n",
    "\n",
    "def dice(k,n):\n",
    "    i = 0\n",
    "    diceroll= np.random.randint(1,6)\n",
    "    for i in range(n):\n",
    "        if k>= 1  and n>=1:\n",
    "            return diceroll (size=(n,6))\n",
    "        if k<1 and n<1:\n",
    "            print('These values are incorrect , please enter numbers in range 1-6')\n",
    "        \n",
    "\n",
    "\n",
    "\n",
    "print(dice(-1,-1))\n",
    "    \n",
    "\n",
    "    "
   ]
  },
  {
   "cell_type": "code",
   "execution_count": 2,
   "metadata": {},
   "outputs": [
    {
     "name": "stdout",
     "output_type": "stream",
     "text": [
      "Choose number of dice:   3\n",
      "How many times do you want to roll the dice(s)? : 4\n",
      "(0, 4, 100.0)\n"
     ]
    }
   ],
   "source": [
    "#defining variables:\n",
    "from collections import defaultdict\n",
    "\n",
    "diceNumber = int(input('Choose number of dice:   '))\n",
    "rolls = int(input('How many times do you want to roll the dice(s)? : ' ))\n",
    "\n",
    "\n",
    "sides = np.random.randint(1,6)\n",
    "\n",
    "d = defaultdict(int)\n",
    "\n",
    "for i in range(rolls):\n",
    "        d[sum( np.random.choice(sides) for d in range(diceNumber) )] += 1\n",
    "total = float(rolls)\n",
    "\n",
    "for k in sorted(d.keys()):\n",
    "        print((k, d[k], 100.0*d[k]/total))\n",
    "                \n",
    "    \n",
    "        #Took part of the code from this source: https://stackoverflow.com/questions/6576367/python-dice-simulator\n",
    "        #Consulted documentation about default dict: https://www.geeksforgeeks.org/defaultdict-in-python/\n",
    "        #Need to find a way to convert this outcome into a dictionary with the outcomes frequencies. \n"
   ]
  },
  {
   "cell_type": "markdown",
   "metadata": {},
   "source": [
    "### Task 3. 'Flipping coins':\n",
    "\n",
    "Taking into account the numpy.random.binomial function which can be used to mimic the flipping of a coin with 50/50 chance of heads or tails. \n",
    "Write some python code that simulates flipping a coin 100 times. Then run this code 1,000 times, keeping track of the number of heads in each of the 1,000 simulations. Select an appropriate plot to depict the resulting list of 1,000 numbers, showing that it roughly follows a bell-shaped curve. You should explain your work in a Markdown cell above the\n",
    "code.\n",
    "\n",
    "***\n",
    "References:\n",
    "\n",
    "- [Numpy random binomial function documentation](https://numpy.org/doc/stable/reference/random/generated/numpy.random.binomial.html)\n",
    "- []()\n",
    "- []()\n",
    "- []()\n",
    "\n",
    "\n",
    "***\n",
    "\n"
   ]
  },
  {
   "cell_type": "code",
   "execution_count": 28,
   "metadata": {},
   "outputs": [
    {
     "name": "stdout",
     "output_type": "stream",
     "text": [
      "[0 1 1 1 0 0 0 1 1 1 0 1 1 0 0 0 0 1 0 0 1 0 0 0 0 1 0 1 1 0 1 0 0 1 1 1 0\n",
      " 0 1 0 0 0 0 1 0 1 0 1 1 0 1 1 1 1 1 1 0 0 0 0 0 0 1 0 0 1 0 1 0 1 1 0 0 1\n",
      " 1 1 1 0 0 0 1 1 0 0 0 0 1 1 1 0 0 1 1 1 1 0 1 0 0 0]\n"
     ]
    },
    {
     "data": {
      "image/png": "[encoded data removed]",
      "text/plain": [
       "<Figure size 432x288 with 1 Axes>"
      ]
     },
     "metadata": {
      "needs_background": "light"
     },
     "output_type": "display_data"
    }
   ],
   "source": [
    "#First I create a function to flip a coin once, tested 100 times considering 1 is \n",
    "#head( represented as 1 for success) and  tail(represented as 0) , p is 0.5 for each option :\n",
    "\n",
    "import matplotlib.pyplot as plt \n",
    "import seaborn as sns\n",
    "\n",
    "n=1\n",
    "p=0.5\n",
    "\n",
    "np.random.seed(42)\n",
    "coin = np.random.binomial(n, p, 100)\n",
    "# result of flipping a a coin ince tested 100 times\n",
    "\n",
    "print (coin)\n",
    "\n",
    "#Lets plot this probability: \n",
    "\n",
    "sns.distplot(coin)\n",
    "\n",
    "plt.show()\n"
   ]
  },
  {
   "cell_type": "code",
   "execution_count": 29,
   "metadata": {},
   "outputs": [
    {
     "name": "stdout",
     "output_type": "stream",
     "text": [
      "[1 0 0 1 1 1 1 0 1 0 1 0 0 1 1 1 1 1 1 1 1 1 1 1 1 0 1 1 1 1 1 1 1 0 0 0 1\n",
      " 1 1 1 1 1 1 0 1 1 1 1 1 1 0 0 0 0 1 0 1 1 1 1 1 1 0 1 1 1 1 0 1 0 0 1 1 0\n",
      " 0 0 0 1 1 1 0 1 1 1 1 1 0 1 0 1 1 0 0 1 0 1 1 1 1 1]\n"
     ]
    },
    {
     "data": {
      "text/plain": [
       "<matplotlib.axes._subplots.AxesSubplot at 0x22be6deba30>"
      ]
     },
     "execution_count": 29,
     "metadata": {},
     "output_type": "execute_result"
    },
    {
     "data": {
      "image/png": "[encoded data removed]",
      "text/plain": [
       "<Figure size 432x288 with 1 Axes>"
      ]
     },
     "metadata": {
      "needs_background": "light"
     },
     "output_type": "display_data"
    }
   ],
   "source": [
    "#Here we modify 'p' to add some bias to the result, we select 'p>0.5' to produce more tails than heads:\n",
    "\n",
    "np.random.seed(42)\n",
    "n = 1\n",
    "p = 0.7\n",
    "\n",
    "coin=np.random.binomial(n, p, 100)\n",
    "\n",
    "print(coin)\n",
    "\n",
    "sns.distplot(coin)\n"
   ]
  },
  {
   "cell_type": "code",
   "execution_count": null,
   "metadata": {},
   "outputs": [],
   "source": []
  }
 ],
 "metadata": {
  "kernelspec": {
   "display_name": "Python 3",
   "language": "python",
   "name": "python3"
  },
  "language_info": {
   "codemirror_mode": {
    "name": "ipython",
    "version": 3
   },
   "file_extension": ".py",
   "mimetype": "text/x-python",
   "name": "python",
   "nbconvert_exporter": "python",
   "pygments_lexer": "ipython3",
   "version": "3.8.3"
  }
 },
 "nbformat": 4,
 "nbformat_minor": 4
}
