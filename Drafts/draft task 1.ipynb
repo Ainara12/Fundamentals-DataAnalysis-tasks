{
 "cells": [
  {
   "cell_type": "code",
   "execution_count": 13,
   "metadata": {},
   "outputs": [
    {
     "ename": "NameError",
     "evalue": "name 'sortedresult' is not defined",
     "output_type": "error",
     "traceback": [
      "\u001b[1;31m---------------------------------------------------------------------------\u001b[0m",
      "\u001b[1;31mNameError\u001b[0m                                 Traceback (most recent call last)",
      "\u001b[1;32m<ipython-input-13-6b3ed163a4ac>\u001b[0m in \u001b[0;36m<module>\u001b[1;34m\u001b[0m\n\u001b[0;32m     21\u001b[0m \u001b[1;33m\u001b[0m\u001b[0m\n\u001b[0;32m     22\u001b[0m \u001b[1;31m#print(sorted_list(mylist))\u001b[0m\u001b[1;33m\u001b[0m\u001b[1;33m\u001b[0m\u001b[1;33m\u001b[0m\u001b[0m\n\u001b[1;32m---> 23\u001b[1;33m \u001b[0mprint\u001b[0m\u001b[1;33m(\u001b[0m\u001b[0mlisttodict\u001b[0m\u001b[1;33m(\u001b[0m\u001b[0msortedresult\u001b[0m\u001b[1;33m)\u001b[0m\u001b[1;33m)\u001b[0m\u001b[1;33m\u001b[0m\u001b[1;33m\u001b[0m\u001b[0m\n\u001b[0m\u001b[0;32m     24\u001b[0m \u001b[1;31m#Second function does not work when nested here , lets try again later. both functions are in cells below separated and work\u001b[0m\u001b[1;33m\u001b[0m\u001b[1;33m\u001b[0m\u001b[1;33m\u001b[0m\u001b[0m\n\u001b[0;32m     25\u001b[0m \u001b[1;31m#fine by themselves\u001b[0m\u001b[1;33m\u001b[0m\u001b[1;33m\u001b[0m\u001b[1;33m\u001b[0m\u001b[0m\n",
      "\u001b[1;31mNameError\u001b[0m: name 'sortedresult' is not defined"
     ]
    }
   ],
   "source": [
    "#Trying task 1 here since notebook seems to have issues to load: \n",
    "\n",
    "\n",
    "#Code to run this function   \n",
    "\n",
    "mylist=['D','A','D','B']\n",
    "\n",
    "\n",
    "def sorted_list(mylist):\n",
    "    sortedresult=(sorted(mylist))#I set up the result of this function to be the list entered ordeder with sorted method\n",
    "    #for letter in mylist:\n",
    "            #return sortedresult\n",
    "    def listtodict(sortedresult):     \n",
    "   # Creating an empty dictionary \n",
    "            dictcount={}\n",
    "            for i in sortedresult: \n",
    "                dictcount[i] = dictcount.get(i, 0) + 1\n",
    "            return dictcount\n",
    "            \n",
    "    #return(sorted_list(listtodict))\n",
    "\n",
    "#print(sorted_list(mylist))\n",
    "print(listtodict(sortedresult))\n",
    "#Second function does not work when nested here , lets try again later. both functions are in cells below separated and work\n",
    "#fine by themselves\n",
    "  "
   ]
  },
  {
   "cell_type": "markdown",
   "metadata": {},
   "source": [
    "### Separate fully functional functions under this heading"
   ]
  },
  {
   "cell_type": "code",
   "execution_count": 16,
   "metadata": {},
   "outputs": [
    {
     "name": "stdout",
     "output_type": "stream",
     "text": [
      "{'D': 2, 'A': 1, 'B': 1}\n"
     ]
    }
   ],
   "source": [
    "  \n",
    "def listtodict(mylist):     \n",
    "   # Creating an empty dictionary  \n",
    "    count = {} \n",
    "    for i in mylist: \n",
    "        count[i] = count.get(i, 0) + 1\n",
    "    return count \n",
    "    \n",
    "print(listtodict(['D','A','D','B']))"
   ]
  },
  {
   "cell_type": "code",
   "execution_count": 38,
   "metadata": {},
   "outputs": [
    {
     "name": "stdout",
     "output_type": "stream",
     "text": [
      "['A', 'B', 'D', 'D']\n"
     ]
    }
   ],
   "source": [
    "mylist=['D','A','D','B']\n",
    "\n",
    "\n",
    "def sorted_list(mylist):\n",
    "    sortedresult=(sorted(mylist))#I set up the result of this function to be the list entered ordeder with sorted method\n",
    "    for letter in mylist:\n",
    "            length=0\n",
    "            if letter == mylist:\n",
    "                count = count + 1 \n",
    "            else:\n",
    "                break\n",
    "    return sortedresult   \n",
    "\n",
    "print(sorted_list(mylist))"
   ]
  },
  {
   "cell_type": "code",
   "execution_count": 40,
   "metadata": {},
   "outputs": [],
   "source": [
    "mylist=['D','A','D','B']\n",
    "\n",
    "\n",
    "def sorted_list(mylist):\n",
    "    sortedresult=(sorted(mylist))#I set up the result of this function to be the list entered ordeder with sorted method\n",
    "    return sortedresult\n",
    "    for i in sortedresult: \n",
    "        count[i] = count.get(i, 0) + 1\n",
    "    print (sortedresult.count )\n",
    "    \n"
   ]
  },
  {
   "cell_type": "markdown",
   "metadata": {},
   "source": [
    "## DRAFTS OF DRAFTS"
   ]
  },
  {
   "cell_type": "code",
   "execution_count": 30,
   "metadata": {},
   "outputs": [
    {
     "ename": "KeyboardInterrupt",
     "evalue": "Interrupted by user",
     "output_type": "error",
     "traceback": [
      "\u001b[1;31m---------------------------------------------------------------------------\u001b[0m",
      "\u001b[1;31mKeyboardInterrupt\u001b[0m                         Traceback (most recent call last)",
      "\u001b[1;32m<ipython-input-30-6bf0e0a4fad1>\u001b[0m in \u001b[0;36m<module>\u001b[1;34m\u001b[0m\n\u001b[0;32m     26\u001b[0m \u001b[1;33m\u001b[0m\u001b[0m\n\u001b[0;32m     27\u001b[0m \u001b[1;31m#Code to run this function\u001b[0m\u001b[1;33m\u001b[0m\u001b[1;33m\u001b[0m\u001b[1;33m\u001b[0m\u001b[0m\n\u001b[1;32m---> 28\u001b[1;33m \u001b[0muser_input\u001b[0m\u001b[1;33m=\u001b[0m \u001b[0minput\u001b[0m\u001b[1;33m(\u001b[0m\u001b[1;34m'Please enter a list of elements:'\u001b[0m \u001b[1;33m)\u001b[0m\u001b[1;33m\u001b[0m\u001b[1;33m\u001b[0m\u001b[0m\n\u001b[0m\u001b[0;32m     29\u001b[0m \u001b[1;33m\u001b[0m\u001b[0m\n\u001b[0;32m     30\u001b[0m \u001b[0mprint\u001b[0m\u001b[1;33m(\u001b[0m\u001b[0mcounts\u001b[0m\u001b[1;33m(\u001b[0m\u001b[0muser_input\u001b[0m\u001b[1;33m)\u001b[0m\u001b[1;33m)\u001b[0m\u001b[1;33m\u001b[0m\u001b[1;33m\u001b[0m\u001b[0m\n",
      "\u001b[1;32m~\\anaconda3\\lib\\site-packages\\ipykernel\\kernelbase.py\u001b[0m in \u001b[0;36mraw_input\u001b[1;34m(self, prompt)\u001b[0m\n\u001b[0;32m    858\u001b[0m                 \u001b[1;34m\"raw_input was called, but this frontend does not support input requests.\"\u001b[0m\u001b[1;33m\u001b[0m\u001b[1;33m\u001b[0m\u001b[0m\n\u001b[0;32m    859\u001b[0m             )\n\u001b[1;32m--> 860\u001b[1;33m         return self._input_request(str(prompt),\n\u001b[0m\u001b[0;32m    861\u001b[0m             \u001b[0mself\u001b[0m\u001b[1;33m.\u001b[0m\u001b[0m_parent_ident\u001b[0m\u001b[1;33m,\u001b[0m\u001b[1;33m\u001b[0m\u001b[1;33m\u001b[0m\u001b[0m\n\u001b[0;32m    862\u001b[0m             \u001b[0mself\u001b[0m\u001b[1;33m.\u001b[0m\u001b[0m_parent_header\u001b[0m\u001b[1;33m,\u001b[0m\u001b[1;33m\u001b[0m\u001b[1;33m\u001b[0m\u001b[0m\n",
      "\u001b[1;32m~\\anaconda3\\lib\\site-packages\\ipykernel\\kernelbase.py\u001b[0m in \u001b[0;36m_input_request\u001b[1;34m(self, prompt, ident, parent, password)\u001b[0m\n\u001b[0;32m    902\u001b[0m             \u001b[1;32mexcept\u001b[0m \u001b[0mKeyboardInterrupt\u001b[0m\u001b[1;33m:\u001b[0m\u001b[1;33m\u001b[0m\u001b[1;33m\u001b[0m\u001b[0m\n\u001b[0;32m    903\u001b[0m                 \u001b[1;31m# re-raise KeyboardInterrupt, to truncate traceback\u001b[0m\u001b[1;33m\u001b[0m\u001b[1;33m\u001b[0m\u001b[1;33m\u001b[0m\u001b[0m\n\u001b[1;32m--> 904\u001b[1;33m                 \u001b[1;32mraise\u001b[0m \u001b[0mKeyboardInterrupt\u001b[0m\u001b[1;33m(\u001b[0m\u001b[1;34m\"Interrupted by user\"\u001b[0m\u001b[1;33m)\u001b[0m \u001b[1;32mfrom\u001b[0m \u001b[1;32mNone\u001b[0m\u001b[1;33m\u001b[0m\u001b[1;33m\u001b[0m\u001b[0m\n\u001b[0m\u001b[0;32m    905\u001b[0m             \u001b[1;32mexcept\u001b[0m \u001b[0mException\u001b[0m \u001b[1;32mas\u001b[0m \u001b[0me\u001b[0m\u001b[1;33m:\u001b[0m\u001b[1;33m\u001b[0m\u001b[1;33m\u001b[0m\u001b[0m\n\u001b[0;32m    906\u001b[0m                 \u001b[0mself\u001b[0m\u001b[1;33m.\u001b[0m\u001b[0mlog\u001b[0m\u001b[1;33m.\u001b[0m\u001b[0mwarning\u001b[0m\u001b[1;33m(\u001b[0m\u001b[1;34m\"Invalid Message:\"\u001b[0m\u001b[1;33m,\u001b[0m \u001b[0mexc_info\u001b[0m\u001b[1;33m=\u001b[0m\u001b[1;32mTrue\u001b[0m\u001b[1;33m)\u001b[0m\u001b[1;33m\u001b[0m\u001b[1;33m\u001b[0m\u001b[0m\n",
      "\u001b[1;31mKeyboardInterrupt\u001b[0m: Interrupted by user"
     ]
    }
   ],
   "source": [
    "#DONT DELETE THIS ONE!\n",
    "\n",
    "def counts(user_input):\n",
    "   \n",
    "    def sorted_list(mylist):\n",
    "        sortedresult=(sorted(mylist))#I set up the result of this function to be the list entered ordeder with sorted method\n",
    "        \n",
    "        return sortedresult   \n",
    "   \n",
    "    def listtodict(mylist):\n",
    "        sortedresult=(sorted(mylist))#\n",
    "        # Creating an empty dictionary \n",
    "        dcount={}\n",
    "        for letter in mylist:\n",
    "            length=0\n",
    "            if letter == mylist:\n",
    "                count = count + 1 \n",
    "            \n",
    "            else:\n",
    "                continue\n",
    "\n",
    "        for i in mylist:\n",
    "            dcount[i] = dcount.get(i, 0) + 1\n",
    "    return dcount \n",
    "  \n",
    "\n",
    "#Code to run this function   \n",
    "user_input= input('Please enter a list of elements:' )\n",
    "    \n",
    "print(counts(user_input))\n"
   ]
  },
  {
   "cell_type": "code",
   "execution_count": null,
   "metadata": {},
   "outputs": [],
   "source": [
    "#Trying with two functions instead of 3: \n",
    "\n",
    "\n",
    "def counts(user_input):\n",
    "    def sorted_list(mylist):\n",
    "        dcount={} \n",
    "        sortedresult=(sorted(mylist))#I set up the result of this function to be the list entered ordeder with sorted method\n",
    "        for letter in mylist:\n",
    "            length=0\n",
    "            if letter == mylist:\n",
    "                count = count + 1 \n",
    "            \n",
    "            else:\n",
    "                continue\n",
    "        for i in mylist:\n",
    "            dcount[i] = dcount.get(i, 0) + 1\n",
    "        \n",
    "        return sortedresult   \n",
    "    return dcount\n",
    "\n",
    "#Code to run this function   \n",
    "user_input= input('Please enter a list of elements:' )\n",
    "    \n",
    "print(counts(user_input))\n",
    "\n",
    "\n",
    "\n"
   ]
  },
  {
   "cell_type": "code",
   "execution_count": null,
   "metadata": {},
   "outputs": [],
   "source": [
    "def counts(user_input):\n",
    "    dcount={}\n",
    "    def sorted_list(dcount):\n",
    "        sortedresult=(sorted(dcount))#I set up the result of this function to be the list entered ordeder with sorted method\n",
    "        for letter in mylist:\n",
    "            length=0\n",
    "            if letter == mylist:\n",
    "                dcount = dcount + 1 \n",
    "            \n",
    "            else:\n",
    "                continue\n",
    "\n",
    "        return sortedresult   \n",
    "    return counts(user_input)  \n",
    "\n",
    "#Code to run this function   \n",
    "user_input= input('Please enter a list of elements:' )\n",
    "\n",
    "\n",
    "print(counts(user_input))\n"
   ]
  },
  {
   "cell_type": "code",
   "execution_count": null,
   "metadata": {},
   "outputs": [],
   "source": [
    "\n",
    "\n",
    "def counts(user_input):\n",
    "     #Code to run this function   \n",
    "    user_input= input('Please enter a list of elements:' )\n",
    "       \n",
    "    def sorted_list(mylist):\n",
    "        mylist=['B','C','A','A']\n",
    "        sortedresult=(sorted(mylist))#I set up the result of this function to be the list entered ordeder with sorted method\n",
    "        for letter in mylist:\n",
    "            length=0\n",
    "            if letter == mylist:\n",
    "                count = count + 1 \n",
    "            else:\n",
    "                break\n",
    "\n",
    "        return sortedresult   #I set up the result of this function to be the list entered ordeder with sorted method\n",
    "        \n",
    "    def listtodict(mylist):     \n",
    "   # Creating an empty dictionary \n",
    "            dcount={}\n",
    "            for i in mylist:\n",
    "                dcount[i] = dcount.get(i, 0) + 1\n",
    "                return dcount\n",
    "            \n",
    "            \n",
    "print(counts(user_input))"
   ]
  },
  {
   "cell_type": "code",
   "execution_count": null,
   "metadata": {},
   "outputs": [],
   "source": [
    "#trying another method. Inspired by task 3\n",
    "#first I am using the function listtodict and after I am sorting this dictionary as suggested in this post:\n",
    "\n",
    "'''https://stackoverflow.com/questions/9001509/how-can-i-sort-a-dictionary-by-key'''\n",
    "\n",
    "\n",
    "unsorted_dict= {2:3, 1:89, 4:5, 3:0}\n",
    "\n",
    "def sorteddict(unsorted_dict):\n",
    "    sorteddict={k:unsorted_dict[k] for k in sorted(unsorted_dict)}\n",
    "    for i in unsorted_dict:\n",
    "        return sorteddict\n",
    "    \n",
    "\n",
    "    \n",
    "print(sorteddict(unsorted_dict))\n",
    "\n",
    "    \n",
    "    "
   ]
  },
  {
   "cell_type": "code",
   "execution_count": null,
   "metadata": {},
   "outputs": [],
   "source": [
    "#Trying mixing both functions in a nested one\n",
    "\n",
    "mylist=['A','B','C','A','C']\n",
    "\n",
    "     \n",
    "    \n",
    "def listtodict(mylist):     \n",
    "   # Creating an empty dictionary \n",
    "        for i in mylist:\n",
    "            dcount={}\n",
    "            dcount[i] = dcount.get(i, 0) + 1\n",
    "            return dcount\n",
    "            \n",
    "print(listtodict(mylist))\n"
   ]
  },
  {
   "cell_type": "code",
   "execution_count": null,
   "metadata": {},
   "outputs": [],
   "source": []
  }
 ],
 "metadata": {
  "kernelspec": {
   "display_name": "Python 3",
   "language": "python",
   "name": "python3"
  },
  "language_info": {
   "codemirror_mode": {
    "name": "ipython",
    "version": 3
   },
   "file_extension": ".py",
   "mimetype": "text/x-python",
   "name": "python",
   "nbconvert_exporter": "python",
   "pygments_lexer": "ipython3",
   "version": "3.8.3"
  }
 },
 "nbformat": 4,
 "nbformat_minor": 4
}
