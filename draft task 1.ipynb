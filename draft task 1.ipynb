{
 "cells": [
  {
   "cell_type": "code",
   "execution_count": 22,
   "metadata": {},
   "outputs": [
    {
     "name": "stdout",
     "output_type": "stream",
     "text": [
      "['A', 'B', 'D', 'D']\n"
     ]
    }
   ],
   "source": [
    "#Trying task 1 here since notebook seems to have issues to load: \n",
    "\n",
    "\n",
    "#Code to run this function   \n",
    "\n",
    "mylist=['D','A','D','B']\n",
    "\n",
    "\n",
    "def sorted_list(mylist):\n",
    "    sortedresult=(sorted(mylist))#I set up the result of this function to be the list entered ordeder with sorted method\n",
    "    for letter in mylist:\n",
    "            return sortedresult\n",
    "    def listtodict(sortedresult):     \n",
    "   # Creating an empty dictionary \n",
    "            dictcount={}\n",
    "            for i in sortedresult: \n",
    "                dictcount[i] = dictcount.get(i, 0) + 1\n",
    "            return dictcount\n",
    "            \n",
    "    return(sorted_list(listodict))\n",
    "\n",
    "print(sorted_list(mylist))\n",
    "\n",
    "#Second function does not work when nested here , lets try again later. both functions are in cells below separated and work\n",
    "#fine by themselves\n",
    "  "
   ]
  },
  {
   "cell_type": "markdown",
   "metadata": {},
   "source": [
    "### Separate fully functional functions under this heading"
   ]
  },
  {
   "cell_type": "code",
   "execution_count": 20,
   "metadata": {},
   "outputs": [
    {
     "name": "stdout",
     "output_type": "stream",
     "text": [
      "{'D': 2, 'A': 1, 'B': 1}\n"
     ]
    }
   ],
   "source": [
    "  \n",
    "def listtodict(mylist):     \n",
    "   # Creating an empty dictionary  \n",
    "    count = {} \n",
    "    for i in mylist: \n",
    "        count[i] = count.get(i, 0) + 1\n",
    "    return count \n",
    "  \n",
    "\n",
    "    \n",
    "print(listtodict(['D','A','D','B']))"
   ]
  },
  {
   "cell_type": "code",
   "execution_count": null,
   "metadata": {},
   "outputs": [],
   "source": [
    "mylist=['D','A','D','B']\n",
    "\n",
    "\n",
    "def sorted_list(mylist):\n",
    "    sortedresult=(sorted(mylist))#I set up the result of this function to be the list entered ordeder with sorted method\n",
    "    for letter in mylist:\n",
    "            length=0\n",
    "            if letter == mylist:\n",
    "                count = count + 1 \n",
    "            else:\n",
    "                break\n",
    "    return sortedresult   \n",
    "\n",
    "print(sorted_list(mylist))"
   ]
  },
  {
   "cell_type": "markdown",
   "metadata": {},
   "source": [
    "## DRAFTS OF DRAFTS"
   ]
  },
  {
   "cell_type": "code",
   "execution_count": null,
   "metadata": {},
   "outputs": [],
   "source": [
    "#DONT DELETE THIS ONE!\n",
    "\n",
    "def counts(user_input):\n",
    "   \n",
    "    def sorted_list(mylist):\n",
    "        sortedresult=(sorted(mylist))#I set up the result of this function to be the list entered ordeder with sorted method\n",
    "        \n",
    "        return sortedresult   \n",
    "   \n",
    "    def listtodict(mylist):\n",
    "        sortedresult=(sorted(mylist))#\n",
    "        # Creating an empty dictionary \n",
    "        dcount={}\n",
    "        for letter in mylist:\n",
    "            length=0\n",
    "            if letter == mylist:\n",
    "                count = count + 1 \n",
    "            \n",
    "            else:\n",
    "                continue\n",
    "\n",
    "        for i in mylist:\n",
    "            dcount[i] = dcount.get(i, 0) + 1\n",
    "    return dcount \n",
    "  \n",
    "\n",
    "#Code to run this function   \n",
    "user_input= input('Please enter a list of elements:' )\n",
    "    \n",
    "print(counts(user_input))\n"
   ]
  },
  {
   "cell_type": "code",
   "execution_count": null,
   "metadata": {},
   "outputs": [],
   "source": [
    "#Trying with two functions instead of 3: \n",
    "\n",
    "\n",
    "def counts(user_input):\n",
    "    def sorted_list(mylist):\n",
    "        dcount={} \n",
    "        sortedresult=(sorted(mylist))#I set up the result of this function to be the list entered ordeder with sorted method\n",
    "        for letter in mylist:\n",
    "            length=0\n",
    "            if letter == mylist:\n",
    "                count = count + 1 \n",
    "            \n",
    "            else:\n",
    "                continue\n",
    "        for i in mylist:\n",
    "            dcount[i] = dcount.get(i, 0) + 1\n",
    "        \n",
    "        return sortedresult   \n",
    "    return dcount\n",
    "\n",
    "#Code to run this function   \n",
    "user_input= input('Please enter a list of elements:' )\n",
    "    \n",
    "print(counts(user_input))\n",
    "\n",
    "\n",
    "\n"
   ]
  },
  {
   "cell_type": "code",
   "execution_count": null,
   "metadata": {},
   "outputs": [],
   "source": [
    "def counts(user_input):\n",
    "    dcount={}\n",
    "    def sorted_list(dcount):\n",
    "        sortedresult=(sorted(dcount))#I set up the result of this function to be the list entered ordeder with sorted method\n",
    "        for letter in mylist:\n",
    "            length=0\n",
    "            if letter == mylist:\n",
    "                dcount = dcount + 1 \n",
    "            \n",
    "            else:\n",
    "                continue\n",
    "\n",
    "        return sortedresult   \n",
    "    return counts(user_input)  \n",
    "\n",
    "#Code to run this function   \n",
    "user_input= input('Please enter a list of elements:' )\n",
    "\n",
    "\n",
    "print(counts(user_input))\n"
   ]
  },
  {
   "cell_type": "code",
   "execution_count": null,
   "metadata": {},
   "outputs": [],
   "source": [
    "\n",
    "\n",
    "def counts(user_input):\n",
    "     #Code to run this function   \n",
    "    user_input= input('Please enter a list of elements:' )\n",
    "       \n",
    "    def sorted_list(mylist):\n",
    "        mylist=['B','C','A','A']\n",
    "        sortedresult=(sorted(mylist))#I set up the result of this function to be the list entered ordeder with sorted method\n",
    "        for letter in mylist:\n",
    "            length=0\n",
    "            if letter == mylist:\n",
    "                count = count + 1 \n",
    "            else:\n",
    "                break\n",
    "\n",
    "        return sortedresult   #I set up the result of this function to be the list entered ordeder with sorted method\n",
    "        \n",
    "    def listtodict(mylist):     \n",
    "   # Creating an empty dictionary \n",
    "            dcount={}\n",
    "            for i in mylist:\n",
    "                dcount[i] = dcount.get(i, 0) + 1\n",
    "                return dcount\n",
    "            \n",
    "            \n",
    "print(counts(user_input))"
   ]
  },
  {
   "cell_type": "code",
   "execution_count": null,
   "metadata": {},
   "outputs": [],
   "source": [
    "#trying another method. Inspired by task 3\n",
    "#first I am using the function listtodict and after I am sorting this dictionary as suggested in this post:\n",
    "\n",
    "'''https://stackoverflow.com/questions/9001509/how-can-i-sort-a-dictionary-by-key'''\n",
    "\n",
    "\n",
    "unsorted_dict= {2:3, 1:89, 4:5, 3:0}\n",
    "\n",
    "def sorteddict(unsorted_dict):\n",
    "    sorteddict={k:unsorted_dict[k] for k in sorted(unsorted_dict)}\n",
    "    for i in unsorted_dict:\n",
    "        return sorteddict\n",
    "    \n",
    "\n",
    "    \n",
    "print(sorteddict(unsorted_dict))\n",
    "\n",
    "    \n",
    "    "
   ]
  },
  {
   "cell_type": "code",
   "execution_count": null,
   "metadata": {},
   "outputs": [],
   "source": [
    "#Trying mixing both functions in a nested one\n",
    "\n",
    "mylist=['A','B','C','A','C']\n",
    "\n",
    "     \n",
    "    \n",
    "def listtodict(mylist):     \n",
    "   # Creating an empty dictionary \n",
    "        for i in mylist:\n",
    "            dcount={}\n",
    "            dcount[i] = dcount.get(i, 0) + 1\n",
    "            return dcount\n",
    "            \n",
    "print(listtodict(mylist))\n"
   ]
  },
  {
   "cell_type": "code",
   "execution_count": null,
   "metadata": {},
   "outputs": [],
   "source": []
  }
 ],
 "metadata": {
  "kernelspec": {
   "display_name": "Python 3",
   "language": "python",
   "name": "python3"
  },
  "language_info": {
   "codemirror_mode": {
    "name": "ipython",
    "version": 3
   },
   "file_extension": ".py",
   "mimetype": "text/x-python",
   "name": "python",
   "nbconvert_exporter": "python",
   "pygments_lexer": "ipython3",
   "version": "3.8.3"
  }
 },
 "nbformat": 4,
 "nbformat_minor": 4
}
